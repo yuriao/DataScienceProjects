{
  "nbformat": 4,
  "nbformat_minor": 0,
  "metadata": {
    "kernelspec": {
      "name": "python3",
      "display_name": "Python 3"
    },
    "colab": {
      "name": "stock_prediction_lstm_proj2.ipynb",
      "provenance": [],
      "collapsed_sections": [],
      "toc_visible": true,
      "include_colab_link": true
    },
    "accelerator": "GPU"
  },
  "cells": [
    {
      "cell_type": "markdown",
      "metadata": {
        "id": "view-in-github",
        "colab_type": "text"
      },
      "source": [
        "<a href=\"https://colab.research.google.com/github/yuriao/DataScienceProjects/blob/main/stock_prediction_lstm_proj2.ipynb\" target=\"_parent\"><img src=\"https://colab.research.google.com/assets/colab-badge.svg\" alt=\"Open In Colab\"/></a>"
      ]
    },
    {
      "cell_type": "markdown",
      "metadata": {
        "id": "NofvQKK5jhOd"
      },
      "source": [
        "# **Please Copy to your colab!!!**\n",
        "# **Don't modify this notebook!!!**"
      ]
    },
    {
      "cell_type": "markdown",
      "metadata": {
        "id": "vGbT1dgk2h0D"
      },
      "source": [
        "# Stock Prediction RNN \n",
        "\n",
        "In this project, I perform a time series prediction using a Recurrent Neural Network regressor. For this example, I will predict Apple's stock price 7 days in advance.\n",
        "\n",
        "The particular network architecture I will employ for my RNN is a  [Long Term Short Memory (LTSM)](https://en.wikipedia.org/wiki/Long_short-term_memory), which helps significantly avoid technical problems with optimization of RNNs."
      ]
    },
    {
      "cell_type": "markdown",
      "metadata": {
        "id": "vwPba0Jg2bSX"
      },
      "source": [
        "# Pytorch LSTM Stock Predictor\n",
        "\n",
        "This is a Pytorch version of the original Keras LSTM Stock Predictor provided by [Super DataScience](https://www.superdatascience.com/deep-learning/), and also available elsewhere in this repo as a notebook."
      ]
    },
    {
      "cell_type": "markdown",
      "metadata": {
        "id": "boG82OJt2n4g"
      },
      "source": [
        "## Step 1: Loading the data\n",
        "\n",
        "First let's load in our time series - a history of around 140 days of Apple's stock price. Then we need to perform a number of pre-processing steps to prepare it for use with an RNN model.  First off, it is good practice to normalize time series - by normalizing its range.  This helps us avoid serious numerical issues associated how common activation functions (like tanh) transform very large (positive or negative) numbers, as well as helping us to avoid related issues when computing derivatives.\n",
        "\n",
        "Here we normalize the series to lie in the range [0,1] [using this scikit function](http://scikit-learn.org/stable/modules/generated/sklearn.preprocessing.MinMaxScaler.html)."
      ]
    },
    {
      "cell_type": "code",
      "metadata": {
        "id": "6k-jrLoP20Fm",
        "colab": {
          "base_uri": "https://localhost:8080/",
          "height": 204
        },
        "outputId": "5192e325-ce27-4d29-deac-452dcc1c1813"
      },
      "source": [
        "# download the data\n",
        "!wget https://raw.githubusercontent.com/tonylaioffer/stock-prediction-lstm-using-keras/master/data/sandp500/all_stocks_5yr.csv"
      ],
      "execution_count": null,
      "outputs": [
        {
          "output_type": "stream",
          "text": [
            "--2020-07-22 06:31:57--  https://raw.githubusercontent.com/tonylaioffer/stock-prediction-lstm-using-keras/master/data/sandp500/all_stocks_5yr.csv\n",
            "Resolving raw.githubusercontent.com (raw.githubusercontent.com)... 151.101.0.133, 151.101.64.133, 151.101.128.133, ...\n",
            "Connecting to raw.githubusercontent.com (raw.githubusercontent.com)|151.101.0.133|:443... connected.\n",
            "HTTP request sent, awaiting response... 200 OK\n",
            "Length: 29580549 (28M) [text/plain]\n",
            "Saving to: ‘all_stocks_5yr.csv’\n",
            "\n",
            "all_stocks_5yr.csv  100%[===================>]  28.21M   101MB/s    in 0.3s    \n",
            "\n",
            "2020-07-22 06:31:59 (101 MB/s) - ‘all_stocks_5yr.csv’ saved [29580549/29580549]\n",
            "\n"
          ],
          "name": "stdout"
        }
      ]
    },
    {
      "cell_type": "code",
      "metadata": {
        "id": "3-8wHDYS28-m",
        "colab": {
          "base_uri": "https://localhost:8080/",
          "height": 34
        },
        "outputId": "8eeeef6b-abf9-4bcf-e720-0fb5e53489f0"
      },
      "source": [
        "!ls ."
      ],
      "execution_count": null,
      "outputs": [
        {
          "output_type": "stream",
          "text": [
            "all_stocks_5yr.csv  sample_data\n"
          ],
          "name": "stdout"
        }
      ]
    },
    {
      "cell_type": "code",
      "metadata": {
        "id": "lC_2yxKR2bSe"
      },
      "source": [
        "import numpy as np\n",
        "import pandas as pd\n",
        "import matplotlib.pyplot as plt\n",
        "\n",
        "import torch.nn as nn\n",
        "import torch\n",
        "from torch.autograd import Variable\n",
        "from torch.utils.data import Dataset, DataLoader"
      ],
      "execution_count": null,
      "outputs": []
    },
    {
      "cell_type": "code",
      "metadata": {
        "id": "BvFrixdV2bSw"
      },
      "source": [
        "# Importing the training set\n",
        "dataset = data = pd.read_csv('./all_stocks_5yr.csv')\n",
        "dataset_cl = dataset[dataset['Name']=='SWKS'].close.values\n",
        "\n",
        "# dataset_train = pd.read_csv('Google_Stock_Price_Train.csv')\n",
        "# training_set = dataset_train.iloc[:, 1:2].values"
      ],
      "execution_count": null,
      "outputs": []
    },
    {
      "cell_type": "code",
      "metadata": {
        "id": "XFvN25Yj3w9r"
      },
      "source": [
        "# Feature Scaling\n",
        "from sklearn.preprocessing import MinMaxScaler\n",
        "\n",
        "sc = MinMaxScaler(feature_range = (0, 1))\n",
        "\n",
        "# scale the data\n",
        "dataset_cl = dataset_cl.reshape(dataset_cl.shape[0], 1)\n",
        "dataset_cl = sc.fit_transform(dataset_cl)"
      ],
      "execution_count": null,
      "outputs": []
    },
    {
      "cell_type": "markdown",
      "metadata": {
        "id": "UURKEshg3g0G"
      },
      "source": [
        "## Step 2:  Cutting our time series into sequences\n",
        "\n",
        "Remember, our time series is a sequence of numbers that we can represent in general mathematically as \n",
        "\n",
        "$$s_{0},s_{1},s_{2},...,s_{P}$$\n",
        "\n",
        "where $s_{p}$ is the numerical value of the time series at time period $p$ and where $P$ is the total length of the series.  In order to apply our RNN we treat the time series prediction problem as a regression problem, and so need to use a sliding window to construct a set of associated input/output pairs to regress on.  This process is animated in the gif below.\n",
        "\n",
        "<img src=\"https://github.com/tonylaioffer/stock-prediction-lstm-using-keras/raw/master/images/timeseries_windowing_training.gif\" width=600 height=288/>\n",
        "\n",
        "For example - using a window of size T = 5 (as illustrated in the gif above) we produce a set of input/output pairs like the one shown in the table below\n",
        "\n",
        "$$\\begin{array}{c|c}\n",
        "\\text{Input} & \\text{Output}\\\\\n",
        "\\hline \\color{CornflowerBlue} {\\langle s_{1},s_{2},s_{3},s_{4},s_{5}\\rangle} & \\color{Goldenrod}{ s_{6}} \\\\\n",
        "\\ \\color{CornflowerBlue} {\\langle s_{2},s_{3},s_{4},s_{5},s_{6} \\rangle } & \\color{Goldenrod} {s_{7} } \\\\\n",
        "\\color{CornflowerBlue}  {\\vdots} & \\color{Goldenrod} {\\vdots}\\\\\n",
        "\\color{CornflowerBlue} { \\langle s_{P-5},s_{P-4},s_{P-3},s_{P-2},s_{P-1} \\rangle } & \\color{Goldenrod} {s_{P}}\n",
        "\\end{array}$$\n",
        "\n",
        "Notice here that each input is a sequence (or vector) of length 4 (and in general has length equal to the window size T) while each corresponding output is a scalar value.  Notice also how given a time series of length P and window size T = 5 as shown above, we created P - 5  input/output pairs.  More generally, for a window size T we create P - T such pairs.\n",
        "\n",
        "Now let's window the input time series as described above!  "
      ]
    },
    {
      "cell_type": "code",
      "metadata": {
        "id": "pvBLqRvm4L6k"
      },
      "source": [
        "#Create a function to process the data into 7 day look back slices\n",
        "def processData(data, lb):\n",
        "    X, Y = [], []\n",
        "    for i in range(len(data) - lb - 1):\n",
        "        X.append(data[i: (i + lb), 0])\n",
        "        Y.append(data[(i + lb), 0])\n",
        "    return np.array(X), np.array(Y)\n",
        "X, y = processData(dataset_cl, 7)\n"
      ],
      "execution_count": null,
      "outputs": []
    },
    {
      "cell_type": "markdown",
      "metadata": {
        "id": "yHsQGQ_V42G0"
      },
      "source": [
        "## Step 3: Split training and testing sets\n",
        "\n",
        "In order to perform proper testing on our dataset we will lop off the last 1/3 of it for validation (or testing).  \n",
        "\n",
        "Note how here we are **not** splitting the dataset *randomly* as one typically would do when validating a regression model.  This is because our input/output pairs *are related temporally*.   We don't want to validate our model by training on a random subset of the series and then testing on another random subset, as this simulates the scenario that we receive new points *within the timeframe of our training set*.  \n",
        "\n",
        "We want to train on one solid chunk of the series (in our case, the first full 2/3 of it), and validate on a later chunk (the last 1/3) as this simulates how we would predict *future* values of a time series."
      ]
    },
    {
      "cell_type": "code",
      "metadata": {
        "id": "syFXDlpn45xA",
        "colab": {
          "base_uri": "https://localhost:8080/",
          "height": 85
        },
        "outputId": "0c2dc915-8290-4971-c336-374ff9bf6d9a"
      },
      "source": [
        "X_train, X_test = X[:int(X.shape[0]*0.80)],X[int(X.shape[0]*0.80):]\n",
        "y_train, y_test = y[:int(y.shape[0]*0.80)],y[int(y.shape[0]*0.80):]\n",
        "print(X_train.shape[0])\n",
        "print(X_test.shape[0])\n",
        "print(y_train.shape[0])\n",
        "print(y_test.shape[0])\n",
        "\n",
        "# reshaping\n",
        "X_train = np.reshape(X_train, (X_train.shape[0], 1, X_train.shape[1]))\n",
        "X_test = np.reshape(X_test, (X_test.shape[0], 1, X_test.shape[1]))"
      ],
      "execution_count": null,
      "outputs": [
        {
          "output_type": "stream",
          "text": [
            "1000\n",
            "251\n",
            "1000\n",
            "251\n"
          ],
          "name": "stdout"
        }
      ]
    },
    {
      "cell_type": "code",
      "metadata": {
        "id": "oPfVnOcm2bTF"
      },
      "source": [
        "# Reshaping\n",
        "# X_train = np.reshape(X_train, (X_train.shape[0], 1, X_train.shape[1]))"
      ],
      "execution_count": null,
      "outputs": []
    },
    {
      "cell_type": "markdown",
      "metadata": {
        "id": "GMXggue15R41"
      },
      "source": [
        "## Step 4:  Build and run an RNN regression model\n",
        "\n",
        "Having created input/output pairs out of our time series and cut this into training/testing sets, we can now begin setting up our RNN.  We use Keras to quickly build a two hidden layer RNN of the following specifications\n",
        "\n",
        "- layer 1 uses an LSTM module with 5 hidden units (note here the input_shape = (window_size,1))\n",
        "- layer 2 uses a fully connected module with one unit\n",
        "- the 'mean_squared_error' loss should be used"
      ]
    },
    {
      "cell_type": "code",
      "metadata": {
        "id": "HNWryPPg2bTM"
      },
      "source": [
        "class RNN(nn.Module):\n",
        "    def __init__(self, i_size, h_size, n_layers, o_size, dropout=0.1, bidirectional=True):\n",
        "        super(RNN, self).__init__()\n",
        "        self.num_directions = bidirectional+1\n",
        "        self.rnn = nn.LSTM(\n",
        "            input_size=i_size,\n",
        "            hidden_size=h_size,\n",
        "            num_layers=n_layers,\n",
        "            dropout=dropout,\n",
        "            bidirectional=bidirectional\n",
        "        )\n",
        "        self.out = nn.Linear(h_size, o_size)\n",
        "\n",
        "    def forward(self, x, h_state):\n",
        "        r_out, hidden_state = self.rnn(x, h_state)\n",
        "        \n",
        "        hidden_size = hidden_state[-1].size(-1)\n",
        "        r_out = r_out.view(-1, self.num_directions, hidden_size)\n",
        "        outs = self.out(r_out)\n",
        "        \n",
        "        return outs, hidden_state"
      ],
      "execution_count": null,
      "outputs": []
    },
    {
      "cell_type": "code",
      "metadata": {
        "id": "SwwPpVsK2bTQ"
      },
      "source": [
        "# Globals\n",
        "\n",
        "INPUT_SIZE = 7\n",
        "HIDDEN_SIZE = 64\n",
        "NUM_LAYERS = 3\n",
        "OUTPUT_SIZE = 1\n",
        "BATCH_SIZE = 128\n",
        "# Hyper parameters\n",
        "\n",
        "learning_rate = 0.001\n",
        "num_epochs = 300\n",
        "\n",
        "rnn = RNN(INPUT_SIZE, HIDDEN_SIZE, NUM_LAYERS, OUTPUT_SIZE,bidirectional=False)\n",
        "rnn.cuda()\n",
        "\n",
        "optimiser = torch.optim.Adam(rnn.parameters(), lr=learning_rate)\n",
        "criterion = nn.MSELoss()\n",
        "\n",
        "hidden_state = None"
      ],
      "execution_count": null,
      "outputs": []
    },
    {
      "cell_type": "code",
      "metadata": {
        "id": "BiQaghDCtNdg",
        "colab": {
          "base_uri": "https://localhost:8080/",
          "height": 85
        },
        "outputId": "df69e386-d881-4d88-ea09-bbd80e10470c"
      },
      "source": [
        "rnn"
      ],
      "execution_count": null,
      "outputs": [
        {
          "output_type": "execute_result",
          "data": {
            "text/plain": [
              "RNN(\n",
              "  (rnn): LSTM(7, 64, num_layers=3, dropout=0.1)\n",
              "  (out): Linear(in_features=64, out_features=1, bias=True)\n",
              ")"
            ]
          },
          "metadata": {
            "tags": []
          },
          "execution_count": 11
        }
      ]
    },
    {
      "cell_type": "code",
      "metadata": {
        "id": "olY5dc_sQ345",
        "colab": {
          "base_uri": "https://localhost:8080/",
          "height": 86
        },
        "outputId": "1cc9c432-c58b-4829-e799-513d0c81dbc3"
      },
      "source": [
        "\"\"\"\n",
        "class StockDataset(Dataset):\n",
        "    \n",
        "    def __init__(self, X_dataset, Y_dataset):\n",
        "        \n",
        "        self.X_dataset = torch.from_numpy(X_dataset)\n",
        "        self.Y_dataset = torch.from_numpy(Y_dataset)\n",
        "        \n",
        "    def __len__(self):\n",
        "        return np.shape(self.Y_dataset)[0]\n",
        "\n",
        "    def __getitem__(self, idx):\n",
        "        \n",
        "        sample = {'Sequence': self.X_dataset[:,idx,:], \"Target\": self.Y_dataset[idx]}\n",
        "      \n",
        "\n",
        "        return sample\n",
        "\"\"\""
      ],
      "execution_count": null,
      "outputs": [
        {
          "output_type": "execute_result",
          "data": {
            "application/vnd.google.colaboratory.intrinsic": {
              "type": "string"
            },
            "text/plain": [
              "'\\nclass StockDataset(Dataset):\\n    \\n    def __init__(self, X_dataset, Y_dataset):\\n        \\n        self.X_dataset = torch.from_numpy(X_dataset)\\n        self.Y_dataset = torch.from_numpy(Y_dataset)\\n        \\n    def __len__(self):\\n        return np.shape(self.Y_dataset)[0]\\n\\n    def __getitem__(self, idx):\\n        \\n        sample = {\\'Sequence\\': self.X_dataset[:,idx,:], \"Target\": self.Y_dataset[idx]}\\n      \\n\\n        return sample\\n'"
            ]
          },
          "metadata": {
            "tags": []
          },
          "execution_count": 12
        }
      ]
    },
    {
      "cell_type": "code",
      "metadata": {
        "id": "de3JU38uRp-S"
      },
      "source": [
        "# Train_ds=StockDataset(X_train, y_train)"
      ],
      "execution_count": null,
      "outputs": []
    },
    {
      "cell_type": "code",
      "metadata": {
        "id": "QlRhF5JP2bTX",
        "colab": {
          "base_uri": "https://localhost:8080/",
          "height": 1000
        },
        "outputId": "cc0ea2f0-eb12-4174-a5cb-fd77e37ea887"
      },
      "source": [
        "history = []\n",
        "X_test_cuda = torch.tensor(X_test).float().cuda()\n",
        "y_test_cuda = torch.tensor(y_test).float().cuda()\n",
        "\n",
        "# we use all the data in one batch\n",
        "inputs_cuda = torch.tensor(X_train).float().cuda()\n",
        "labels_cuda = torch.tensor(y_train).float().cuda()\n",
        "\n",
        "for epoch in range(num_epochs):\n",
        "    rnn.train()\n",
        "    output, _ = rnn(inputs_cuda, hidden_state) \n",
        "    # print(output.size())\n",
        "\n",
        "    loss = criterion(output[:,0,:].view(-1), labels_cuda)\n",
        "    optimiser.zero_grad()\n",
        "    loss.backward()                     # back propagation\n",
        "    optimiser.step()                    # update the parameters\n",
        "    \n",
        "    if epoch % 20 == 0:\n",
        "        rnn.eval()\n",
        "        test_output, _ = rnn(X_test_cuda, hidden_state)\n",
        "        test_loss = criterion(test_output.view(-1), y_test_cuda)\n",
        "        print('epoch {}, loss {}, eval loss {}'.format(epoch, loss.item(), test_loss.item()))\n",
        "    else:\n",
        "        print('epoch {}, loss {}'.format(epoch, loss.item()))\n",
        "    history.append(loss.item())"
      ],
      "execution_count": null,
      "outputs": [
        {
          "output_type": "stream",
          "text": [
            "epoch 0, loss 0.3530898988246918, eval loss 0.8763517737388611\n",
            "epoch 1, loss 0.32034310698509216\n",
            "epoch 2, loss 0.288117378950119\n",
            "epoch 3, loss 0.2564181685447693\n",
            "epoch 4, loss 0.22358006238937378\n",
            "epoch 5, loss 0.18949227035045624\n",
            "epoch 6, loss 0.1535922884941101\n",
            "epoch 7, loss 0.117123544216156\n",
            "epoch 8, loss 0.07935792952775955\n",
            "epoch 9, loss 0.0465887188911438\n",
            "epoch 10, loss 0.027329126372933388\n",
            "epoch 11, loss 0.04260720685124397\n",
            "epoch 12, loss 0.07097126543521881\n",
            "epoch 13, loss 0.06731559336185455\n",
            "epoch 14, loss 0.04966617003083229\n",
            "epoch 15, loss 0.03427502140402794\n",
            "epoch 16, loss 0.026757366955280304\n",
            "epoch 17, loss 0.025995370000600815\n",
            "epoch 18, loss 0.029208505526185036\n",
            "epoch 19, loss 0.03239896148443222\n",
            "epoch 20, loss 0.03533990681171417, eval loss 0.1372881531715393\n",
            "epoch 21, loss 0.03535500913858414\n",
            "epoch 22, loss 0.034019578248262405\n",
            "epoch 23, loss 0.0316493958234787\n",
            "epoch 24, loss 0.026990870013833046\n",
            "epoch 25, loss 0.021643180400133133\n",
            "epoch 26, loss 0.01678553596138954\n",
            "epoch 27, loss 0.013500576838850975\n",
            "epoch 28, loss 0.012296796776354313\n",
            "epoch 29, loss 0.013274737633764744\n",
            "epoch 30, loss 0.01516592875123024\n",
            "epoch 31, loss 0.01582646556198597\n",
            "epoch 32, loss 0.014257517643272877\n",
            "epoch 33, loss 0.010612181387841702\n",
            "epoch 34, loss 0.007426666561514139\n",
            "epoch 35, loss 0.005594943184405565\n",
            "epoch 36, loss 0.0055413865484297276\n",
            "epoch 37, loss 0.005973760969936848\n",
            "epoch 38, loss 0.007012325804680586\n",
            "epoch 39, loss 0.006923188921064138\n",
            "epoch 40, loss 0.0055270628072321415, eval loss 0.01857501082122326\n",
            "epoch 41, loss 0.0038585346192121506\n",
            "epoch 42, loss 0.0026710659731179476\n",
            "epoch 43, loss 0.0026453707832843065\n",
            "epoch 44, loss 0.003676441265270114\n",
            "epoch 45, loss 0.004577206913381815\n",
            "epoch 46, loss 0.00458873575553298\n",
            "epoch 47, loss 0.00346022704616189\n",
            "epoch 48, loss 0.0029163560830056667\n",
            "epoch 49, loss 0.0027290889993309975\n",
            "epoch 50, loss 0.003192281350493431\n",
            "epoch 51, loss 0.0036931850481778383\n",
            "epoch 52, loss 0.003734297351911664\n",
            "epoch 53, loss 0.003079749410971999\n",
            "epoch 54, loss 0.0030562900938093662\n",
            "epoch 55, loss 0.0024210913106799126\n",
            "epoch 56, loss 0.0026200551073998213\n",
            "epoch 57, loss 0.0030058142729103565\n",
            "epoch 58, loss 0.002831649500876665\n",
            "epoch 59, loss 0.0030956484843045473\n",
            "epoch 60, loss 0.002526952186599374, eval loss 0.011236694641411304\n",
            "epoch 61, loss 0.0024488684721291065\n",
            "epoch 62, loss 0.0023218051064759493\n",
            "epoch 63, loss 0.0024041698779910803\n",
            "epoch 64, loss 0.002403460443019867\n",
            "epoch 65, loss 0.0024235311429947615\n",
            "epoch 66, loss 0.002332084346562624\n",
            "epoch 67, loss 0.00234215403907001\n",
            "epoch 68, loss 0.002365365857258439\n",
            "epoch 69, loss 0.0023083239793777466\n",
            "epoch 70, loss 0.002548488788306713\n",
            "epoch 71, loss 0.0024927728809416294\n",
            "epoch 72, loss 0.002432647394016385\n",
            "epoch 73, loss 0.0024488589260727167\n",
            "epoch 74, loss 0.002341344952583313\n",
            "epoch 75, loss 0.0021334646735340357\n",
            "epoch 76, loss 0.002234248211607337\n",
            "epoch 77, loss 0.002246476709842682\n",
            "epoch 78, loss 0.002371536334976554\n",
            "epoch 79, loss 0.002376460237428546\n",
            "epoch 80, loss 0.002134776208549738, eval loss 0.0119697954505682\n",
            "epoch 81, loss 0.0023400564678013325\n",
            "epoch 82, loss 0.002313928911462426\n",
            "epoch 83, loss 0.0021443634759634733\n",
            "epoch 84, loss 0.0023097717203199863\n",
            "epoch 85, loss 0.0021915414836257696\n",
            "epoch 86, loss 0.0020652343519032\n",
            "epoch 87, loss 0.0022011210676282644\n",
            "epoch 88, loss 0.0021532627288252115\n",
            "epoch 89, loss 0.002017353195697069\n",
            "epoch 90, loss 0.002099726814776659\n",
            "epoch 91, loss 0.0022327362094074488\n",
            "epoch 92, loss 0.0020465017296373844\n",
            "epoch 93, loss 0.002180288312956691\n",
            "epoch 94, loss 0.002269563265144825\n",
            "epoch 95, loss 0.0022582225501537323\n",
            "epoch 96, loss 0.0020065344870090485\n",
            "epoch 97, loss 0.002249132376164198\n",
            "epoch 98, loss 0.002083699917420745\n",
            "epoch 99, loss 0.00211672973819077\n",
            "epoch 100, loss 0.0022005836945027113, eval loss 0.01122060976922512\n",
            "epoch 101, loss 0.002142302691936493\n",
            "epoch 102, loss 0.0020267826039344072\n",
            "epoch 103, loss 0.00218851282261312\n",
            "epoch 104, loss 0.002170688472688198\n",
            "epoch 105, loss 0.002109441440552473\n",
            "epoch 106, loss 0.0021190305706113577\n",
            "epoch 107, loss 0.0022001168690621853\n",
            "epoch 108, loss 0.002096356824040413\n",
            "epoch 109, loss 0.002010115422308445\n",
            "epoch 110, loss 0.0021411797497421503\n",
            "epoch 111, loss 0.0020863243844360113\n",
            "epoch 112, loss 0.001995754661038518\n",
            "epoch 113, loss 0.0020097584929317236\n",
            "epoch 114, loss 0.00206970889121294\n",
            "epoch 115, loss 0.00208009104244411\n",
            "epoch 116, loss 0.0020929111633449793\n",
            "epoch 117, loss 0.002039951039478183\n",
            "epoch 118, loss 0.0020272822584956884\n",
            "epoch 119, loss 0.002099832519888878\n",
            "epoch 120, loss 0.0020629765931516886, eval loss 0.010043559595942497\n",
            "epoch 121, loss 0.001906226621940732\n",
            "epoch 122, loss 0.0020680613815784454\n",
            "epoch 123, loss 0.0019821051973849535\n",
            "epoch 124, loss 0.0020153557416051626\n",
            "epoch 125, loss 0.002037083264440298\n",
            "epoch 126, loss 0.002014502650126815\n",
            "epoch 127, loss 0.0020700914319604635\n",
            "epoch 128, loss 0.001956191612407565\n",
            "epoch 129, loss 0.002009055344387889\n",
            "epoch 130, loss 0.0017719140741974115\n",
            "epoch 131, loss 0.0021589533425867558\n",
            "epoch 132, loss 0.00184314523357898\n",
            "epoch 133, loss 0.0019830476958304644\n",
            "epoch 134, loss 0.0018499050056561828\n",
            "epoch 135, loss 0.001921778079122305\n",
            "epoch 136, loss 0.0020560091361403465\n",
            "epoch 137, loss 0.001826895517297089\n",
            "epoch 138, loss 0.0019071674905717373\n",
            "epoch 139, loss 0.0019094471354037523\n",
            "epoch 140, loss 0.0018952913815155625, eval loss 0.009557192213833332\n",
            "epoch 141, loss 0.002015909180045128\n",
            "epoch 142, loss 0.0016004442004486918\n",
            "epoch 143, loss 0.0016741681611165404\n",
            "epoch 144, loss 0.0018889147322624922\n",
            "epoch 145, loss 0.001825632294639945\n",
            "epoch 146, loss 0.001766027300618589\n",
            "epoch 147, loss 0.0018546615028753877\n",
            "epoch 148, loss 0.0018723722314462066\n",
            "epoch 149, loss 0.0019698073156177998\n",
            "epoch 150, loss 0.0019190137973055243\n",
            "epoch 151, loss 0.0018154968274757266\n",
            "epoch 152, loss 0.0019459625473245978\n",
            "epoch 153, loss 0.0018380251713097095\n",
            "epoch 154, loss 0.0017411818262189627\n",
            "epoch 155, loss 0.0018340471433475614\n",
            "epoch 156, loss 0.00169615529011935\n",
            "epoch 157, loss 0.001804510597139597\n",
            "epoch 158, loss 0.0017434107139706612\n",
            "epoch 159, loss 0.0016822170000523329\n",
            "epoch 160, loss 0.0018773151095956564, eval loss 0.0093063460662961\n",
            "epoch 161, loss 0.001852641929872334\n",
            "epoch 162, loss 0.001895430264994502\n",
            "epoch 163, loss 0.0017040892271324992\n",
            "epoch 164, loss 0.0017489389283582568\n",
            "epoch 165, loss 0.0018532777903601527\n",
            "epoch 166, loss 0.0017946725711226463\n",
            "epoch 167, loss 0.0018211685819551349\n",
            "epoch 168, loss 0.0017789503326639533\n",
            "epoch 169, loss 0.0016587520949542522\n",
            "epoch 170, loss 0.00189520965795964\n",
            "epoch 171, loss 0.0019308945629745722\n",
            "epoch 172, loss 0.001657714950852096\n",
            "epoch 173, loss 0.0017590592615306377\n",
            "epoch 174, loss 0.0019534570164978504\n",
            "epoch 175, loss 0.0018406588351354003\n",
            "epoch 176, loss 0.001538937445729971\n",
            "epoch 177, loss 0.0016366717172786593\n",
            "epoch 178, loss 0.0018684298265725374\n",
            "epoch 179, loss 0.0017614788375794888\n",
            "epoch 180, loss 0.001873531611636281, eval loss 0.00916959997266531\n",
            "epoch 181, loss 0.0018906445475295186\n",
            "epoch 182, loss 0.0016978919738903642\n",
            "epoch 183, loss 0.0016293738735839725\n",
            "epoch 184, loss 0.0018039317801594734\n",
            "epoch 185, loss 0.0016111581353470683\n",
            "epoch 186, loss 0.0019168241415172815\n",
            "epoch 187, loss 0.0016888893442228436\n",
            "epoch 188, loss 0.0018159443279728293\n",
            "epoch 189, loss 0.001723943860270083\n",
            "epoch 190, loss 0.0017121110577136278\n",
            "epoch 191, loss 0.0016967466799542308\n",
            "epoch 192, loss 0.001748252660036087\n",
            "epoch 193, loss 0.001697946572676301\n",
            "epoch 194, loss 0.00164241180755198\n",
            "epoch 195, loss 0.0016106738476082683\n",
            "epoch 196, loss 0.0017666923813521862\n",
            "epoch 197, loss 0.0015039978316053748\n",
            "epoch 198, loss 0.001621943898499012\n",
            "epoch 199, loss 0.0016287864418700337\n",
            "epoch 200, loss 0.0017258935840800405, eval loss 0.00874065887182951\n",
            "epoch 201, loss 0.0018073724349960685\n",
            "epoch 202, loss 0.0017149520572274923\n",
            "epoch 203, loss 0.0016365018673241138\n",
            "epoch 204, loss 0.0016990641597658396\n",
            "epoch 205, loss 0.0016532486770302057\n",
            "epoch 206, loss 0.0016980229411274195\n",
            "epoch 207, loss 0.0016653607599437237\n",
            "epoch 208, loss 0.0016727328766137362\n",
            "epoch 209, loss 0.0016521839424967766\n",
            "epoch 210, loss 0.0016248608008027077\n",
            "epoch 211, loss 0.0016488101100549102\n",
            "epoch 212, loss 0.001521754078567028\n",
            "epoch 213, loss 0.001762308762408793\n",
            "epoch 214, loss 0.0016494852025061846\n",
            "epoch 215, loss 0.0015151526313275099\n",
            "epoch 216, loss 0.00175933085847646\n",
            "epoch 217, loss 0.0016165400156751275\n",
            "epoch 218, loss 0.0015591579722240567\n",
            "epoch 219, loss 0.001582013675943017\n",
            "epoch 220, loss 0.0015811723424121737, eval loss 0.00847462099045515\n",
            "epoch 221, loss 0.001740004401654005\n",
            "epoch 222, loss 0.001621315605007112\n",
            "epoch 223, loss 0.001740237115882337\n",
            "epoch 224, loss 0.0017206371994689107\n",
            "epoch 225, loss 0.0015107246581465006\n",
            "epoch 226, loss 0.001670757425017655\n",
            "epoch 227, loss 0.0014705521753057837\n",
            "epoch 228, loss 0.001727662398479879\n",
            "epoch 229, loss 0.0015800553373992443\n",
            "epoch 230, loss 0.0015397926326841116\n",
            "epoch 231, loss 0.0018472922965884209\n",
            "epoch 232, loss 0.0016279693227261305\n",
            "epoch 233, loss 0.0015970251988619566\n",
            "epoch 234, loss 0.0016279321862384677\n",
            "epoch 235, loss 0.0015340105164796114\n",
            "epoch 236, loss 0.001793926814571023\n",
            "epoch 237, loss 0.001701619359664619\n",
            "epoch 238, loss 0.0016294296365231276\n",
            "epoch 239, loss 0.0016272934153676033\n",
            "epoch 240, loss 0.00155070039909333, eval loss 0.008059059269726276\n",
            "epoch 241, loss 0.0017023799009621143\n",
            "epoch 242, loss 0.0016888562822714448\n",
            "epoch 243, loss 0.0015382453566417098\n",
            "epoch 244, loss 0.0014670351520180702\n",
            "epoch 245, loss 0.0015479059657081962\n",
            "epoch 246, loss 0.001470819115638733\n",
            "epoch 247, loss 0.001607732381671667\n",
            "epoch 248, loss 0.001444861525669694\n",
            "epoch 249, loss 0.0015244998503476381\n",
            "epoch 250, loss 0.0016246001468971372\n",
            "epoch 251, loss 0.0014985648449510336\n",
            "epoch 252, loss 0.0015008596237748861\n",
            "epoch 253, loss 0.0015308838337659836\n",
            "epoch 254, loss 0.0015056220581755042\n",
            "epoch 255, loss 0.0016283917939290404\n",
            "epoch 256, loss 0.0015126402722671628\n",
            "epoch 257, loss 0.0014511285116896033\n",
            "epoch 258, loss 0.0016180268721655011\n",
            "epoch 259, loss 0.0014027704019099474\n",
            "epoch 260, loss 0.001614262699149549, eval loss 0.007813782431185246\n",
            "epoch 261, loss 0.001402975874952972\n",
            "epoch 262, loss 0.0015365113504230976\n",
            "epoch 263, loss 0.0014985066372901201\n",
            "epoch 264, loss 0.001649720361456275\n",
            "epoch 265, loss 0.0014178361743688583\n",
            "epoch 266, loss 0.0013837950536981225\n",
            "epoch 267, loss 0.0014969116309657693\n",
            "epoch 268, loss 0.0015256330370903015\n",
            "epoch 269, loss 0.0013512285659089684\n",
            "epoch 270, loss 0.0015076971612870693\n",
            "epoch 271, loss 0.0016556624323129654\n",
            "epoch 272, loss 0.0015715734334662557\n",
            "epoch 273, loss 0.0014843387762084603\n",
            "epoch 274, loss 0.001516482443548739\n",
            "epoch 275, loss 0.001642584684304893\n",
            "epoch 276, loss 0.0015278690261766315\n",
            "epoch 277, loss 0.0014779599150642753\n",
            "epoch 278, loss 0.001599732437171042\n",
            "epoch 279, loss 0.0015367737505584955\n",
            "epoch 280, loss 0.0016317815752699971, eval loss 0.007464296650141478\n",
            "epoch 281, loss 0.0015043667517602444\n",
            "epoch 282, loss 0.0015071771340444684\n",
            "epoch 283, loss 0.0014645401388406754\n",
            "epoch 284, loss 0.0013721358263865113\n",
            "epoch 285, loss 0.001472386415116489\n",
            "epoch 286, loss 0.0014068972086533904\n",
            "epoch 287, loss 0.0014477749355137348\n",
            "epoch 288, loss 0.0014925998402759433\n",
            "epoch 289, loss 0.001453334465622902\n",
            "epoch 290, loss 0.0014631453668698668\n",
            "epoch 291, loss 0.0012784542050212622\n",
            "epoch 292, loss 0.0013952335575595498\n",
            "epoch 293, loss 0.0015254324534907937\n",
            "epoch 294, loss 0.0013643804704770446\n",
            "epoch 295, loss 0.0014731851406395435\n",
            "epoch 296, loss 0.001330369501374662\n",
            "epoch 297, loss 0.001470075687393546\n",
            "epoch 298, loss 0.0014720815233886242\n",
            "epoch 299, loss 0.00135649589356035\n"
          ],
          "name": "stdout"
        }
      ]
    },
    {
      "cell_type": "code",
      "metadata": {
        "id": "7jxit4ppO9Q4",
        "colab": {
          "base_uri": "https://localhost:8080/",
          "height": 187
        },
        "outputId": "41e9fbc8-73c2-484f-a362-ce1dcec59864"
      },
      "source": [
        "rnn.out.weight "
      ],
      "execution_count": null,
      "outputs": [
        {
          "output_type": "execute_result",
          "data": {
            "text/plain": [
              "Parameter containing:\n",
              "tensor([[-0.0569,  0.0199, -0.1157,  0.0948,  0.0923, -0.0310, -0.0259,  0.1303,\n",
              "         -0.0255, -0.1197,  0.0506,  0.1093, -0.0998, -0.1169, -0.0220, -0.0446,\n",
              "         -0.1124,  0.0905,  0.0569,  0.1127,  0.1179, -0.0363,  0.1057,  0.0409,\n",
              "          0.0329, -0.0431,  0.0569, -0.0079, -0.0850, -0.0475, -0.0394,  0.0270,\n",
              "          0.1004, -0.0640,  0.0824,  0.0356,  0.0137,  0.0867, -0.0647,  0.0924,\n",
              "         -0.1268, -0.1000, -0.1311,  0.1142,  0.1277,  0.1247,  0.0371, -0.0708,\n",
              "          0.0935,  0.0926, -0.1027, -0.1242,  0.1051, -0.0811,  0.0005, -0.0488,\n",
              "         -0.0978,  0.1169,  0.0237, -0.0652,  0.0851,  0.0777,  0.0361, -0.0682]],\n",
              "       device='cuda:0', requires_grad=True)"
            ]
          },
          "metadata": {
            "tags": []
          },
          "execution_count": 19
        }
      ]
    },
    {
      "cell_type": "code",
      "metadata": {
        "id": "4SysHfTsOtPz",
        "colab": {
          "base_uri": "https://localhost:8080/",
          "height": 1000
        },
        "outputId": "57c05788-0ee8-44ae-c708-321d0faa008a"
      },
      "source": [
        "for param in rnn.parameters():\n",
        "    print(param.data)"
      ],
      "execution_count": null,
      "outputs": [
        {
          "output_type": "stream",
          "text": [
            "tensor([[ 0.0008, -0.0166, -0.0161,  ..., -0.0940, -0.0778,  0.0439],\n",
            "        [ 0.1008, -0.1000, -0.0374,  ...,  0.0843, -0.0743, -0.0801],\n",
            "        [-0.0897, -0.1103, -0.0152,  ...,  0.0687, -0.0560,  0.0825],\n",
            "        ...,\n",
            "        [ 0.0714,  0.0714,  0.0290,  ...,  0.0324,  0.0912, -0.0088],\n",
            "        [-0.0440,  0.1278,  0.1122,  ...,  0.0030,  0.0353,  0.0903],\n",
            "        [-0.0023,  0.0872, -0.1218,  ..., -0.0951,  0.0614, -0.0449]],\n",
            "       device='cuda:0')\n",
            "tensor([[ 0.0470,  0.0732, -0.0916,  ...,  0.0973, -0.0555,  0.1460],\n",
            "        [ 0.0786, -0.0077,  0.1159,  ...,  0.0578,  0.0108, -0.0461],\n",
            "        [-0.0508, -0.0728, -0.0910,  ..., -0.0231, -0.0386, -0.0641],\n",
            "        ...,\n",
            "        [-0.0158, -0.0406, -0.0750,  ..., -0.0109, -0.0746,  0.0076],\n",
            "        [ 0.0512,  0.0423, -0.0353,  ...,  0.0286,  0.0125, -0.0981],\n",
            "        [ 0.0261,  0.0147, -0.0280,  ...,  0.0831, -0.0042,  0.0130]],\n",
            "       device='cuda:0')\n",
            "tensor([ 0.1118, -0.0722,  0.0652, -0.0428, -0.0745,  0.1512,  0.0508,  0.1087,\n",
            "        -0.0542,  0.0559, -0.1071, -0.0710, -0.0333, -0.0824,  0.0550,  0.0056,\n",
            "         0.0122, -0.0424,  0.1223,  0.0316, -0.0476,  0.0086, -0.0796,  0.0488,\n",
            "        -0.0963, -0.0512, -0.0705,  0.0990,  0.0365,  0.0206, -0.0574,  0.1394,\n",
            "        -0.1121, -0.1358,  0.0048,  0.0584, -0.0977,  0.0471, -0.0733, -0.0805,\n",
            "        -0.0979,  0.0653, -0.0908,  0.1281,  0.0169,  0.0666,  0.0231, -0.1025,\n",
            "         0.0297,  0.0848, -0.0105,  0.0992, -0.1103,  0.0906,  0.1072,  0.0478,\n",
            "         0.0258, -0.0270,  0.1481,  0.0653,  0.0966,  0.1150, -0.0766,  0.0118,\n",
            "         0.0254,  0.0374, -0.0321, -0.0112, -0.1095, -0.0476,  0.1317,  0.1193,\n",
            "         0.0111,  0.1276,  0.1263,  0.0111,  0.0968, -0.0243, -0.1154, -0.0586,\n",
            "         0.0228, -0.0927,  0.0049,  0.0033,  0.0790,  0.0209,  0.0171,  0.0792,\n",
            "         0.0208, -0.0369, -0.0471, -0.0798,  0.1241,  0.0381,  0.1006,  0.0695,\n",
            "        -0.0327, -0.0169,  0.0992, -0.0615, -0.0279, -0.0567,  0.1198,  0.0450,\n",
            "         0.0345,  0.0156, -0.0471, -0.0025, -0.1111, -0.1100,  0.0854, -0.1114,\n",
            "         0.0611, -0.0517,  0.0277,  0.0336, -0.0178,  0.0477, -0.0470,  0.0070,\n",
            "        -0.1113, -0.0403,  0.0808,  0.0093, -0.0081, -0.0578, -0.0770,  0.0352,\n",
            "         0.0776, -0.0804,  0.0204, -0.0350,  0.0139, -0.0215, -0.0207, -0.0078,\n",
            "         0.0675, -0.1025, -0.0881,  0.0959, -0.1090, -0.0465,  0.0885, -0.1057,\n",
            "         0.0214,  0.0913,  0.1076,  0.0676,  0.0285, -0.1060, -0.0222, -0.1215,\n",
            "         0.0582,  0.0735, -0.0261, -0.0505,  0.0064,  0.0059,  0.0689,  0.0893,\n",
            "        -0.0021,  0.0684,  0.0264,  0.0935,  0.0577, -0.0262, -0.0312,  0.0262,\n",
            "        -0.0026, -0.0354, -0.0874,  0.1076,  0.0076, -0.0496,  0.0163,  0.0905,\n",
            "         0.0049,  0.0502,  0.0819, -0.0686, -0.0709, -0.0670,  0.1050, -0.0551,\n",
            "        -0.1132,  0.0559, -0.0601, -0.1203, -0.0762, -0.1248, -0.0017, -0.1285,\n",
            "        -0.0630,  0.0892, -0.0061,  0.1269,  0.0465,  0.0030,  0.0074,  0.0418,\n",
            "         0.0801,  0.0700, -0.0830, -0.1089,  0.0307, -0.0263, -0.0273,  0.1086,\n",
            "        -0.0162,  0.0718,  0.0318,  0.0062,  0.0498,  0.0487,  0.0128, -0.0054,\n",
            "        -0.0396, -0.1162,  0.0769, -0.0608, -0.0681, -0.0248,  0.0107,  0.0189,\n",
            "         0.0787, -0.0110, -0.0162,  0.0010,  0.0681, -0.0666, -0.0489,  0.0053,\n",
            "        -0.0045,  0.0138,  0.0187, -0.0749, -0.0295,  0.1113, -0.0192,  0.0718,\n",
            "         0.0798, -0.0245,  0.1178,  0.1347, -0.1096, -0.1064,  0.0065,  0.0642,\n",
            "         0.0247, -0.0430,  0.1175,  0.0240, -0.1339, -0.0958, -0.0703, -0.0035],\n",
            "       device='cuda:0')\n",
            "tensor([ 1.1471e-01, -1.1882e-02,  2.4041e-02, -7.6049e-02, -9.3523e-02,\n",
            "         2.0154e-02,  1.1954e-01,  5.3852e-02,  8.7909e-02,  8.0812e-02,\n",
            "         5.4277e-02,  3.4088e-02,  8.3028e-02,  2.8236e-02, -5.8489e-02,\n",
            "        -6.4431e-02,  1.9774e-03, -4.3860e-02,  4.3403e-02, -7.0171e-02,\n",
            "         1.2637e-01,  6.1546e-02,  9.2274e-02,  1.0119e-01, -6.3357e-02,\n",
            "         1.1300e-01, -9.4473e-02,  1.9247e-02,  8.6703e-02, -7.9080e-02,\n",
            "        -4.6718e-02, -1.0088e-01,  3.2580e-02, -4.9267e-02, -7.0568e-02,\n",
            "         4.5001e-02, -2.4934e-02,  1.3188e-01,  7.4003e-02, -2.3110e-02,\n",
            "        -3.3249e-02, -8.8834e-02,  7.1436e-02,  4.9260e-02, -3.3784e-02,\n",
            "         1.1929e-01, -3.2644e-02, -9.6236e-02,  9.5865e-03, -1.9488e-02,\n",
            "        -1.1172e-01,  2.3358e-02, -2.0882e-02,  5.7665e-05,  1.1057e-01,\n",
            "        -7.3779e-02,  1.2833e-01,  8.6139e-02, -3.2658e-03,  1.2084e-01,\n",
            "        -8.6781e-02,  1.0398e-01, -7.4978e-02, -8.9088e-02,  1.3092e-01,\n",
            "        -4.0861e-02,  2.4943e-02, -9.2179e-02, -1.2467e-01, -7.6819e-02,\n",
            "         1.4085e-01,  6.1103e-02, -2.4936e-02,  1.0383e-01, -5.6844e-05,\n",
            "        -1.0065e-01,  8.2047e-02,  3.4702e-02,  4.0510e-02, -5.6329e-02,\n",
            "         1.1716e-01,  9.2579e-02,  9.9784e-02, -3.0710e-02,  3.3776e-02,\n",
            "         8.8948e-03, -2.0216e-02,  9.2564e-02, -9.9865e-02,  3.0246e-02,\n",
            "         3.3637e-02, -3.3079e-02, -1.4608e-02,  1.1390e-01,  1.4063e-02,\n",
            "         1.5900e-02,  3.2120e-02, -1.0585e-01, -1.0641e-01,  1.4340e-02,\n",
            "        -3.7601e-02, -3.0653e-02,  1.0656e-01, -6.2315e-02, -5.6250e-02,\n",
            "        -1.0957e-01,  8.5575e-02, -6.8288e-03, -9.6881e-02, -1.1113e-01,\n",
            "         8.7705e-02, -6.5853e-02, -4.0097e-02,  5.3415e-02,  9.3499e-02,\n",
            "        -1.6843e-02, -3.7565e-02, -1.0619e-01, -6.6006e-03,  1.0163e-01,\n",
            "        -9.3853e-02,  1.0911e-01,  5.0383e-02, -6.2276e-02, -1.0422e-01,\n",
            "         2.6524e-02, -8.5026e-02, -1.1262e-01, -1.0626e-01,  1.9964e-02,\n",
            "        -4.8654e-02,  5.4405e-02, -9.5038e-02, -5.4729e-02, -1.1014e-01,\n",
            "        -1.1942e-01,  8.4015e-02,  2.9305e-02,  3.7594e-02, -1.0698e-01,\n",
            "        -1.4526e-02,  9.3447e-02,  1.0281e-01,  2.1195e-02,  5.5881e-02,\n",
            "        -1.0446e-01,  2.2868e-02, -2.6724e-02,  1.2510e-01, -8.8259e-04,\n",
            "        -1.7102e-02,  1.1839e-02, -9.9443e-02,  8.8257e-02,  5.3489e-02,\n",
            "         1.0810e-01,  8.2407e-03, -1.2885e-01, -5.7133e-02, -4.8139e-03,\n",
            "         9.4305e-02, -1.0179e-03, -1.0863e-01, -4.2080e-03, -6.6778e-02,\n",
            "         1.1060e-01,  6.0716e-02,  1.0239e-01,  6.9018e-02,  1.2380e-01,\n",
            "        -8.2892e-02, -4.9583e-02, -1.2692e-01, -3.6210e-03, -1.6234e-02,\n",
            "        -2.7412e-02,  8.1783e-03,  4.0517e-02, -8.2460e-02,  4.3722e-02,\n",
            "        -2.8721e-02,  5.0159e-02, -4.9315e-03, -5.2470e-02,  2.8355e-02,\n",
            "         3.7838e-02,  3.4854e-03,  1.2718e-02,  5.8526e-02,  4.4544e-02,\n",
            "        -2.5469e-02, -5.3605e-02, -3.7021e-02,  6.9965e-02, -1.0536e-01,\n",
            "        -1.0537e-01, -1.0141e-01,  1.5875e-01,  3.0193e-02, -1.3955e-02,\n",
            "         9.9748e-02,  4.9645e-02, -6.6554e-02, -1.1210e-01,  3.3804e-02,\n",
            "         2.6461e-02, -1.3049e-02,  1.0084e-01, -1.0483e-01, -3.7559e-02,\n",
            "         1.8885e-02,  2.4740e-02, -2.3827e-02, -1.0004e-01,  6.3147e-02,\n",
            "        -6.2214e-02, -9.1149e-02,  7.8754e-02,  3.1167e-02, -2.2823e-02,\n",
            "         9.0663e-02,  1.5353e-01,  2.3063e-02, -3.2528e-02,  4.2672e-02,\n",
            "        -7.8908e-02, -1.0338e-01, -1.0112e-01,  1.1581e-01, -4.7791e-02,\n",
            "        -4.0707e-02,  5.1550e-02, -2.5605e-02,  1.1670e-01,  5.1459e-02,\n",
            "         3.9741e-02,  1.2358e-01,  9.6897e-02,  1.1099e-01, -7.6794e-02,\n",
            "        -1.0420e-01,  4.7167e-02,  1.0414e-02, -6.0236e-02,  2.3271e-02,\n",
            "        -1.6732e-02,  1.1552e-02, -7.3587e-02,  1.3109e-01,  1.2991e-01,\n",
            "         1.3670e-02, -1.6424e-02, -7.6836e-02, -8.4974e-02, -4.5606e-02,\n",
            "         8.7866e-02], device='cuda:0')\n",
            "tensor([[ 0.0786, -0.0109, -0.0618,  ...,  0.1204, -0.0621, -0.0163],\n",
            "        [-0.0534,  0.0184, -0.0129,  ..., -0.0493,  0.0862,  0.0697],\n",
            "        [ 0.0118,  0.1120, -0.0687,  ...,  0.1211,  0.0313,  0.1313],\n",
            "        ...,\n",
            "        [ 0.0741,  0.0328,  0.1277,  ...,  0.0143, -0.1200,  0.0824],\n",
            "        [-0.0332,  0.0679, -0.0725,  ..., -0.1392,  0.0916,  0.1077],\n",
            "        [ 0.0446,  0.0046, -0.0397,  ...,  0.0008,  0.0534,  0.0768]],\n",
            "       device='cuda:0')\n",
            "tensor([[ 0.0587, -0.0203, -0.0263,  ...,  0.0333, -0.1211,  0.0141],\n",
            "        [-0.1209, -0.0662,  0.0943,  ..., -0.0233,  0.0150, -0.0451],\n",
            "        [-0.1195, -0.0545,  0.0502,  ..., -0.0205, -0.0852,  0.0804],\n",
            "        ...,\n",
            "        [-0.0675,  0.0245,  0.0684,  ...,  0.1313,  0.1157,  0.0856],\n",
            "        [-0.1189, -0.0047,  0.0410,  ...,  0.0375, -0.0653, -0.1064],\n",
            "        [ 0.0131, -0.0842,  0.0279,  ...,  0.0312,  0.0129, -0.0507]],\n",
            "       device='cuda:0')\n",
            "tensor([ 0.0484, -0.0666,  0.0752, -0.0212,  0.0179,  0.0076,  0.0536,  0.0607,\n",
            "         0.0716,  0.0881, -0.1026, -0.0352, -0.0359,  0.0004, -0.0731, -0.1037,\n",
            "        -0.0331, -0.1093, -0.0485,  0.0354, -0.0807,  0.1140,  0.1306, -0.0749,\n",
            "         0.0306, -0.0311,  0.0178,  0.1087, -0.0757,  0.0141, -0.0523,  0.0860,\n",
            "         0.0885, -0.0993,  0.1227,  0.1244,  0.0151,  0.0103,  0.0468, -0.0653,\n",
            "         0.0123,  0.0121,  0.0974, -0.0733, -0.0898, -0.0615, -0.0567, -0.0726,\n",
            "        -0.0736, -0.0102,  0.0114, -0.0561,  0.0572, -0.1196,  0.0572,  0.0164,\n",
            "         0.0312, -0.0159, -0.0326, -0.0999,  0.0613, -0.0333,  0.1153, -0.1206,\n",
            "        -0.0168, -0.0287, -0.0139,  0.0413, -0.0614,  0.0666,  0.0264,  0.0540,\n",
            "         0.0560, -0.1128,  0.1033,  0.1382,  0.0220,  0.0331, -0.0969,  0.0429,\n",
            "        -0.0565, -0.1190, -0.0668,  0.0262, -0.0837,  0.0290,  0.0145, -0.0562,\n",
            "        -0.0400,  0.1139,  0.0889,  0.0683, -0.0290, -0.0469,  0.0629,  0.0290,\n",
            "        -0.0697, -0.0158, -0.0563, -0.0690,  0.0136, -0.0906, -0.0081, -0.0278,\n",
            "        -0.0759, -0.0590, -0.0400,  0.0397, -0.0846,  0.0492, -0.1053,  0.1010,\n",
            "         0.0064,  0.0955, -0.0216,  0.0024,  0.0840,  0.0533,  0.0263,  0.0824,\n",
            "         0.0786, -0.0392,  0.0728,  0.0685,  0.0652,  0.1258, -0.0215, -0.0416,\n",
            "        -0.0289,  0.0437,  0.0910,  0.0418,  0.0500, -0.0213,  0.0407,  0.1018,\n",
            "        -0.1010, -0.0809, -0.1039,  0.0955, -0.0983,  0.0060, -0.1066, -0.1146,\n",
            "         0.0858,  0.0196,  0.0963, -0.0425,  0.0183,  0.0012,  0.0655, -0.0047,\n",
            "        -0.0222, -0.0246, -0.0733,  0.0972,  0.0622, -0.0220,  0.0089, -0.0679,\n",
            "        -0.0010, -0.0023, -0.0160, -0.0210, -0.0872,  0.0388,  0.0640,  0.0763,\n",
            "        -0.0936, -0.0129,  0.0666,  0.0617,  0.0729,  0.0102, -0.0113, -0.0210,\n",
            "         0.0715, -0.0603, -0.0816,  0.0307,  0.0668, -0.0160, -0.0922, -0.0418,\n",
            "        -0.0903,  0.0098, -0.0952, -0.0385, -0.0673, -0.0288,  0.0158, -0.0537,\n",
            "        -0.0018, -0.1252, -0.0271,  0.0141,  0.1128,  0.0027, -0.1118, -0.0874,\n",
            "        -0.0297,  0.0839, -0.0520, -0.0311,  0.0162,  0.0667,  0.0457,  0.1146,\n",
            "         0.1043,  0.1127,  0.0327,  0.0825,  0.0324,  0.1640, -0.0803, -0.0568,\n",
            "         0.0133,  0.0928, -0.0962,  0.0475, -0.0590, -0.1159,  0.0726,  0.1213,\n",
            "         0.0852,  0.1120, -0.0859, -0.0828,  0.1079,  0.0453, -0.0781, -0.0756,\n",
            "         0.0285, -0.1089, -0.1069,  0.0287, -0.0835,  0.0207,  0.1272,  0.0597,\n",
            "         0.0388,  0.0963, -0.1144, -0.0377, -0.0139, -0.0497, -0.0305, -0.0952,\n",
            "         0.0826,  0.0904, -0.0637,  0.1509, -0.0304, -0.0326,  0.0245,  0.0191],\n",
            "       device='cuda:0')\n",
            "tensor([ 0.0152,  0.0726,  0.0100, -0.0550,  0.0843, -0.1184,  0.0433, -0.0597,\n",
            "        -0.0322, -0.0146, -0.1113, -0.0303, -0.0406,  0.0490, -0.0889,  0.0506,\n",
            "         0.0012,  0.0829, -0.0718,  0.0466,  0.0486,  0.0821, -0.0282, -0.0969,\n",
            "        -0.0003, -0.0393, -0.0617,  0.0706,  0.0708,  0.0757, -0.0832, -0.0213,\n",
            "         0.0003, -0.0266, -0.1040, -0.0752, -0.0524, -0.0625,  0.0316, -0.1194,\n",
            "        -0.1033,  0.0287, -0.1045, -0.0705, -0.0149, -0.0581, -0.0298, -0.0585,\n",
            "        -0.1117, -0.0816,  0.0279, -0.0416,  0.0957,  0.0692,  0.0177,  0.0274,\n",
            "        -0.0579, -0.0700,  0.0282,  0.1301,  0.0960,  0.0438, -0.0297, -0.0988,\n",
            "         0.0698, -0.0675, -0.1310,  0.1254, -0.0639, -0.1230, -0.0428, -0.0637,\n",
            "         0.0655, -0.1258, -0.1014, -0.0161, -0.0410, -0.0455, -0.1086, -0.0151,\n",
            "        -0.0687,  0.0347,  0.0906, -0.0342,  0.0589, -0.0080,  0.0641, -0.0560,\n",
            "         0.0556, -0.0518, -0.0506, -0.0358, -0.0157, -0.0907, -0.0835,  0.1174,\n",
            "         0.0530,  0.0499, -0.0660, -0.1146,  0.1177, -0.1134,  0.0689, -0.0023,\n",
            "        -0.0860,  0.0005, -0.1091, -0.0006,  0.1244, -0.1041,  0.0436,  0.1102,\n",
            "         0.1268,  0.1040, -0.0558, -0.1195,  0.0850, -0.0428, -0.0999,  0.0203,\n",
            "         0.0266, -0.0947, -0.0281,  0.0414,  0.1103, -0.0503, -0.0161, -0.0633,\n",
            "         0.0983,  0.0655,  0.0812,  0.0401,  0.0653, -0.0158,  0.1051,  0.0015,\n",
            "         0.0446,  0.0382, -0.0492, -0.0807,  0.0720, -0.0436, -0.0176, -0.1197,\n",
            "        -0.0131, -0.0821,  0.1068, -0.0135,  0.1090, -0.0745, -0.0705,  0.0459,\n",
            "         0.0537, -0.0875,  0.0455,  0.0665, -0.0925, -0.0326,  0.0945, -0.0774,\n",
            "         0.0053, -0.0987, -0.0087, -0.0105, -0.0724, -0.1142, -0.0375,  0.0884,\n",
            "         0.0254, -0.0268, -0.0347, -0.0161, -0.0524,  0.0514, -0.0781, -0.0142,\n",
            "         0.1060, -0.0031, -0.1023, -0.1217,  0.0241,  0.0541,  0.0453, -0.1174,\n",
            "        -0.0848,  0.0784, -0.1179,  0.0506,  0.1056,  0.0523,  0.1093,  0.0148,\n",
            "         0.0415, -0.0071,  0.1065,  0.0236,  0.0198,  0.0445,  0.0963,  0.0661,\n",
            "        -0.0233,  0.0589, -0.0062,  0.1314, -0.0789,  0.1313,  0.0129,  0.1101,\n",
            "        -0.0326,  0.0425,  0.0534,  0.0819, -0.0644, -0.0627,  0.1261, -0.0294,\n",
            "        -0.0470, -0.1063, -0.0352, -0.0865, -0.0927,  0.0882, -0.0155,  0.0379,\n",
            "        -0.0980,  0.0964,  0.1003,  0.1119,  0.0740,  0.1058, -0.0006, -0.1188,\n",
            "        -0.0390,  0.1167, -0.0139, -0.1063, -0.0440,  0.0284,  0.1096, -0.0001,\n",
            "        -0.1063, -0.0579, -0.0672, -0.0245,  0.0949, -0.0616, -0.0670,  0.0485,\n",
            "         0.1033,  0.0417,  0.0533,  0.0633,  0.0283, -0.0819, -0.0941, -0.0650],\n",
            "       device='cuda:0')\n",
            "tensor([[ 0.0843,  0.1158,  0.0133,  ...,  0.0521, -0.1013, -0.0983],\n",
            "        [-0.0189, -0.0756,  0.0163,  ..., -0.0049, -0.0086,  0.0528],\n",
            "        [-0.0950,  0.0873,  0.1083,  ..., -0.0383,  0.0777,  0.0952],\n",
            "        ...,\n",
            "        [-0.1242, -0.0196,  0.0066,  ...,  0.0619, -0.1303, -0.0958],\n",
            "        [-0.0788,  0.1269, -0.0735,  ...,  0.0540, -0.0508, -0.0929],\n",
            "        [ 0.0006,  0.0166, -0.0356,  ...,  0.0955, -0.0308,  0.0560]],\n",
            "       device='cuda:0')\n",
            "tensor([[ 0.0732, -0.0850, -0.0862,  ...,  0.1145,  0.0924,  0.0920],\n",
            "        [-0.0485, -0.0911, -0.0360,  ...,  0.0548, -0.1071,  0.1350],\n",
            "        [-0.0912,  0.1007, -0.0599,  ...,  0.0876,  0.0662,  0.0447],\n",
            "        ...,\n",
            "        [ 0.0661, -0.0116, -0.1085,  ..., -0.1010, -0.0214, -0.0888],\n",
            "        [ 0.0477, -0.0750, -0.0421,  ...,  0.1085,  0.0225, -0.0577],\n",
            "        [-0.1103, -0.1161, -0.1259,  ...,  0.1175, -0.0837, -0.0215]],\n",
            "       device='cuda:0')\n",
            "tensor([-0.0078, -0.1158, -0.0492, -0.0114, -0.0833,  0.0215,  0.1271,  0.0398,\n",
            "        -0.0120,  0.1363,  0.0507, -0.0255,  0.1261,  0.1101, -0.0022,  0.0436,\n",
            "         0.0847, -0.1007,  0.0579, -0.1104,  0.0772, -0.0381,  0.0551,  0.0626,\n",
            "         0.0123, -0.0891, -0.0254,  0.1309, -0.1024, -0.0690,  0.0055,  0.1049,\n",
            "        -0.0330, -0.1111,  0.0643, -0.0224, -0.0027,  0.0125, -0.0888, -0.0453,\n",
            "         0.0165,  0.0495,  0.0419, -0.0487,  0.0989,  0.0994, -0.0376, -0.1097,\n",
            "        -0.0654,  0.0728,  0.1275, -0.1049, -0.1146, -0.0575,  0.0206,  0.0958,\n",
            "        -0.0547, -0.0871, -0.0053, -0.0314, -0.0665,  0.0582, -0.0033,  0.0596,\n",
            "         0.0739, -0.1097,  0.0187,  0.1007,  0.0334, -0.0833, -0.0607,  0.0978,\n",
            "         0.0640, -0.0574,  0.0346,  0.0121,  0.1028,  0.0129, -0.1063, -0.0473,\n",
            "         0.0300,  0.0818,  0.0877, -0.1052,  0.1192,  0.0928, -0.0946, -0.1060,\n",
            "        -0.0915, -0.0976, -0.0666, -0.1018, -0.0200, -0.0432, -0.0106, -0.1030,\n",
            "         0.1085, -0.0873, -0.0990, -0.0801, -0.0093,  0.0239,  0.1073,  0.0387,\n",
            "        -0.0261,  0.0378,  0.0249, -0.0139,  0.1237, -0.0821,  0.0490,  0.0716,\n",
            "         0.0208,  0.0221, -0.0907, -0.0932,  0.0886,  0.1236,  0.0366, -0.0458,\n",
            "         0.0218,  0.0992,  0.0296,  0.0811, -0.0432, -0.0479, -0.0699,  0.0070,\n",
            "         0.1003,  0.0361, -0.1109, -0.0202, -0.0086, -0.0097,  0.0131,  0.1333,\n",
            "        -0.0405, -0.1313,  0.1007, -0.0982, -0.0399,  0.0463, -0.1087,  0.0784,\n",
            "         0.0650,  0.0805, -0.1031, -0.0952,  0.0894,  0.0219,  0.0295, -0.1084,\n",
            "         0.0351,  0.0857, -0.0098,  0.0134,  0.0305, -0.0208, -0.1088,  0.1017,\n",
            "        -0.0473,  0.1036,  0.0727,  0.0619, -0.0453,  0.1163, -0.0322,  0.1087,\n",
            "        -0.0178,  0.0359, -0.0964,  0.0847,  0.0769,  0.0950, -0.0973, -0.0223,\n",
            "        -0.0445,  0.0768, -0.0574, -0.0562,  0.0204, -0.0488, -0.0248, -0.0778,\n",
            "         0.1096, -0.0084,  0.1210, -0.0263,  0.1090,  0.0016,  0.0610, -0.0144,\n",
            "        -0.0370,  0.1022,  0.0625, -0.1265,  0.1290, -0.0767, -0.0883,  0.0997,\n",
            "         0.1281,  0.0852, -0.0019, -0.0916,  0.0552,  0.0942,  0.0280, -0.0924,\n",
            "        -0.0306,  0.0399,  0.0518, -0.0190, -0.0881, -0.1019, -0.0347, -0.1160,\n",
            "        -0.1162,  0.0099,  0.0225,  0.0852, -0.0281, -0.0365, -0.0106,  0.1024,\n",
            "         0.0082,  0.0949,  0.0791,  0.0256,  0.0592, -0.0390,  0.0348, -0.0942,\n",
            "         0.0140, -0.1045, -0.0199,  0.0346, -0.0778,  0.1011,  0.0462, -0.0721,\n",
            "        -0.0598,  0.0805,  0.0573, -0.0892,  0.1035, -0.0471,  0.0545, -0.1101,\n",
            "         0.0892, -0.0244,  0.0804, -0.1003, -0.1167, -0.0080,  0.1162,  0.0171],\n",
            "       device='cuda:0')\n",
            "tensor([ 0.0232,  0.0509,  0.1310, -0.1273, -0.0704,  0.0965,  0.0532, -0.0194,\n",
            "         0.0306,  0.1067, -0.0513,  0.0065,  0.0880,  0.0635, -0.1084,  0.0006,\n",
            "         0.0562, -0.0183, -0.0162,  0.0493,  0.1107,  0.0926,  0.0100, -0.0520,\n",
            "         0.0716, -0.1051, -0.1374,  0.0881, -0.1086,  0.0483,  0.0564,  0.0836,\n",
            "        -0.0308,  0.1287, -0.0749, -0.0458,  0.0811,  0.0014, -0.0085, -0.0053,\n",
            "         0.0925,  0.0313,  0.0414, -0.0157,  0.0053, -0.1071,  0.1029,  0.0303,\n",
            "         0.0688,  0.1222,  0.0771,  0.0215, -0.1354,  0.0359, -0.1048, -0.0247,\n",
            "         0.1097, -0.1131,  0.1074,  0.0079,  0.0960, -0.0880,  0.0137, -0.0492,\n",
            "        -0.1140, -0.0636, -0.1074, -0.0569,  0.1036, -0.0524, -0.0256, -0.0825,\n",
            "        -0.0015, -0.0565, -0.0904,  0.0098,  0.0244, -0.1182,  0.0905, -0.1291,\n",
            "         0.0108,  0.0840, -0.0843,  0.0206,  0.0751, -0.0176,  0.0828, -0.0125,\n",
            "         0.0585,  0.0241, -0.0697,  0.0886,  0.0687,  0.0589,  0.1316,  0.0832,\n",
            "        -0.0581,  0.0797,  0.0573, -0.0345, -0.0450, -0.0932, -0.0346, -0.0912,\n",
            "        -0.1151, -0.1227,  0.0304, -0.0784,  0.0617,  0.0250,  0.0938, -0.0713,\n",
            "         0.0252, -0.0897, -0.0031, -0.1144, -0.0149,  0.0196, -0.0090,  0.0650,\n",
            "        -0.0898, -0.0805,  0.0411,  0.0940, -0.0305, -0.0930,  0.0791, -0.1128,\n",
            "        -0.1224,  0.0500,  0.0721, -0.0680,  0.0501, -0.0057, -0.1224,  0.0443,\n",
            "        -0.0654,  0.0207,  0.0971,  0.0603, -0.0709,  0.0824,  0.0553, -0.0157,\n",
            "         0.0532, -0.0268, -0.1056,  0.0490,  0.0149,  0.0210,  0.0362, -0.0579,\n",
            "         0.1247, -0.1211, -0.0016,  0.0258,  0.0324,  0.0550,  0.1087, -0.0963,\n",
            "         0.0075, -0.1011,  0.0357,  0.0833, -0.0908,  0.0309, -0.0176,  0.0507,\n",
            "         0.0527, -0.0177,  0.0580, -0.0203, -0.0525,  0.0452,  0.1356, -0.1288,\n",
            "         0.0901,  0.0850,  0.0121, -0.0648, -0.0397, -0.0069,  0.0281,  0.0735,\n",
            "        -0.0761,  0.0941, -0.1148, -0.0973, -0.1014,  0.0373, -0.0463, -0.1296,\n",
            "         0.1052,  0.0712,  0.0998, -0.1348, -0.0607,  0.0903, -0.1065, -0.0253,\n",
            "        -0.0797, -0.0443,  0.0121, -0.0956, -0.0534,  0.0776,  0.1140, -0.0006,\n",
            "         0.0379,  0.1255, -0.0739, -0.0876, -0.1051, -0.1237,  0.0258, -0.0422,\n",
            "         0.0343, -0.0561, -0.0433,  0.1104,  0.0111, -0.0451,  0.0812,  0.0743,\n",
            "        -0.0854,  0.0344,  0.1001, -0.0142, -0.1393, -0.0534,  0.0218, -0.1137,\n",
            "         0.0360, -0.0905, -0.0685, -0.0502, -0.1102, -0.0573, -0.0163,  0.0956,\n",
            "        -0.0699,  0.0124,  0.0424,  0.0258,  0.0129, -0.0373,  0.0317, -0.0785,\n",
            "         0.0536, -0.0195,  0.1177, -0.0898,  0.1231, -0.0319, -0.0840,  0.0038],\n",
            "       device='cuda:0')\n",
            "tensor([[-0.0569,  0.0199, -0.1157,  0.0948,  0.0923, -0.0310, -0.0259,  0.1303,\n",
            "         -0.0255, -0.1197,  0.0506,  0.1093, -0.0998, -0.1169, -0.0220, -0.0446,\n",
            "         -0.1124,  0.0905,  0.0569,  0.1127,  0.1179, -0.0363,  0.1057,  0.0409,\n",
            "          0.0329, -0.0431,  0.0569, -0.0079, -0.0850, -0.0475, -0.0394,  0.0270,\n",
            "          0.1004, -0.0640,  0.0824,  0.0356,  0.0137,  0.0867, -0.0647,  0.0924,\n",
            "         -0.1268, -0.1000, -0.1311,  0.1142,  0.1277,  0.1247,  0.0371, -0.0708,\n",
            "          0.0935,  0.0926, -0.1027, -0.1242,  0.1051, -0.0811,  0.0005, -0.0488,\n",
            "         -0.0978,  0.1169,  0.0237, -0.0652,  0.0851,  0.0777,  0.0361, -0.0682]],\n",
            "       device='cuda:0')\n",
            "tensor([-0.1027], device='cuda:0')\n"
          ],
          "name": "stdout"
        }
      ]
    },
    {
      "cell_type": "markdown",
      "metadata": {
        "id": "PY0wF6e46-JE"
      },
      "source": [
        "## Step 5: Checking model performance\n",
        "\n",
        "With our model fit we can now make predictions on both our training and testing sets."
      ]
    },
    {
      "cell_type": "code",
      "metadata": {
        "id": "6dygBlig6_XD",
        "colab": {
          "base_uri": "https://localhost:8080/",
          "height": 282
        },
        "outputId": "71a0b7e7-58cb-4d02-8ac7-81bc8a4fecd0"
      },
      "source": [
        "plt.plot(history)\n",
        "# dplt.plot(history.history['val_loss'])"
      ],
      "execution_count": null,
      "outputs": [
        {
          "output_type": "execute_result",
          "data": {
            "text/plain": [
              "[<matplotlib.lines.Line2D at 0x7f66a23a4240>]"
            ]
          },
          "metadata": {
            "tags": []
          },
          "execution_count": 15
        },
        {
          "output_type": "display_data",
          "data": {
            "image/png": "[encoded data removed]",
            "text/plain": [
              "<Figure size 432x288 with 1 Axes>"
            ]
          },
          "metadata": {
            "tags": [],
            "needs_background": "light"
          }
        }
      ]
    },
    {
      "cell_type": "code",
      "metadata": {
        "id": "ScaBHhTv7Jih",
        "colab": {
          "base_uri": "https://localhost:8080/",
          "height": 51
        },
        "outputId": "e9e8016b-e1d3-4ef3-c742-e24632d460b5"
      },
      "source": [
        "X_test[0]"
      ],
      "execution_count": null,
      "outputs": [
        {
          "output_type": "execute_result",
          "data": {
            "text/plain": [
              "array([[0.75733001, 0.74433354, 0.74433354, 0.73778332, 0.74246205,\n",
              "        0.74069453, 0.74474943]])"
            ]
          },
          "metadata": {
            "tags": []
          },
          "execution_count": 16
        }
      ]
    },
    {
      "cell_type": "code",
      "metadata": {
        "id": "hyICDKXa7Vbe"
      },
      "source": [
        "# X_train_X_test = np.concatenate((X_train, X_test),axis=0)\n",
        "# hidden_state = None\n",
        "rnn.eval()\n",
        "# test_inputs = torch.tensor(X_test).float().cuda()\n",
        "test_predict, _ = rnn(X_test_cuda, hidden_state)\n",
        "test_predict_cpu = test_predict.cpu().detach().numpy()"
      ],
      "execution_count": null,
      "outputs": []
    },
    {
      "cell_type": "code",
      "metadata": {
        "id": "FwD_e6VO-cIa",
        "colab": {
          "base_uri": "https://localhost:8080/",
          "height": 34
        },
        "outputId": "278864f2-d984-435f-8993-72f147c4029b"
      },
      "source": [
        "test_predict_cpu.shape"
      ],
      "execution_count": null,
      "outputs": [
        {
          "output_type": "execute_result",
          "data": {
            "text/plain": [
              "(251, 1, 1)"
            ]
          },
          "metadata": {
            "tags": []
          },
          "execution_count": 18
        }
      ]
    },
    {
      "cell_type": "code",
      "metadata": {
        "id": "c-__h1sU7kW6",
        "colab": {
          "base_uri": "https://localhost:8080/",
          "height": 284
        },
        "outputId": "9c3fa33f-e926-4866-aaff-ee743a090b6f"
      },
      "source": [
        "plt.plot(sc.inverse_transform(y_test.reshape(-1,1)))\n",
        "plt.plot(sc.inverse_transform(test_predict_cpu.reshape(-1,1)))"
      ],
      "execution_count": null,
      "outputs": [
        {
          "output_type": "execute_result",
          "data": {
            "text/plain": [
              "[<matplotlib.lines.Line2D at 0x7f66a2392470>]"
            ]
          },
          "metadata": {
            "tags": []
          },
          "execution_count": 19
        },
        {
          "output_type": "display_data",
          "data": {
            "image/png": "[encoded data removed]",
            "text/plain": [
              "<Figure size 432x288 with 1 Axes>"
            ]
          },
          "metadata": {
            "tags": [],
            "needs_background": "light"
          }
        }
      ]
    },
    {
      "cell_type": "code",
      "metadata": {
        "id": "LnMGQ5Sa8vMs",
        "colab": {
          "base_uri": "https://localhost:8080/",
          "height": 281
        },
        "outputId": "390ee364-74f7-41aa-e9e2-da10d3d1aead"
      },
      "source": [
        "# plot original data\n",
        "plt.plot(sc.inverse_transform(y.reshape(-1,1)), color='k')\n",
        "\n",
        "# train_inputs = torch.tensor(X_train).float().cuda()\n",
        "train_pred, hidden_state = rnn(inputs_cuda, None)\n",
        "train_pred_cpu = train_pred.cpu().detach().numpy()\n",
        "\n",
        "# use hidden state from previous training data\n",
        "test_predict, _ = rnn(X_test_cuda, hidden_state)\n",
        "test_predict_cpu = test_predict.cpu().detach().numpy()\n",
        "\n",
        "# plt.plot(scl.inverse_transform(y_test.reshape(-1,1)))\n",
        "split_pt = int(X.shape[0] * 0.80) + 7 # window_size\n",
        "plt.plot(np.arange(7, split_pt, 1), sc.inverse_transform(train_pred_cpu.reshape(-1,1)), color='b')\n",
        "plt.plot(np.arange(split_pt, split_pt + len(test_predict_cpu), 1), sc.inverse_transform(test_predict_cpu.reshape(-1,1)), color='r')\n",
        "\n",
        "# pretty up graph\n",
        "plt.xlabel('day')\n",
        "plt.ylabel('price of MMM stock')\n",
        "plt.legend(['original series','training fit','testing fit'], loc='center left', bbox_to_anchor=(1, 0.5))\n",
        "plt.show()\n"
      ],
      "execution_count": null,
      "outputs": [
        {
          "output_type": "display_data",
          "data": {
            "image/png": "[encoded data removed]",
            "text/plain": [
              "<Figure size 432x288 with 1 Axes>"
            ]
          },
          "metadata": {
            "tags": [],
            "needs_background": "light"
          }
        }
      ]
    },
    {
      "cell_type": "code",
      "metadata": {
        "id": "u4J-TrjE2bTy"
      },
      "source": [
        ""
      ],
      "execution_count": null,
      "outputs": []
    }
  ]
}