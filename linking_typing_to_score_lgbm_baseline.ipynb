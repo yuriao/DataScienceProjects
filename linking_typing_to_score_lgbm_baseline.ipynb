{
  "metadata": {
    "kernelspec": {
      "language": "python",
      "display_name": "Python 3",
      "name": "python3"
    },
    "language_info": {
      "name": "python",
      "version": "3.10.12",
      "mimetype": "text/x-python",
      "codemirror_mode": {
        "name": "ipython",
        "version": 3
      },
      "pygments_lexer": "ipython3",
      "nbconvert_exporter": "python",
      "file_extension": ".py"
    },
    "colab": {
      "provenance": [],
      "include_colab_link": true
    }
  },
  "nbformat_minor": 0,
  "nbformat": 4,
  "cells": [
    {
      "cell_type": "markdown",
      "metadata": {
        "id": "view-in-github",
        "colab_type": "text"
      },
      "source": [
        "<a href=\"https://colab.research.google.com/github/yuriao/DataScienceProjects/blob/main/linking_typing_to_score_lgbm_baseline.ipynb\" target=\"_parent\"><img src=\"https://colab.research.google.com/assets/colab-badge.svg\" alt=\"Open In Colab\"/></a>"
      ]
    },
    {
      "cell_type": "code",
      "source": [
        "import numpy as np\n",
        "import pandas as pd\n",
        "\n",
        "import matplotlib.pyplot as plt\n",
        "import seaborn as sns\n",
        "\n",
        "from tqdm import tqdm\n",
        "tqdm.pandas()\n",
        "\n",
        "from lightgbm import LGBMRegressor\n",
        "from sklearn import model_selection, metrics\n",
        "from sklearn.preprocessing import LabelEncoder\n",
        "\n",
        "import string\n",
        "from nltk.corpus import stopwords\n",
        "\n",
        "import optuna\n",
        "from lightgbm.callback import log_evaluation, early_stopping"
      ],
      "metadata": {
        "_cell_guid": "b1076dfc-b9ad-4769-8c92-a6c4dae69d19",
        "_uuid": "8f2839f25d086af736a60e9eeb907d3b93b6e0e5",
        "papermill": {
          "duration": 3.368712,
          "end_time": "2022-10-27T04:49:15.414618",
          "exception": false,
          "start_time": "2022-10-27T04:49:12.045906",
          "status": "completed"
        },
        "tags": [],
        "execution": {
          "iopub.status.busy": "2023-10-06T04:38:00.795974Z",
          "iopub.execute_input": "2023-10-06T04:38:00.797633Z",
          "iopub.status.idle": "2023-10-06T04:38:00.811118Z",
          "shell.execute_reply.started": "2023-10-06T04:38:00.797558Z",
          "shell.execute_reply": "2023-10-06T04:38:00.809948Z"
        },
        "trusted": true,
        "id": "e_2GACftPXBl"
      },
      "execution_count": null,
      "outputs": []
    },
    {
      "cell_type": "markdown",
      "source": [
        "# Introduction"
      ],
      "metadata": {
        "papermill": {
          "duration": 0.008872,
          "end_time": "2022-10-27T04:49:15.433199",
          "exception": false,
          "start_time": "2022-10-27T04:49:15.424327",
          "status": "completed"
        },
        "tags": [],
        "id": "P3p_XscfPXBm"
      }
    },
    {
      "cell_type": "markdown",
      "source": [
        "In this notebook, we will use LGBMRegressor to examine the score of writing based on typeing activities\n",
        "- in this version only numeric typing features are used"
      ],
      "metadata": {
        "papermill": {
          "duration": 0.010947,
          "end_time": "2022-10-27T04:49:15.453299",
          "exception": false,
          "start_time": "2022-10-27T04:49:15.442352",
          "status": "completed"
        },
        "tags": [],
        "id": "HwFd2MBZPXBn"
      }
    },
    {
      "cell_type": "code",
      "source": [
        "train = pd.read_csv('/kaggle/input/linking-writing-processes-to-writing-quality/train_logs.csv')\n",
        "test = pd.read_csv('/kaggle/input/linking-writing-processes-to-writing-quality/test_logs.csv')\n",
        "train_score = pd.read_csv('/kaggle/input/linking-writing-processes-to-writing-quality/train_scores.csv')"
      ],
      "metadata": {
        "papermill": {
          "duration": 0.299064,
          "end_time": "2022-10-27T04:49:15.761552",
          "exception": false,
          "start_time": "2022-10-27T04:49:15.462488",
          "status": "completed"
        },
        "tags": [],
        "execution": {
          "iopub.status.busy": "2023-10-06T04:38:00.814294Z",
          "iopub.execute_input": "2023-10-06T04:38:00.815851Z",
          "iopub.status.idle": "2023-10-06T04:38:12.755366Z",
          "shell.execute_reply.started": "2023-10-06T04:38:00.815754Z",
          "shell.execute_reply": "2023-10-06T04:38:12.753855Z"
        },
        "trusted": true,
        "id": "V-IC6wW4PXBn"
      },
      "execution_count": null,
      "outputs": []
    },
    {
      "cell_type": "code",
      "source": [
        "train=train.merge(train_score,on='id')"
      ],
      "metadata": {
        "execution": {
          "iopub.status.busy": "2023-10-06T04:38:12.759971Z",
          "iopub.execute_input": "2023-10-06T04:38:12.760506Z",
          "iopub.status.idle": "2023-10-06T04:38:14.932396Z",
          "shell.execute_reply.started": "2023-10-06T04:38:12.760461Z",
          "shell.execute_reply": "2023-10-06T04:38:14.931085Z"
        },
        "trusted": true,
        "id": "p-znCrDxPXBo"
      },
      "execution_count": null,
      "outputs": []
    },
    {
      "cell_type": "code",
      "source": [
        "np.unique(train['down_event'])"
      ],
      "metadata": {
        "execution": {
          "iopub.status.busy": "2023-10-06T04:38:14.933851Z",
          "iopub.execute_input": "2023-10-06T04:38:14.934214Z",
          "iopub.status.idle": "2023-10-06T04:38:23.065005Z",
          "shell.execute_reply.started": "2023-10-06T04:38:14.934186Z",
          "shell.execute_reply": "2023-10-06T04:38:23.063742Z"
        },
        "trusted": true,
        "id": "9JLvSD2UPXBo",
        "outputId": "f49545b3-5851-47b2-c2c1-e1c6eb07d0fb"
      },
      "execution_count": null,
      "outputs": [
        {
          "execution_count": 93,
          "output_type": "execute_result",
          "data": {
            "text/plain": "array(['!', '\"', '#', '$', '%', '&', \"'\", '(', ')', '*', '+', ',', '-',\n       '.', '/', '0', '1', '2', '5', ':', ';', '<', '=', '>', '?', '@',\n       'A', 'Alt', 'AltGraph', 'ArrowDown', 'ArrowLeft', 'ArrowRight',\n       'ArrowUp', 'AudioVolumeDown', 'AudioVolumeMute', 'AudioVolumeUp',\n       'Backspace', 'C', 'Cancel', 'CapsLock', 'Clear', 'ContextMenu',\n       'Control', 'Dead', 'Delete', 'End', 'Enter', 'Escape', 'F', 'F1',\n       'F10', 'F11', 'F12', 'F15', 'F2', 'F3', 'F6', 'Home', 'I',\n       'Insert', 'Leftclick', 'M', 'MediaPlayPause', 'MediaTrackNext',\n       'MediaTrackPrevious', 'Meta', 'Middleclick', 'ModeChange',\n       'NumLock', 'OS', 'PageDown', 'PageUp', 'Pause', 'Process',\n       'Rightclick', 'S', 'ScrollLock', 'Shift', 'Space', 'T', 'Tab',\n       'Unidentified', 'Unknownclick', 'V', '[', '\\\\', ']', '^', '_', '`',\n       'a', 'b', 'c', 'd', 'e', 'f', 'g', 'h', 'i', 'j', 'l', 'm', 'n',\n       'o', 'p', 'q', 'r', 's', 't', 'u', 'v', 'w', 'x', 'y', 'z', '{',\n       '|', '}', '~', '\\x80', '\\x96', '\\x97', '\\x9b', '¡', '¿', 'Â´',\n       'Ä±', 'Å\\x9f', 'Ë\\x86', 'â\\x80\\x93', 'ä'], dtype=object)"
          },
          "metadata": {}
        }
      ]
    },
    {
      "cell_type": "code",
      "source": [
        "np.unique(train['up_event'])"
      ],
      "metadata": {
        "execution": {
          "iopub.status.busy": "2023-10-06T04:38:23.069300Z",
          "iopub.execute_input": "2023-10-06T04:38:23.073438Z",
          "iopub.status.idle": "2023-10-06T04:38:31.199831Z",
          "shell.execute_reply.started": "2023-10-06T04:38:23.073389Z",
          "shell.execute_reply": "2023-10-06T04:38:31.198612Z"
        },
        "trusted": true,
        "id": "yMAHvf4lPXBo",
        "outputId": "25eff34e-dda2-40db-b7e4-b83b4454bb0d"
      },
      "execution_count": null,
      "outputs": [
        {
          "execution_count": 94,
          "output_type": "execute_result",
          "data": {
            "text/plain": "array(['!', '\"', '#', '$', '%', '&', \"'\", '(', ')', '*', '+', ',', '-',\n       '.', '/', '0', '1', '2', '5', ':', ';', '<', '=', '>', '?', '@',\n       'A', 'Alt', 'AltGraph', 'ArrowDown', 'ArrowLeft', 'ArrowRight',\n       'ArrowUp', 'AudioVolumeDown', 'AudioVolumeMute', 'AudioVolumeUp',\n       'Backspace', 'C', 'Cancel', 'CapsLock', 'Clear', 'ContextMenu',\n       'Control', 'Dead', 'Delete', 'End', 'Enter', 'Escape', 'F1', 'F10',\n       'F11', 'F12', 'F15', 'F2', 'F3', 'F6', 'Home', 'Insert',\n       'Leftclick', 'M', 'MediaPlayPause', 'MediaTrackNext',\n       'MediaTrackPrevious', 'Meta', 'Middleclick', 'ModeChange',\n       'NumLock', 'OS', 'PageDown', 'PageUp', 'Pause', 'Process',\n       'Rightclick', 'S', 'ScrollLock', 'Shift', 'Space', 'T', 'Tab',\n       'Unidentified', 'Unknownclick', 'V', '[', '\\\\', ']', '^', '_', '`',\n       'a', 'b', 'c', 'd', 'e', 'f', 'g', 'h', 'i', 'j', 'k', 'l', 'm',\n       'n', 'o', 'p', 'q', 'r', 's', 't', 'u', 'v', 'w', 'x', 'y', 'z',\n       '{', '|', '}', '~', '\\x80', '\\x96', '\\x97', '\\x9b', '¡', '¿', 'Â´',\n       'Ä±', 'Å\\x9f', 'Ë\\x86', 'â\\x80\\x93', 'ä'], dtype=object)"
          },
          "metadata": {}
        }
      ]
    },
    {
      "cell_type": "markdown",
      "source": [
        "# EDA: Check nans"
      ],
      "metadata": {
        "papermill": {
          "duration": 0.010117,
          "end_time": "2022-10-27T04:49:17.299953",
          "exception": false,
          "start_time": "2022-10-27T04:49:17.289836",
          "status": "completed"
        },
        "tags": [],
        "id": "Gly6mqw1PXBo"
      }
    },
    {
      "cell_type": "code",
      "source": [
        "print(train.isna().sum())\n",
        "print(test.isna().sum())"
      ],
      "metadata": {
        "papermill": {
          "duration": 0.024832,
          "end_time": "2022-10-27T04:49:17.335184",
          "exception": false,
          "start_time": "2022-10-27T04:49:17.310352",
          "status": "completed"
        },
        "tags": [],
        "execution": {
          "iopub.status.busy": "2023-10-06T04:38:31.204144Z",
          "iopub.execute_input": "2023-10-06T04:38:31.204542Z",
          "iopub.status.idle": "2023-10-06T04:38:33.151339Z",
          "shell.execute_reply.started": "2023-10-06T04:38:31.204511Z",
          "shell.execute_reply": "2023-10-06T04:38:33.150160Z"
        },
        "trusted": true,
        "id": "GuS_QSl4PXBp",
        "outputId": "ab2246c6-b4ad-4fae-e122-ef4c2a8d80ee"
      },
      "execution_count": null,
      "outputs": [
        {
          "name": "stdout",
          "text": "id                 0\nevent_id           0\ndown_time          0\nup_time            0\naction_time        0\nactivity           0\ndown_event         0\nup_event           0\ntext_change        0\ncursor_position    0\nword_count         0\nscore              0\ndtype: int64\nid                 0\nevent_id           0\ndown_time          0\nup_time            0\naction_time        0\nactivity           0\ndown_event         0\nup_event           0\ntext_change        0\ncursor_position    0\nword_count         0\ndtype: int64\n",
          "output_type": "stream"
        }
      ]
    },
    {
      "cell_type": "markdown",
      "source": [
        "# Preprocessing: encoding catagorical / verbal features, get feature/score matrixs"
      ],
      "metadata": {
        "id": "KIPJ-TFAPXBp"
      }
    },
    {
      "cell_type": "code",
      "source": [
        "labelEncoderList=[]\n",
        "for col in ['activity','down_event','up_event']:\n",
        "    le=LabelEncoder()\n",
        "    le.fit(train[col])\n",
        "    train[col]=le.transform(train[col])\n",
        "    labelEncoderList.append(le)"
      ],
      "metadata": {
        "execution": {
          "iopub.status.busy": "2023-10-06T04:38:33.152902Z",
          "iopub.execute_input": "2023-10-06T04:38:33.156911Z",
          "iopub.status.idle": "2023-10-06T04:38:38.765758Z",
          "shell.execute_reply.started": "2023-10-06T04:38:33.156863Z",
          "shell.execute_reply": "2023-10-06T04:38:38.764488Z"
        },
        "trusted": true,
        "id": "lONH6nEjPXBp"
      },
      "execution_count": null,
      "outputs": []
    },
    {
      "cell_type": "code",
      "source": [
        "all_train_scores=train['score']\n",
        "all_train_features=train.drop(['id','event_id','activity','down_event','up_event','score','text_change'],axis=1)"
      ],
      "metadata": {
        "execution": {
          "iopub.status.busy": "2023-10-06T04:38:38.767183Z",
          "iopub.execute_input": "2023-10-06T04:38:38.767520Z",
          "iopub.status.idle": "2023-10-06T04:38:38.987614Z",
          "shell.execute_reply.started": "2023-10-06T04:38:38.767490Z",
          "shell.execute_reply": "2023-10-06T04:38:38.986046Z"
        },
        "trusted": true,
        "id": "Z5GM00cpPXBp"
      },
      "execution_count": null,
      "outputs": []
    },
    {
      "cell_type": "markdown",
      "source": [
        "## LGBM model"
      ],
      "metadata": {
        "id": "G08I-Dl4PXBp"
      }
    },
    {
      "cell_type": "code",
      "source": [
        "# LGBM model, use sklearn's MultiOutputRegressor to zip 6 prediction models\n",
        "\n",
        "def model_gen(param):\n",
        "    model = LGBMRegressor(**param)\n",
        "    return model"
      ],
      "metadata": {
        "papermill": {
          "duration": 0.021054,
          "end_time": "2022-10-27T04:49:44.406061",
          "exception": false,
          "start_time": "2022-10-27T04:49:44.385007",
          "status": "completed"
        },
        "tags": [],
        "execution": {
          "iopub.status.busy": "2023-10-06T04:38:38.989401Z",
          "iopub.execute_input": "2023-10-06T04:38:38.989767Z",
          "iopub.status.idle": "2023-10-06T04:38:39.015271Z",
          "shell.execute_reply.started": "2023-10-06T04:38:38.989738Z",
          "shell.execute_reply": "2023-10-06T04:38:39.013767Z"
        },
        "trusted": true,
        "id": "20QIm6RkPXBp"
      },
      "execution_count": null,
      "outputs": []
    },
    {
      "cell_type": "markdown",
      "source": [
        "## Hyperparameter optimization with Optuna"
      ],
      "metadata": {
        "papermill": {
          "duration": 0.010475,
          "end_time": "2022-10-27T04:49:44.427510",
          "exception": false,
          "start_time": "2022-10-27T04:49:44.417035",
          "status": "completed"
        },
        "tags": [],
        "id": "D8v1r5E2PXBp"
      }
    },
    {
      "cell_type": "code",
      "source": [
        "def objective(trial, data=all_train_features, target=all_train_scores):\n",
        "    train_x, test_x, train_y, test_y = model_selection.train_test_split(data, target, test_size=0.3, random_state=42)\n",
        "    param = {\n",
        "        'metric': 'rmse',\n",
        "        'random_state': 42,\n",
        "        'n_estimators': trial.suggest_int('n_estimators', 10, 500),\n",
        "        'reg_alpha': trial.suggest_loguniform('reg_alpha', 1e-3, 10.0),\n",
        "        'reg_lambda': trial.suggest_loguniform('reg_lambda', 1e-3, 10.0),\n",
        "        'colsample_bytree': trial.suggest_categorical('colsample_bytree', [0.001, 0.01, 0.3,0.4,0.5,0.6,0.7,0.8,0.9, 1.0]),\n",
        "        'subsample': trial.suggest_categorical('subsample', [0.2, 0.4,0.5,0.6,0.7,0.8,1.0]),\n",
        "        'learning_rate': trial.suggest_categorical('learning_rate', [0.004, 0.008, 0.01, 0.02, 0.05, .1, 0.2, 0.5]),\n",
        "        'max_depth': trial.suggest_categorical('max_depth', [10, 20,100, 150]),\n",
        "        'min_child_samples': trial.suggest_int('min_child_samples', 1, 300),\n",
        "    }\n",
        "\n",
        "    model = model_gen(param)\n",
        "\n",
        "    model.fit(train_x, train_y)\n",
        "\n",
        "    preds = model.predict(test_x)\n",
        "\n",
        "    rmse = np.sqrt(metrics.mean_squared_error(test_y, preds))\n",
        "\n",
        "    return rmse"
      ],
      "metadata": {
        "execution": {
          "iopub.status.busy": "2023-10-06T04:38:39.017190Z",
          "iopub.execute_input": "2023-10-06T04:38:39.017527Z",
          "iopub.status.idle": "2023-10-06T04:38:39.029515Z",
          "shell.execute_reply.started": "2023-10-06T04:38:39.017501Z",
          "shell.execute_reply": "2023-10-06T04:38:39.028323Z"
        },
        "trusted": true,
        "id": "gMZD7SH5PXBq"
      },
      "execution_count": null,
      "outputs": []
    },
    {
      "cell_type": "code",
      "source": [
        "\n",
        "#studies=[]\n",
        "\n",
        "#optuna.logging.set_verbosity(optuna.logging.INFO)\n",
        "\n",
        "#study = optuna.create_study(direction='minimize')\n",
        "#study.optimize(objective, n_trials=50)\n",
        "#print(f'Number of finished trials: {len(study.trials)}')\n",
        "#print(f'Best trial: {study.best_trial.params}')\n",
        "#print(f'Best score: {study.best_value}')"
      ],
      "metadata": {
        "papermill": {
          "duration": 0.02009,
          "end_time": "2022-10-27T04:49:44.495855",
          "exception": false,
          "start_time": "2022-10-27T04:49:44.475765",
          "status": "completed"
        },
        "tags": [],
        "execution": {
          "iopub.status.busy": "2023-10-06T04:38:39.031437Z",
          "iopub.execute_input": "2023-10-06T04:38:39.032039Z",
          "iopub.status.idle": "2023-10-06T04:38:39.049692Z",
          "shell.execute_reply.started": "2023-10-06T04:38:39.032011Z",
          "shell.execute_reply": "2023-10-06T04:38:39.048430Z"
        },
        "trusted": true,
        "id": "egbU4uIuPXBq"
      },
      "execution_count": null,
      "outputs": []
    },
    {
      "cell_type": "code",
      "source": [
        "best_params={'n_estimators': 434, 'reg_alpha': 0.2095518332792688, 'reg_lambda': 0.26095334549724497, 'colsample_bytree': 0.3, 'subsample': 0.2, 'learning_rate': 0.02, 'max_depth': 150, 'min_child_samples': 21}"
      ],
      "metadata": {
        "papermill": {
          "duration": 0.020562,
          "end_time": "2022-10-27T04:49:44.527529",
          "exception": false,
          "start_time": "2022-10-27T04:49:44.506967",
          "status": "completed"
        },
        "tags": [],
        "execution": {
          "iopub.status.busy": "2023-10-06T04:38:39.055334Z",
          "iopub.execute_input": "2023-10-06T04:38:39.055704Z",
          "iopub.status.idle": "2023-10-06T04:38:39.066682Z",
          "shell.execute_reply.started": "2023-10-06T04:38:39.055676Z",
          "shell.execute_reply": "2023-10-06T04:38:39.065268Z"
        },
        "trusted": true,
        "id": "hoDNN7KNPXBq"
      },
      "execution_count": null,
      "outputs": []
    },
    {
      "cell_type": "markdown",
      "source": [
        "# training"
      ],
      "metadata": {
        "papermill": {
          "duration": 0.010479,
          "end_time": "2022-10-27T04:49:44.548977",
          "exception": false,
          "start_time": "2022-10-27T04:49:44.538498",
          "status": "completed"
        },
        "tags": [],
        "id": "nT9NTiJMPXBq"
      }
    },
    {
      "cell_type": "code",
      "source": [
        "LGBMModel=model_gen(best_params)"
      ],
      "metadata": {
        "papermill": {
          "duration": 0.020283,
          "end_time": "2022-10-27T04:49:44.611650",
          "exception": false,
          "start_time": "2022-10-27T04:49:44.591367",
          "status": "completed"
        },
        "tags": [],
        "execution": {
          "iopub.status.busy": "2023-10-06T04:38:39.072204Z",
          "iopub.execute_input": "2023-10-06T04:38:39.072646Z",
          "iopub.status.idle": "2023-10-06T04:38:39.081924Z",
          "shell.execute_reply.started": "2023-10-06T04:38:39.072616Z",
          "shell.execute_reply": "2023-10-06T04:38:39.080667Z"
        },
        "trusted": true,
        "id": "cFgTSMChPXBq"
      },
      "execution_count": null,
      "outputs": []
    },
    {
      "cell_type": "code",
      "source": [
        "print(f'Fitting Model')\n",
        "LGBMModel.fit(all_train_features, all_train_scores)\n"
      ],
      "metadata": {
        "papermill": {
          "duration": 52.811193,
          "end_time": "2022-10-27T04:50:37.433946",
          "exception": false,
          "start_time": "2022-10-27T04:49:44.622753",
          "status": "completed"
        },
        "tags": [],
        "execution": {
          "iopub.status.busy": "2023-10-06T04:38:39.085058Z",
          "iopub.execute_input": "2023-10-06T04:38:39.085765Z",
          "iopub.status.idle": "2023-10-06T04:40:01.242564Z",
          "shell.execute_reply.started": "2023-10-06T04:38:39.085735Z",
          "shell.execute_reply": "2023-10-06T04:40:01.241355Z"
        },
        "trusted": true,
        "id": "v24guzzSPXBq",
        "outputId": "62968965-f4e5-48a1-bfbd-acc984373b7d"
      },
      "execution_count": null,
      "outputs": [
        {
          "name": "stdout",
          "text": "Fitting Model\n",
          "output_type": "stream"
        },
        {
          "execution_count": 103,
          "output_type": "execute_result",
          "data": {
            "text/plain": "LGBMRegressor(colsample_bytree=0.3, learning_rate=0.02, max_depth=150,\n              min_child_samples=21, n_estimators=434,\n              reg_alpha=0.2095518332792688, reg_lambda=0.26095334549724497,\n              subsample=0.2)",
            "text/html": "<style>#sk-container-id-2 {color: black;background-color: white;}#sk-container-id-2 pre{padding: 0;}#sk-container-id-2 div.sk-toggleable {background-color: white;}#sk-container-id-2 label.sk-toggleable__label {cursor: pointer;display: block;width: 100%;margin-bottom: 0;padding: 0.3em;box-sizing: border-box;text-align: center;}#sk-container-id-2 label.sk-toggleable__label-arrow:before {content: \"▸\";float: left;margin-right: 0.25em;color: #696969;}#sk-container-id-2 label.sk-toggleable__label-arrow:hover:before {color: black;}#sk-container-id-2 div.sk-estimator:hover label.sk-toggleable__label-arrow:before {color: black;}#sk-container-id-2 div.sk-toggleable__content {max-height: 0;max-width: 0;overflow: hidden;text-align: left;background-color: #f0f8ff;}#sk-container-id-2 div.sk-toggleable__content pre {margin: 0.2em;color: black;border-radius: 0.25em;background-color: #f0f8ff;}#sk-container-id-2 input.sk-toggleable__control:checked~div.sk-toggleable__content {max-height: 200px;max-width: 100%;overflow: auto;}#sk-container-id-2 input.sk-toggleable__control:checked~label.sk-toggleable__label-arrow:before {content: \"▾\";}#sk-container-id-2 div.sk-estimator input.sk-toggleable__control:checked~label.sk-toggleable__label {background-color: #d4ebff;}#sk-container-id-2 div.sk-label input.sk-toggleable__control:checked~label.sk-toggleable__label {background-color: #d4ebff;}#sk-container-id-2 input.sk-hidden--visually {border: 0;clip: rect(1px 1px 1px 1px);clip: rect(1px, 1px, 1px, 1px);height: 1px;margin: -1px;overflow: hidden;padding: 0;position: absolute;width: 1px;}#sk-container-id-2 div.sk-estimator {font-family: monospace;background-color: #f0f8ff;border: 1px dotted black;border-radius: 0.25em;box-sizing: border-box;margin-bottom: 0.5em;}#sk-container-id-2 div.sk-estimator:hover {background-color: #d4ebff;}#sk-container-id-2 div.sk-parallel-item::after {content: \"\";width: 100%;border-bottom: 1px solid gray;flex-grow: 1;}#sk-container-id-2 div.sk-label:hover label.sk-toggleable__label {background-color: #d4ebff;}#sk-container-id-2 div.sk-serial::before {content: \"\";position: absolute;border-left: 1px solid gray;box-sizing: border-box;top: 0;bottom: 0;left: 50%;z-index: 0;}#sk-container-id-2 div.sk-serial {display: flex;flex-direction: column;align-items: center;background-color: white;padding-right: 0.2em;padding-left: 0.2em;position: relative;}#sk-container-id-2 div.sk-item {position: relative;z-index: 1;}#sk-container-id-2 div.sk-parallel {display: flex;align-items: stretch;justify-content: center;background-color: white;position: relative;}#sk-container-id-2 div.sk-item::before, #sk-container-id-2 div.sk-parallel-item::before {content: \"\";position: absolute;border-left: 1px solid gray;box-sizing: border-box;top: 0;bottom: 0;left: 50%;z-index: -1;}#sk-container-id-2 div.sk-parallel-item {display: flex;flex-direction: column;z-index: 1;position: relative;background-color: white;}#sk-container-id-2 div.sk-parallel-item:first-child::after {align-self: flex-end;width: 50%;}#sk-container-id-2 div.sk-parallel-item:last-child::after {align-self: flex-start;width: 50%;}#sk-container-id-2 div.sk-parallel-item:only-child::after {width: 0;}#sk-container-id-2 div.sk-dashed-wrapped {border: 1px dashed gray;margin: 0 0.4em 0.5em 0.4em;box-sizing: border-box;padding-bottom: 0.4em;background-color: white;}#sk-container-id-2 div.sk-label label {font-family: monospace;font-weight: bold;display: inline-block;line-height: 1.2em;}#sk-container-id-2 div.sk-label-container {text-align: center;}#sk-container-id-2 div.sk-container {/* jupyter's `normalize.less` sets `[hidden] { display: none; }` but bootstrap.min.css set `[hidden] { display: none !important; }` so we also need the `!important` here to be able to override the default hidden behavior on the sphinx rendered scikit-learn.org. See: https://github.com/scikit-learn/scikit-learn/issues/21755 */display: inline-block !important;position: relative;}#sk-container-id-2 div.sk-text-repr-fallback {display: none;}</style><div id=\"sk-container-id-2\" class=\"sk-top-container\"><div class=\"sk-text-repr-fallback\"><pre>LGBMRegressor(colsample_bytree=0.3, learning_rate=0.02, max_depth=150,\n              min_child_samples=21, n_estimators=434,\n              reg_alpha=0.2095518332792688, reg_lambda=0.26095334549724497,\n              subsample=0.2)</pre><b>In a Jupyter environment, please rerun this cell to show the HTML representation or trust the notebook. <br />On GitHub, the HTML representation is unable to render, please try loading this page with nbviewer.org.</b></div><div class=\"sk-container\" hidden><div class=\"sk-item\"><div class=\"sk-estimator sk-toggleable\"><input class=\"sk-toggleable__control sk-hidden--visually\" id=\"sk-estimator-id-2\" type=\"checkbox\" checked><label for=\"sk-estimator-id-2\" class=\"sk-toggleable__label sk-toggleable__label-arrow\">LGBMRegressor</label><div class=\"sk-toggleable__content\"><pre>LGBMRegressor(colsample_bytree=0.3, learning_rate=0.02, max_depth=150,\n              min_child_samples=21, n_estimators=434,\n              reg_alpha=0.2095518332792688, reg_lambda=0.26095334549724497,\n              subsample=0.2)</pre></div></div></div></div></div>"
          },
          "metadata": {}
        }
      ]
    },
    {
      "cell_type": "markdown",
      "source": [
        "# generate output"
      ],
      "metadata": {
        "papermill": {
          "duration": 0.011512,
          "end_time": "2022-10-27T04:50:37.456668",
          "exception": false,
          "start_time": "2022-10-27T04:50:37.445156",
          "status": "completed"
        },
        "tags": [],
        "id": "738VQxZiPXBq"
      }
    },
    {
      "cell_type": "code",
      "source": [
        "test_id=test['id']\n",
        "test=test.drop(['id','event_id','text_change','activity','down_event','up_event'],axis=1)\n"
      ],
      "metadata": {
        "execution": {
          "iopub.status.busy": "2023-10-06T04:40:01.244761Z",
          "iopub.execute_input": "2023-10-06T04:40:01.245702Z",
          "iopub.status.idle": "2023-10-06T04:40:01.253332Z",
          "shell.execute_reply.started": "2023-10-06T04:40:01.245659Z",
          "shell.execute_reply": "2023-10-06T04:40:01.252164Z"
        },
        "trusted": true,
        "id": "r7IUHVnTPXBq"
      },
      "execution_count": null,
      "outputs": []
    },
    {
      "cell_type": "code",
      "source": [
        "#encodingCols=['activity','down_event','up_event']\n",
        "#for i in range(0,len(labelEncoderList)):\n",
        "#    test[encodingCols[i]]=labelEncoderList[i].transform(test[encodingCols[i]])"
      ],
      "metadata": {
        "papermill": {
          "duration": 0.020122,
          "end_time": "2022-10-27T04:50:37.521890",
          "exception": false,
          "start_time": "2022-10-27T04:50:37.501768",
          "status": "completed"
        },
        "tags": [],
        "execution": {
          "iopub.status.busy": "2023-10-06T04:43:37.781671Z",
          "iopub.execute_input": "2023-10-06T04:43:37.782033Z",
          "iopub.status.idle": "2023-10-06T04:43:37.787657Z",
          "shell.execute_reply.started": "2023-10-06T04:43:37.782008Z",
          "shell.execute_reply": "2023-10-06T04:43:37.786656Z"
        },
        "trusted": true,
        "id": "P_CH7A2YPXBq"
      },
      "execution_count": null,
      "outputs": []
    },
    {
      "cell_type": "code",
      "source": [
        "predictions = LGBMModel.predict(test)\n",
        "test['predictions']=predictions\n",
        "test['id']=test_id"
      ],
      "metadata": {
        "papermill": {
          "duration": 0.028014,
          "end_time": "2022-10-27T04:50:37.560991",
          "exception": false,
          "start_time": "2022-10-27T04:50:37.532977",
          "status": "completed"
        },
        "tags": [],
        "execution": {
          "iopub.status.busy": "2023-10-06T04:43:40.299515Z",
          "iopub.execute_input": "2023-10-06T04:43:40.300301Z",
          "iopub.status.idle": "2023-10-06T04:43:40.307847Z",
          "shell.execute_reply.started": "2023-10-06T04:43:40.300269Z",
          "shell.execute_reply": "2023-10-06T04:43:40.307131Z"
        },
        "trusted": true,
        "id": "QtDECcfQPXBq"
      },
      "execution_count": null,
      "outputs": []
    },
    {
      "cell_type": "code",
      "source": [
        "test"
      ],
      "metadata": {
        "execution": {
          "iopub.status.busy": "2023-10-06T04:43:40.905735Z",
          "iopub.execute_input": "2023-10-06T04:43:40.906413Z",
          "iopub.status.idle": "2023-10-06T04:43:40.917558Z",
          "shell.execute_reply.started": "2023-10-06T04:43:40.906379Z",
          "shell.execute_reply": "2023-10-06T04:43:40.916722Z"
        },
        "trusted": true,
        "id": "HUmcjTyGPXBq",
        "outputId": "e548cf1c-1dce-4e19-ee7f-efc63c1ff287"
      },
      "execution_count": null,
      "outputs": [
        {
          "execution_count": 109,
          "output_type": "execute_result",
          "data": {
            "text/plain": "   down_time  up_time  action_time  cursor_position  word_count  predictions  \\\n0     338433   338518           85                0           0     3.140039   \n1     760073   760160           87                1           0     2.895859   \n2     711956   712023           67                0           1     2.865882   \n3     290502   290548           46                1           1     3.234341   \n4     635547   635641           94                0           0     2.928482   \n5     184996   185052           56                1           1     3.351659   \n\n         id  \n0  0000aaaa  \n1  0000aaaa  \n2  2222bbbb  \n3  2222bbbb  \n4  4444cccc  \n5  4444cccc  ",
            "text/html": "<div>\n<style scoped>\n    .dataframe tbody tr th:only-of-type {\n        vertical-align: middle;\n    }\n\n    .dataframe tbody tr th {\n        vertical-align: top;\n    }\n\n    .dataframe thead th {\n        text-align: right;\n    }\n</style>\n<table border=\"1\" class=\"dataframe\">\n  <thead>\n    <tr style=\"text-align: right;\">\n      <th></th>\n      <th>down_time</th>\n      <th>up_time</th>\n      <th>action_time</th>\n      <th>cursor_position</th>\n      <th>word_count</th>\n      <th>predictions</th>\n      <th>id</th>\n    </tr>\n  </thead>\n  <tbody>\n    <tr>\n      <th>0</th>\n      <td>338433</td>\n      <td>338518</td>\n      <td>85</td>\n      <td>0</td>\n      <td>0</td>\n      <td>3.140039</td>\n      <td>0000aaaa</td>\n    </tr>\n    <tr>\n      <th>1</th>\n      <td>760073</td>\n      <td>760160</td>\n      <td>87</td>\n      <td>1</td>\n      <td>0</td>\n      <td>2.895859</td>\n      <td>0000aaaa</td>\n    </tr>\n    <tr>\n      <th>2</th>\n      <td>711956</td>\n      <td>712023</td>\n      <td>67</td>\n      <td>0</td>\n      <td>1</td>\n      <td>2.865882</td>\n      <td>2222bbbb</td>\n    </tr>\n    <tr>\n      <th>3</th>\n      <td>290502</td>\n      <td>290548</td>\n      <td>46</td>\n      <td>1</td>\n      <td>1</td>\n      <td>3.234341</td>\n      <td>2222bbbb</td>\n    </tr>\n    <tr>\n      <th>4</th>\n      <td>635547</td>\n      <td>635641</td>\n      <td>94</td>\n      <td>0</td>\n      <td>0</td>\n      <td>2.928482</td>\n      <td>4444cccc</td>\n    </tr>\n    <tr>\n      <th>5</th>\n      <td>184996</td>\n      <td>185052</td>\n      <td>56</td>\n      <td>1</td>\n      <td>1</td>\n      <td>3.351659</td>\n      <td>4444cccc</td>\n    </tr>\n  </tbody>\n</table>\n</div>"
          },
          "metadata": {}
        }
      ]
    },
    {
      "cell_type": "code",
      "source": [
        "submission = pd.read_csv('/kaggle/input/linking-writing-processes-to-writing-quality/sample_submission.csv')\n",
        "test_pred=list(test.groupby('id').mean()['predictions'])\n",
        "submission['score']=test_pred"
      ],
      "metadata": {
        "papermill": {
          "duration": 0.029999,
          "end_time": "2022-10-27T04:50:37.604191",
          "exception": false,
          "start_time": "2022-10-27T04:50:37.574192",
          "status": "completed"
        },
        "tags": [],
        "execution": {
          "iopub.status.busy": "2023-10-06T04:43:41.980130Z",
          "iopub.execute_input": "2023-10-06T04:43:41.980797Z",
          "iopub.status.idle": "2023-10-06T04:43:41.994851Z",
          "shell.execute_reply.started": "2023-10-06T04:43:41.980750Z",
          "shell.execute_reply": "2023-10-06T04:43:41.993185Z"
        },
        "trusted": true,
        "id": "_K0MbKeGPXBq"
      },
      "execution_count": null,
      "outputs": []
    },
    {
      "cell_type": "code",
      "source": [
        "submission"
      ],
      "metadata": {
        "papermill": {
          "duration": 0.030265,
          "end_time": "2022-10-27T04:50:37.645689",
          "exception": false,
          "start_time": "2022-10-27T04:50:37.615424",
          "status": "completed"
        },
        "tags": [],
        "execution": {
          "iopub.status.busy": "2023-10-06T04:43:42.594339Z",
          "iopub.execute_input": "2023-10-06T04:43:42.594690Z",
          "iopub.status.idle": "2023-10-06T04:43:42.608670Z",
          "shell.execute_reply.started": "2023-10-06T04:43:42.594664Z",
          "shell.execute_reply": "2023-10-06T04:43:42.607727Z"
        },
        "trusted": true,
        "id": "dOtygfpRPXBq",
        "outputId": "7a1d90aa-76a5-4ae2-ad84-e889520925fb"
      },
      "execution_count": null,
      "outputs": [
        {
          "execution_count": 111,
          "output_type": "execute_result",
          "data": {
            "text/plain": "         id     score\n0  0000aaaa  3.017949\n1  2222bbbb  3.050112\n2  4444cccc  3.140070",
            "text/html": "<div>\n<style scoped>\n    .dataframe tbody tr th:only-of-type {\n        vertical-align: middle;\n    }\n\n    .dataframe tbody tr th {\n        vertical-align: top;\n    }\n\n    .dataframe thead th {\n        text-align: right;\n    }\n</style>\n<table border=\"1\" class=\"dataframe\">\n  <thead>\n    <tr style=\"text-align: right;\">\n      <th></th>\n      <th>id</th>\n      <th>score</th>\n    </tr>\n  </thead>\n  <tbody>\n    <tr>\n      <th>0</th>\n      <td>0000aaaa</td>\n      <td>3.017949</td>\n    </tr>\n    <tr>\n      <th>1</th>\n      <td>2222bbbb</td>\n      <td>3.050112</td>\n    </tr>\n    <tr>\n      <th>2</th>\n      <td>4444cccc</td>\n      <td>3.140070</td>\n    </tr>\n  </tbody>\n</table>\n</div>"
          },
          "metadata": {}
        }
      ]
    },
    {
      "cell_type": "code",
      "source": [
        "submission.to_csv(\"submission.csv\", index=False)"
      ],
      "metadata": {
        "papermill": {
          "duration": 0.02451,
          "end_time": "2022-10-27T04:50:37.681270",
          "exception": false,
          "start_time": "2022-10-27T04:50:37.656760",
          "status": "completed"
        },
        "tags": [],
        "execution": {
          "iopub.status.busy": "2023-10-06T04:43:43.208812Z",
          "iopub.execute_input": "2023-10-06T04:43:43.209537Z",
          "iopub.status.idle": "2023-10-06T04:43:43.216414Z",
          "shell.execute_reply.started": "2023-10-06T04:43:43.209497Z",
          "shell.execute_reply": "2023-10-06T04:43:43.214686Z"
        },
        "trusted": true,
        "id": "SycT6yQCPXBq"
      },
      "execution_count": null,
      "outputs": []
    },
    {
      "cell_type": "code",
      "source": [
        "print('done')"
      ],
      "metadata": {
        "papermill": {
          "duration": 0.011647,
          "end_time": "2022-10-27T04:50:37.704327",
          "exception": false,
          "start_time": "2022-10-27T04:50:37.692680",
          "status": "completed"
        },
        "tags": [],
        "execution": {
          "iopub.status.busy": "2023-10-06T04:43:44.053518Z",
          "iopub.execute_input": "2023-10-06T04:43:44.054335Z",
          "iopub.status.idle": "2023-10-06T04:43:44.058850Z",
          "shell.execute_reply.started": "2023-10-06T04:43:44.054304Z",
          "shell.execute_reply": "2023-10-06T04:43:44.058118Z"
        },
        "trusted": true,
        "id": "JkCrQrZNPXBq",
        "outputId": "a7933f32-674c-4c65-c58b-d6bb4ad6b57c"
      },
      "execution_count": null,
      "outputs": [
        {
          "name": "stdout",
          "text": "done\n",
          "output_type": "stream"
        }
      ]
    },
    {
      "cell_type": "code",
      "source": [],
      "metadata": {
        "id": "jMQOrmRYPXBq"
      },
      "execution_count": null,
      "outputs": []
    }
  ]
}