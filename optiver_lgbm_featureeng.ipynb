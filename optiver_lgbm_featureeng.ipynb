{
  "metadata": {
    "kernelspec": {
      "language": "python",
      "display_name": "Python 3",
      "name": "python3"
    },
    "language_info": {
      "name": "python",
      "version": "3.10.12",
      "mimetype": "text/x-python",
      "codemirror_mode": {
        "name": "ipython",
        "version": 3
      },
      "pygments_lexer": "ipython3",
      "nbconvert_exporter": "python",
      "file_extension": ".py"
    },
    "kaggle": {
      "accelerator": "none",
      "dataSources": [
        {
          "sourceId": 57891,
          "databundleVersionId": 7056235,
          "sourceType": "competition"
        }
      ],
      "dockerImageVersionId": 30579,
      "isInternetEnabled": false,
      "language": "python",
      "sourceType": "notebook",
      "isGpuEnabled": false
    },
    "colab": {
      "provenance": [],
      "include_colab_link": true
    }
  },
  "nbformat_minor": 0,
  "nbformat": 4,
  "cells": [
    {
      "cell_type": "markdown",
      "metadata": {
        "id": "view-in-github",
        "colab_type": "text"
      },
      "source": [
        "<a href=\"https://colab.research.google.com/github/yuriao/DataScienceProjects/blob/main/optiver_lgbm_featureeng.ipynb\" target=\"_parent\"><img src=\"https://colab.research.google.com/assets/colab-badge.svg\" alt=\"Open In Colab\"/></a>"
      ]
    },
    {
      "cell_type": "code",
      "source": [
        "!pip install optuna"
      ],
      "metadata": {
        "colab": {
          "base_uri": "https://localhost:8080/"
        },
        "id": "32g-1siOemUh",
        "outputId": "5ce3374b-2431-407e-fb75-10630517f8d5"
      },
      "execution_count": 1,
      "outputs": [
        {
          "output_type": "stream",
          "name": "stdout",
          "text": [
            "Collecting optuna\n",
            "  Downloading optuna-3.4.0-py3-none-any.whl (409 kB)\n",
            "\u001b[2K     \u001b[90m━━━━━━━━━━━━━━━━━━━━━━━━━━━━━━━━━━━━━━━━\u001b[0m \u001b[32m409.6/409.6 kB\u001b[0m \u001b[31m5.9 MB/s\u001b[0m eta \u001b[36m0:00:00\u001b[0m\n",
            "\u001b[?25hCollecting alembic>=1.5.0 (from optuna)\n",
            "  Downloading alembic-1.12.1-py3-none-any.whl (226 kB)\n",
            "\u001b[2K     \u001b[90m━━━━━━━━━━━━━━━━━━━━━━━━━━━━━━━━━━━━━━━━\u001b[0m \u001b[32m226.8/226.8 kB\u001b[0m \u001b[31m24.5 MB/s\u001b[0m eta \u001b[36m0:00:00\u001b[0m\n",
            "\u001b[?25hCollecting colorlog (from optuna)\n",
            "  Downloading colorlog-6.7.0-py2.py3-none-any.whl (11 kB)\n",
            "Requirement already satisfied: numpy in /usr/local/lib/python3.10/dist-packages (from optuna) (1.23.5)\n",
            "Requirement already satisfied: packaging>=20.0 in /usr/local/lib/python3.10/dist-packages (from optuna) (23.2)\n",
            "Requirement already satisfied: sqlalchemy>=1.3.0 in /usr/local/lib/python3.10/dist-packages (from optuna) (2.0.23)\n",
            "Requirement already satisfied: tqdm in /usr/local/lib/python3.10/dist-packages (from optuna) (4.66.1)\n",
            "Requirement already satisfied: PyYAML in /usr/local/lib/python3.10/dist-packages (from optuna) (6.0.1)\n",
            "Collecting Mako (from alembic>=1.5.0->optuna)\n",
            "  Downloading Mako-1.3.0-py3-none-any.whl (78 kB)\n",
            "\u001b[2K     \u001b[90m━━━━━━━━━━━━━━━━━━━━━━━━━━━━━━━━━━━━━━━━\u001b[0m \u001b[32m78.6/78.6 kB\u001b[0m \u001b[31m9.8 MB/s\u001b[0m eta \u001b[36m0:00:00\u001b[0m\n",
            "\u001b[?25hRequirement already satisfied: typing-extensions>=4 in /usr/local/lib/python3.10/dist-packages (from alembic>=1.5.0->optuna) (4.5.0)\n",
            "Requirement already satisfied: greenlet!=0.4.17 in /usr/local/lib/python3.10/dist-packages (from sqlalchemy>=1.3.0->optuna) (3.0.1)\n",
            "Requirement already satisfied: MarkupSafe>=0.9.2 in /usr/local/lib/python3.10/dist-packages (from Mako->alembic>=1.5.0->optuna) (2.1.3)\n",
            "Installing collected packages: Mako, colorlog, alembic, optuna\n",
            "Successfully installed Mako-1.3.0 alembic-1.12.1 colorlog-6.7.0 optuna-3.4.0\n"
          ]
        }
      ]
    },
    {
      "cell_type": "code",
      "source": [
        "import pandas as pd\n",
        "import numpy as np\n",
        "from lightgbm import LGBMRegressor\n",
        "import gc\n",
        "from itertools import combinations\n",
        "import warnings\n",
        "from sklearn.model_selection import KFold\n",
        "from sklearn.metrics import mean_absolute_error\n",
        "from warnings import simplefilter\n",
        "import joblib\n",
        "from sklearn.model_selection import StratifiedKFold\n",
        "from scipy.stats import kurtosis, skew\n",
        "from tqdm import tqdm\n",
        "import copy\n",
        "\n",
        "warnings.filterwarnings('ignore')\n",
        "simplefilter(action=\"ignore\", category=pd.errors.PerformanceWarning)\n"
      ],
      "metadata": {
        "execution": {
          "iopub.status.busy": "2023-11-17T01:32:28.018063Z",
          "iopub.execute_input": "2023-11-17T01:32:28.018427Z",
          "iopub.status.idle": "2023-11-17T01:32:30.965180Z",
          "shell.execute_reply.started": "2023-11-17T01:32:28.018371Z",
          "shell.execute_reply": "2023-11-17T01:32:30.964439Z"
        },
        "trusted": true,
        "id": "ak80T8rqei6M"
      },
      "execution_count": 2,
      "outputs": []
    },
    {
      "cell_type": "code",
      "source": [
        "from google.colab import drive\n",
        "drive.mount('optiver_data')"
      ],
      "metadata": {
        "id": "o6t1PJSgerpA"
      },
      "execution_count": null,
      "outputs": []
    },
    {
      "cell_type": "markdown",
      "source": [
        "# 1. read data"
      ],
      "metadata": {
        "id": "ufw60dvHei6N"
      }
    },
    {
      "cell_type": "code",
      "source": [
        "train = pd.read_csv('/content/optiver_data/MyDrive/optiver_data/train.csv')"
      ],
      "metadata": {
        "execution": {
          "iopub.status.busy": "2023-11-17T01:32:30.966891Z",
          "iopub.execute_input": "2023-11-17T01:32:30.967476Z",
          "iopub.status.idle": "2023-11-17T01:32:43.856589Z",
          "shell.execute_reply.started": "2023-11-17T01:32:30.967442Z",
          "shell.execute_reply": "2023-11-17T01:32:43.855273Z"
        },
        "trusted": true,
        "id": "NSLSCArpei6N"
      },
      "execution_count": null,
      "outputs": []
    },
    {
      "cell_type": "code",
      "source": [
        "train"
      ],
      "metadata": {
        "execution": {
          "iopub.status.busy": "2023-11-17T01:32:43.857779Z",
          "iopub.execute_input": "2023-11-17T01:32:43.858045Z",
          "iopub.status.idle": "2023-11-17T01:32:43.901268Z",
          "shell.execute_reply.started": "2023-11-17T01:32:43.858024Z",
          "shell.execute_reply": "2023-11-17T01:32:43.900149Z"
        },
        "trusted": true,
        "id": "_-vJFYzfei6N"
      },
      "execution_count": null,
      "outputs": []
    },
    {
      "cell_type": "markdown",
      "source": [
        "# 2. feature engineering"
      ],
      "metadata": {
        "id": "Pbo50TdIei6N"
      }
    },
    {
      "cell_type": "code",
      "source": [
        "class Preprocessor:\n",
        "\n",
        "    def preprocessing(self,df_ori):\n",
        "\n",
        "        df=copy.deepcopy(df_ori)\n",
        "        # 1. additional columns\n",
        "        df['signed_imbalance_size']=df['imbalance_size']*df['imbalance_buy_sell_flag']\n",
        "\n",
        "        # 2. statistical features for each stock\n",
        "        feats_stat = [\n",
        "            ('imbalance_size', ['mean', 'std', 'min', 'max', 'last', 'first', 'median', 'sum', 'skew']),\n",
        "            ('imbalance_buy_sell_flag',['nunique','mean']),\n",
        "            ('signed_imbalance_size', ['mean', 'std', 'min', 'max', 'last', 'first', 'median', 'sum', 'skew']),\n",
        "            ('reference_price', ['mean', 'std', 'min', 'max', 'last', 'first', 'median', 'sum', 'skew']),\n",
        "            ('matched_size', ['mean', 'std', 'min', 'max', 'last', 'first', 'median', 'sum', 'skew']),\n",
        "            ('far_price', ['mean', 'std', 'min', 'max', 'last', 'first', 'median', 'sum', 'skew']),\n",
        "            ('near_price', ['mean', 'std', 'min', 'max', 'last', 'first', 'median', 'sum', 'skew']),\n",
        "            ('bid_price', ['mean', 'std', 'min', 'max', 'last', 'first', 'median', 'sum', 'skew']),\n",
        "            ('bid_size', ['mean', 'std', 'min', 'max', 'last', 'first', 'median', 'sum', 'skew']),\n",
        "            ('ask_price', ['mean', 'std', 'min', 'max', 'last', 'first', 'median', 'sum', 'skew']),\n",
        "            ('ask_size', ['mean', 'std', 'min', 'max', 'last', 'first', 'median', 'sum', 'skew']),\n",
        "            ('wap', ['mean', 'std', 'min', 'max', 'last', 'first', 'median', 'sum', 'skew']),\n",
        "        ]\n",
        "\n",
        "        for colname_method in tqdm(feats_stat):\n",
        "            for idx,method in enumerate(colname_method[1]):\n",
        "                tmp_df = df.groupby(['stock_id']).agg({colname_method[0]: method}).reset_index().rename(columns={colname_method[0]: f'{colname_method[0]}_{method}'}).sort_values(by=['stock_id'])\n",
        "                # https://stackoverflow.com/questions/39291499/how-to-concatenate-multiple-column-values-into-a-single-column-in-pandas-datafra\n",
        "                #tmp_df['row_id']=tmp_df[['stock_id','date_id','seconds_in_bucket']].apply(lambda row: '_'.join(row.values.astype(str)), axis=1)\n",
        "                #tmp_df1=tmp_df.loc[:,['row_id',colname_method[0]+'_'+method]]\n",
        "                df=df.merge(tmp_df,on='stock_id',how='left')\n",
        "\n",
        "        return df"
      ],
      "metadata": {
        "execution": {
          "iopub.status.busy": "2023-11-17T01:32:44.025341Z",
          "iopub.execute_input": "2023-11-17T01:32:44.026021Z",
          "iopub.status.idle": "2023-11-17T01:32:44.037944Z",
          "shell.execute_reply.started": "2023-11-17T01:32:44.025984Z",
          "shell.execute_reply": "2023-11-17T01:32:44.036793Z"
        },
        "trusted": true,
        "id": "l5HCaLyuei6O"
      },
      "execution_count": null,
      "outputs": []
    },
    {
      "cell_type": "code",
      "source": [
        "preprocessor=Preprocessor()\n",
        "train=preprocessor.preprocessing(train)"
      ],
      "metadata": {
        "execution": {
          "iopub.status.busy": "2023-11-17T01:32:44.039313Z",
          "iopub.execute_input": "2023-11-17T01:32:44.039738Z",
          "iopub.status.idle": "2023-11-17T01:34:10.979776Z",
          "shell.execute_reply.started": "2023-11-17T01:32:44.039705Z",
          "shell.execute_reply": "2023-11-17T01:34:10.979085Z"
        },
        "trusted": true,
        "id": "jZG7bS3Uei6O"
      },
      "execution_count": null,
      "outputs": []
    },
    {
      "cell_type": "markdown",
      "source": [
        "# 2. LGBM model + k-Fold"
      ],
      "metadata": {
        "id": "-l_jcu18ei6O"
      }
    },
    {
      "cell_type": "code",
      "source": [
        "def KFold_model_training(train_feats,train_score,params,k):\n",
        "\n",
        "    Y_pred=[]\n",
        "    Y_ori=[]\n",
        "    df_importance_list=[]\n",
        "    kfold = KFold(n_splits=k, shuffle=True, random_state=42)\n",
        "\n",
        "    final_models=[]\n",
        "\n",
        "    for fold_id, (trn_idx, val_idx) in enumerate(kfold.split(train_feats)):\n",
        "        X_train = train_feats.iloc[trn_idx,:]\n",
        "        Y_train = train_score.iloc[trn_idx]\n",
        "\n",
        "        X_val = train_feats.iloc[val_idx,:]\n",
        "        Y_val = train_score.iloc[val_idx]\n",
        "\n",
        "        print('\\nFold_{} Training ================================\\n'.format(fold_id+1))\n",
        "        model= LGBMRegressor(**params)\n",
        "        lgb_model = model.fit(X_train,\n",
        "                              Y_train,\n",
        "                              eval_names=['train', 'valid'],\n",
        "                              eval_set=[(X_train, Y_train), (X_val, Y_val)],\n",
        "                              eval_metric='rmse')\n",
        "\n",
        "        pred_val = lgb_model.predict(X_val, num_iteration=lgb_model.best_iteration_)\n",
        "\n",
        "\n",
        "        df_importance = pd.DataFrame({\n",
        "            'column': list(train_feats.columns),\n",
        "            'importance': lgb_model.feature_importances_,\n",
        "        })\n",
        "        df_importance_list.append(df_importance)\n",
        "\n",
        "        final_models.append(lgb_model)\n",
        "        Y_pred.extend(pred_val)\n",
        "        Y_ori.extend(Y_val)\n",
        "\n",
        "    df_importance = pd.concat(df_importance_list)\n",
        "    df_importance = df_importance.groupby(['column'])['importance'].agg('mean').sort_values(ascending=False).reset_index()\n",
        "\n",
        "    return Y_pred, Y_ori, df_importance, final_models"
      ],
      "metadata": {
        "execution": {
          "iopub.status.busy": "2023-11-17T01:34:10.980815Z",
          "iopub.execute_input": "2023-11-17T01:34:10.981553Z",
          "iopub.status.idle": "2023-11-17T01:34:10.990410Z",
          "shell.execute_reply.started": "2023-11-17T01:34:10.981530Z",
          "shell.execute_reply": "2023-11-17T01:34:10.988915Z"
        },
        "trusted": true,
        "id": "omGRjZAVei6O"
      },
      "execution_count": null,
      "outputs": []
    },
    {
      "cell_type": "code",
      "source": [
        "def cross_validation_training(all_train_features_full,train_score_full,params,k):\n",
        "    errs=[]\n",
        "    errs_rmse=[]\n",
        "    test_scores=[]\n",
        "    preds=[]\n",
        "\n",
        "    for i in range(0,50):\n",
        "        all_train_features,test,all_train_scores,test_score=train_test_split(all_train_features_full,train_score_full,test_size=0.3,shuffle=True)\n",
        "\n",
        "        all_train_features=all_train_features.drop('id',axis=1)\n",
        "        all_train_scores=all_train_scores.drop('id',axis=1)\n",
        "        test_score=test_score.drop('id',axis=1)\n",
        "        test_score=test_score['score']\n",
        "        test_id=test['id']\n",
        "        test=test.drop('id',axis=1)\n",
        "\n",
        "        # training\n",
        "        print(f'Fitting Model')\n",
        "        Y_pred, Y_ori, df_importance, final_models = KFold_model_training(all_train_features,all_train_scores,params,k)\n",
        "\n",
        "        predictions, Ypred = KFold_model_predict(final_models,test)\n",
        "        errs.append(np.sqrt((predictions-list(test_score))*(predictions-list(test_score))))\n",
        "        errs_rmse.append(mean_squared_error(predictions,test_score,squared=False))\n",
        "\n",
        "        test_scores.append(test_score)\n",
        "        preds.append(predictions)\n",
        "\n",
        "    return np.max(errs_rmse), errs, test_scores, preds"
      ],
      "metadata": {
        "execution": {
          "iopub.status.busy": "2023-11-17T01:34:10.991951Z",
          "iopub.execute_input": "2023-11-17T01:34:10.992311Z",
          "iopub.status.idle": "2023-11-17T01:34:11.005519Z",
          "shell.execute_reply.started": "2023-11-17T01:34:10.992279Z",
          "shell.execute_reply": "2023-11-17T01:34:11.004462Z"
        },
        "trusted": true,
        "id": "VVQimAbwei6O"
      },
      "execution_count": null,
      "outputs": []
    },
    {
      "cell_type": "markdown",
      "source": [
        "## Hyperparameter optimization with Optuna"
      ],
      "metadata": {
        "id": "m1rg53XTfbSf"
      }
    },
    {
      "cell_type": "code",
      "source": [
        "def objective(trial):\n",
        "\n",
        "    param = {\n",
        "        'feature_fraction': trial.suggest_float('feature_fraction', 0.3,1.0),\n",
        "        'lambda_l1': trial.suggest_loguniform('lambda_l1', 0.1, 10.0),\n",
        "        'lambda_l2': trial.suggest_loguniform('lambda_l2', 0.1, 10.0),\n",
        "        'min_data_in_leaf':trial.suggest_int('min_data_in_leaf', 50 , 300),\n",
        "        'n_estimators': trial.suggest_int('n_estimators', 10 , 500),\n",
        "        'subsample': trial.suggest_float('subsample', 0.1,1.0),\n",
        "        'learning_rate': trial.suggest_float('learning_rate', 0.0005,0.1),\n",
        "        'max_depth': trial.suggest_int('max_depth', 2 , 50),\n",
        "        'max_bin': trial.suggest_int('max_bin', 10, 50),\n",
        "        'num_leaves' : trial.suggest_int('num_leaves', 3, 50),\n",
        "        'bagging_fraction':trial.suggest_float('subsample', 0.5,1.0),\n",
        "        'metric': 'rmse',\n",
        "        'random_state': 42,\n",
        "        'early_stoppping':75,\n",
        "        'vervose' : -1\n",
        "    }\n",
        "\n",
        "    k=trial.suggest_int('k', 3 , 32)\n",
        "    rmse,_,_,_ = cross_validation_training(data,target,param,k);\n",
        "\n",
        "    return rmse"
      ],
      "metadata": {
        "id": "d-VKsnEbfazX"
      },
      "execution_count": null,
      "outputs": []
    },
    {
      "cell_type": "code",
      "source": [
        "import time\n",
        "start_time = time.time()\n",
        "\n",
        "optuna.logging.set_verbosity(optuna.logging.CRITICAL)\n",
        "study = optuna.create_study(direction='minimize')\n",
        "data=all_train_features_full_ori\n",
        "target=train_score_ori\n",
        "study.optimize(objective, n_trials=1500)\n",
        "\n",
        "print(time.time() - start_time)\n"
      ],
      "metadata": {
        "id": "E5IotPrQff6P"
      },
      "execution_count": null,
      "outputs": []
    },
    {
      "cell_type": "code",
      "source": [
        "print(f'Number of finished trials: {len(study.trials)}')\n",
        "print(f'Best trial: {study.best_trial.params}')\n",
        "print(f'Best score: {study.best_value}')\n",
        "best_param=study.best_trial.params"
      ],
      "metadata": {
        "id": "j1O2Q96ffjBv"
      },
      "execution_count": null,
      "outputs": []
    },
    {
      "cell_type": "markdown",
      "source": [
        "#"
      ],
      "metadata": {
        "id": "adnaRpXYei6P"
      }
    }
  ]
}