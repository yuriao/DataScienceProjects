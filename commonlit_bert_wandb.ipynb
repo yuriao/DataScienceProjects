{
  "metadata": {
    "kernelspec": {
      "display_name": "Python 3",
      "name": "python3"
    },
    "language_info": {
      "name": "python",
      "version": "3.10.12",
      "mimetype": "text/x-python",
      "codemirror_mode": {
        "name": "ipython",
        "version": 3
      },
      "pygments_lexer": "ipython3",
      "nbconvert_exporter": "python",
      "file_extension": ".py"
    },
    "colab": {
      "provenance": [],
      "machine_shape": "hm",
      "gpuType": "T4",
      "include_colab_link": true
    },
    "accelerator": "GPU"
  },
  "nbformat_minor": 0,
  "nbformat": 4,
  "cells": [
    {
      "cell_type": "markdown",
      "metadata": {
        "id": "view-in-github",
        "colab_type": "text"
      },
      "source": [
        "<a href=\"https://colab.research.google.com/github/yuriao/DataScienceProjects/blob/main/commonlit_bert_wandb.ipynb\" target=\"_parent\"><img src=\"https://colab.research.google.com/assets/colab-badge.svg\" alt=\"Open In Colab\"/></a>"
      ]
    },
    {
      "cell_type": "markdown",
      "source": [
        "In this notebook, I will explore how to use basic BERT network for scoring, based only on students' response\n",
        "\n",
        "### References\n",
        "-"
      ],
      "metadata": {
        "id": "z6VFIFy5rUJC"
      }
    },
    {
      "cell_type": "code",
      "source": [
        "from google.colab import drive\n",
        "drive.mount('commonLit_data')"
      ],
      "metadata": {
        "colab": {
          "base_uri": "https://localhost:8080/"
        },
        "id": "U2D04NsX65sl",
        "outputId": "bc8c1a29-fb41-4366-eb33-c9ca78e18f1a"
      },
      "execution_count": 18,
      "outputs": [
        {
          "output_type": "stream",
          "name": "stdout",
          "text": [
            "Drive already mounted at commonLit_data; to attempt to forcibly remount, call drive.mount(\"commonLit_data\", force_remount=True).\n"
          ]
        }
      ]
    },
    {
      "cell_type": "code",
      "source": [
        "!mkdir working"
      ],
      "metadata": {
        "id": "qxMXY7-q7dmL",
        "colab": {
          "base_uri": "https://localhost:8080/"
        },
        "outputId": "cb3f3b08-bcf9-406d-b045-b0c8bbe52a53"
      },
      "execution_count": 19,
      "outputs": [
        {
          "output_type": "stream",
          "name": "stdout",
          "text": [
            "mkdir: cannot create directory ‘working’: File exists\n"
          ]
        }
      ]
    },
    {
      "cell_type": "code",
      "source": [
        "!pip install transformers[torch]"
      ],
      "metadata": {
        "colab": {
          "base_uri": "https://localhost:8080/"
        },
        "id": "vTGXZd5WrjbH",
        "outputId": "c20a8806-f0d6-4851-c89c-447dcf6c9ba9"
      },
      "execution_count": 20,
      "outputs": [
        {
          "output_type": "stream",
          "name": "stdout",
          "text": [
            "Requirement already satisfied: transformers[torch] in /usr/local/lib/python3.10/dist-packages (4.32.1)\n",
            "Requirement already satisfied: filelock in /usr/local/lib/python3.10/dist-packages (from transformers[torch]) (3.12.2)\n",
            "Requirement already satisfied: huggingface-hub<1.0,>=0.15.1 in /usr/local/lib/python3.10/dist-packages (from transformers[torch]) (0.16.4)\n",
            "Requirement already satisfied: numpy>=1.17 in /usr/local/lib/python3.10/dist-packages (from transformers[torch]) (1.23.5)\n",
            "Requirement already satisfied: packaging>=20.0 in /usr/local/lib/python3.10/dist-packages (from transformers[torch]) (23.1)\n",
            "Requirement already satisfied: pyyaml>=5.1 in /usr/local/lib/python3.10/dist-packages (from transformers[torch]) (6.0.1)\n",
            "Requirement already satisfied: regex!=2019.12.17 in /usr/local/lib/python3.10/dist-packages (from transformers[torch]) (2023.6.3)\n",
            "Requirement already satisfied: requests in /usr/local/lib/python3.10/dist-packages (from transformers[torch]) (2.31.0)\n",
            "Requirement already satisfied: tokenizers!=0.11.3,<0.14,>=0.11.1 in /usr/local/lib/python3.10/dist-packages (from transformers[torch]) (0.13.3)\n",
            "Requirement already satisfied: safetensors>=0.3.1 in /usr/local/lib/python3.10/dist-packages (from transformers[torch]) (0.3.3)\n",
            "Requirement already satisfied: tqdm>=4.27 in /usr/local/lib/python3.10/dist-packages (from transformers[torch]) (4.66.1)\n",
            "Requirement already satisfied: torch!=1.12.0,>=1.9 in /usr/local/lib/python3.10/dist-packages (from transformers[torch]) (2.0.1+cu118)\n",
            "Requirement already satisfied: accelerate>=0.20.3 in /usr/local/lib/python3.10/dist-packages (from transformers[torch]) (0.22.0)\n",
            "Requirement already satisfied: psutil in /usr/local/lib/python3.10/dist-packages (from accelerate>=0.20.3->transformers[torch]) (5.9.5)\n",
            "Requirement already satisfied: fsspec in /usr/local/lib/python3.10/dist-packages (from huggingface-hub<1.0,>=0.15.1->transformers[torch]) (2023.6.0)\n",
            "Requirement already satisfied: typing-extensions>=3.7.4.3 in /usr/local/lib/python3.10/dist-packages (from huggingface-hub<1.0,>=0.15.1->transformers[torch]) (4.7.1)\n",
            "Requirement already satisfied: sympy in /usr/local/lib/python3.10/dist-packages (from torch!=1.12.0,>=1.9->transformers[torch]) (1.12)\n",
            "Requirement already satisfied: networkx in /usr/local/lib/python3.10/dist-packages (from torch!=1.12.0,>=1.9->transformers[torch]) (3.1)\n",
            "Requirement already satisfied: jinja2 in /usr/local/lib/python3.10/dist-packages (from torch!=1.12.0,>=1.9->transformers[torch]) (3.1.2)\n",
            "Requirement already satisfied: triton==2.0.0 in /usr/local/lib/python3.10/dist-packages (from torch!=1.12.0,>=1.9->transformers[torch]) (2.0.0)\n",
            "Requirement already satisfied: cmake in /usr/local/lib/python3.10/dist-packages (from triton==2.0.0->torch!=1.12.0,>=1.9->transformers[torch]) (3.27.2)\n",
            "Requirement already satisfied: lit in /usr/local/lib/python3.10/dist-packages (from triton==2.0.0->torch!=1.12.0,>=1.9->transformers[torch]) (16.0.6)\n",
            "Requirement already satisfied: charset-normalizer<4,>=2 in /usr/local/lib/python3.10/dist-packages (from requests->transformers[torch]) (3.2.0)\n",
            "Requirement already satisfied: idna<4,>=2.5 in /usr/local/lib/python3.10/dist-packages (from requests->transformers[torch]) (3.4)\n",
            "Requirement already satisfied: urllib3<3,>=1.21.1 in /usr/local/lib/python3.10/dist-packages (from requests->transformers[torch]) (2.0.4)\n",
            "Requirement already satisfied: certifi>=2017.4.17 in /usr/local/lib/python3.10/dist-packages (from requests->transformers[torch]) (2023.7.22)\n",
            "Requirement already satisfied: MarkupSafe>=2.0 in /usr/local/lib/python3.10/dist-packages (from jinja2->torch!=1.12.0,>=1.9->transformers[torch]) (2.1.3)\n",
            "Requirement already satisfied: mpmath>=0.19 in /usr/local/lib/python3.10/dist-packages (from sympy->torch!=1.12.0,>=1.9->transformers[torch]) (1.3.0)\n"
          ]
        }
      ]
    },
    {
      "cell_type": "markdown",
      "source": [
        "## Import libraries"
      ],
      "metadata": {
        "id": "E7LRcTYXrUJE"
      }
    },
    {
      "cell_type": "code",
      "source": [
        "import numpy as np # linear algebra\n",
        "import pandas as pd # data processing, CSV file I/O (e.g. pd.read_csv)\n",
        "import os\n",
        "import json\n",
        "import transformers\n",
        "from transformers import BertTokenizer, BertForSequenceClassification, Trainer, TrainingArguments, pipeline, AdamW\n",
        "from sklearn.metrics import mean_squared_error\n",
        "import torch\n",
        "from sklearn.model_selection import KFold\n",
        "from sklearn.metrics import mean_squared_error"
      ],
      "metadata": {
        "execution": {
          "iopub.status.busy": "2023-08-29T05:29:59.588632Z",
          "iopub.execute_input": "2023-08-29T05:29:59.589167Z",
          "iopub.status.idle": "2023-08-29T05:30:15.656088Z",
          "shell.execute_reply.started": "2023-08-29T05:29:59.589133Z",
          "shell.execute_reply": "2023-08-29T05:30:15.655105Z"
        },
        "trusted": true,
        "id": "uxFzs-FLrUJF"
      },
      "execution_count": 21,
      "outputs": []
    },
    {
      "cell_type": "code",
      "source": [
        "import logging\n",
        "import warnings\n",
        "warnings.simplefilter(\"ignore\")\n",
        "logging.disable(logging.ERROR)"
      ],
      "metadata": {
        "execution": {
          "iopub.status.busy": "2023-08-29T05:30:15.658038Z",
          "iopub.execute_input": "2023-08-29T05:30:15.658848Z",
          "iopub.status.idle": "2023-08-29T05:30:15.667134Z",
          "shell.execute_reply.started": "2023-08-29T05:30:15.658812Z",
          "shell.execute_reply": "2023-08-29T05:30:15.666008Z"
        },
        "trusted": true,
        "id": "PSHqkOmarUJG"
      },
      "execution_count": 22,
      "outputs": []
    },
    {
      "cell_type": "markdown",
      "source": [
        "## Dataload"
      ],
      "metadata": {
        "id": "VUAAAwggrUJH"
      }
    },
    {
      "cell_type": "code",
      "source": [
        "DATA_DIR = \"/content/commonLit_data/MyDrive/commonLit_data/\"\n",
        "\n",
        "#prompts_train = pd.read_csv(DATA_DIR + \"prompts_train.csv\")\n",
        "#prompts_test = pd.read_csv(DATA_DIR + \"prompts_test.csv\")\n",
        "summaries_train = pd.read_csv(DATA_DIR + \"summaries_train.csv\")\n",
        "summaries_test = pd.read_csv(DATA_DIR + \"summaries_test.csv\")\n",
        "sample_submission = pd.read_csv(DATA_DIR + \"sample_submission.csv\")\n"
      ],
      "metadata": {
        "execution": {
          "iopub.status.busy": "2023-08-29T05:30:15.668936Z",
          "iopub.execute_input": "2023-08-29T05:30:15.669270Z",
          "iopub.status.idle": "2023-08-29T05:30:15.772637Z",
          "shell.execute_reply.started": "2023-08-29T05:30:15.669238Z",
          "shell.execute_reply": "2023-08-29T05:30:15.771735Z"
        },
        "trusted": true,
        "id": "Jwf53Xr7rUJH"
      },
      "execution_count": 23,
      "outputs": []
    },
    {
      "cell_type": "code",
      "source": [
        "summaries_train.head()"
      ],
      "metadata": {
        "execution": {
          "iopub.status.busy": "2023-08-29T05:30:15.775554Z",
          "iopub.execute_input": "2023-08-29T05:30:15.775801Z",
          "iopub.status.idle": "2023-08-29T05:30:15.795800Z",
          "shell.execute_reply.started": "2023-08-29T05:30:15.775771Z",
          "shell.execute_reply": "2023-08-29T05:30:15.794895Z"
        },
        "trusted": true,
        "colab": {
          "base_uri": "https://localhost:8080/",
          "height": 206
        },
        "id": "QBsu_E0srUJH",
        "outputId": "727c7ad4-aa7e-4700-e31b-9e93e993f87c"
      },
      "execution_count": 24,
      "outputs": [
        {
          "output_type": "execute_result",
          "data": {
            "text/plain": [
              "     student_id prompt_id                                               text  \\\n",
              "0  000e8c3c7ddb    814d6b  The third wave was an experimentto see how peo...   \n",
              "1  0020ae56ffbf    ebad26  They would rub it up with soda to make the sme...   \n",
              "2  004e978e639e    3b9047  In Egypt, there were many occupations and soci...   \n",
              "3  005ab0199905    3b9047  The highest class was Pharaohs these people we...   \n",
              "4  0070c9e7af47    814d6b  The Third Wave developed  rapidly because the ...   \n",
              "\n",
              "    content   wording  \n",
              "0  0.205683  0.380538  \n",
              "1 -0.548304  0.506755  \n",
              "2  3.128928  4.231226  \n",
              "3 -0.210614 -0.471415  \n",
              "4  3.272894  3.219757  "
            ],
            "text/html": [
              "\n",
              "  <div id=\"df-2d0da7e4-be2f-4536-b91b-3b39198b2e6c\" class=\"colab-df-container\">\n",
              "    <div>\n",
              "<style scoped>\n",
              "    .dataframe tbody tr th:only-of-type {\n",
              "        vertical-align: middle;\n",
              "    }\n",
              "\n",
              "    .dataframe tbody tr th {\n",
              "        vertical-align: top;\n",
              "    }\n",
              "\n",
              "    .dataframe thead th {\n",
              "        text-align: right;\n",
              "    }\n",
              "</style>\n",
              "<table border=\"1\" class=\"dataframe\">\n",
              "  <thead>\n",
              "    <tr style=\"text-align: right;\">\n",
              "      <th></th>\n",
              "      <th>student_id</th>\n",
              "      <th>prompt_id</th>\n",
              "      <th>text</th>\n",
              "      <th>content</th>\n",
              "      <th>wording</th>\n",
              "    </tr>\n",
              "  </thead>\n",
              "  <tbody>\n",
              "    <tr>\n",
              "      <th>0</th>\n",
              "      <td>000e8c3c7ddb</td>\n",
              "      <td>814d6b</td>\n",
              "      <td>The third wave was an experimentto see how peo...</td>\n",
              "      <td>0.205683</td>\n",
              "      <td>0.380538</td>\n",
              "    </tr>\n",
              "    <tr>\n",
              "      <th>1</th>\n",
              "      <td>0020ae56ffbf</td>\n",
              "      <td>ebad26</td>\n",
              "      <td>They would rub it up with soda to make the sme...</td>\n",
              "      <td>-0.548304</td>\n",
              "      <td>0.506755</td>\n",
              "    </tr>\n",
              "    <tr>\n",
              "      <th>2</th>\n",
              "      <td>004e978e639e</td>\n",
              "      <td>3b9047</td>\n",
              "      <td>In Egypt, there were many occupations and soci...</td>\n",
              "      <td>3.128928</td>\n",
              "      <td>4.231226</td>\n",
              "    </tr>\n",
              "    <tr>\n",
              "      <th>3</th>\n",
              "      <td>005ab0199905</td>\n",
              "      <td>3b9047</td>\n",
              "      <td>The highest class was Pharaohs these people we...</td>\n",
              "      <td>-0.210614</td>\n",
              "      <td>-0.471415</td>\n",
              "    </tr>\n",
              "    <tr>\n",
              "      <th>4</th>\n",
              "      <td>0070c9e7af47</td>\n",
              "      <td>814d6b</td>\n",
              "      <td>The Third Wave developed  rapidly because the ...</td>\n",
              "      <td>3.272894</td>\n",
              "      <td>3.219757</td>\n",
              "    </tr>\n",
              "  </tbody>\n",
              "</table>\n",
              "</div>\n",
              "    <div class=\"colab-df-buttons\">\n",
              "\n",
              "  <div class=\"colab-df-container\">\n",
              "    <button class=\"colab-df-convert\" onclick=\"convertToInteractive('df-2d0da7e4-be2f-4536-b91b-3b39198b2e6c')\"\n",
              "            title=\"Convert this dataframe to an interactive table.\"\n",
              "            style=\"display:none;\">\n",
              "\n",
              "  <svg xmlns=\"http://www.w3.org/2000/svg\" height=\"24px\" viewBox=\"0 -960 960 960\">\n",
              "    <path d=\"M120-120v-720h720v720H120Zm60-500h600v-160H180v160Zm220 220h160v-160H400v160Zm0 220h160v-160H400v160ZM180-400h160v-160H180v160Zm440 0h160v-160H620v160ZM180-180h160v-160H180v160Zm440 0h160v-160H620v160Z\"/>\n",
              "  </svg>\n",
              "    </button>\n",
              "\n",
              "  <style>\n",
              "    .colab-df-container {\n",
              "      display:flex;\n",
              "      gap: 12px;\n",
              "    }\n",
              "\n",
              "    .colab-df-convert {\n",
              "      background-color: #E8F0FE;\n",
              "      border: none;\n",
              "      border-radius: 50%;\n",
              "      cursor: pointer;\n",
              "      display: none;\n",
              "      fill: #1967D2;\n",
              "      height: 32px;\n",
              "      padding: 0 0 0 0;\n",
              "      width: 32px;\n",
              "    }\n",
              "\n",
              "    .colab-df-convert:hover {\n",
              "      background-color: #E2EBFA;\n",
              "      box-shadow: 0px 1px 2px rgba(60, 64, 67, 0.3), 0px 1px 3px 1px rgba(60, 64, 67, 0.15);\n",
              "      fill: #174EA6;\n",
              "    }\n",
              "\n",
              "    .colab-df-buttons div {\n",
              "      margin-bottom: 4px;\n",
              "    }\n",
              "\n",
              "    [theme=dark] .colab-df-convert {\n",
              "      background-color: #3B4455;\n",
              "      fill: #D2E3FC;\n",
              "    }\n",
              "\n",
              "    [theme=dark] .colab-df-convert:hover {\n",
              "      background-color: #434B5C;\n",
              "      box-shadow: 0px 1px 3px 1px rgba(0, 0, 0, 0.15);\n",
              "      filter: drop-shadow(0px 1px 2px rgba(0, 0, 0, 0.3));\n",
              "      fill: #FFFFFF;\n",
              "    }\n",
              "  </style>\n",
              "\n",
              "    <script>\n",
              "      const buttonEl =\n",
              "        document.querySelector('#df-2d0da7e4-be2f-4536-b91b-3b39198b2e6c button.colab-df-convert');\n",
              "      buttonEl.style.display =\n",
              "        google.colab.kernel.accessAllowed ? 'block' : 'none';\n",
              "\n",
              "      async function convertToInteractive(key) {\n",
              "        const element = document.querySelector('#df-2d0da7e4-be2f-4536-b91b-3b39198b2e6c');\n",
              "        const dataTable =\n",
              "          await google.colab.kernel.invokeFunction('convertToInteractive',\n",
              "                                                    [key], {});\n",
              "        if (!dataTable) return;\n",
              "\n",
              "        const docLinkHtml = 'Like what you see? Visit the ' +\n",
              "          '<a target=\"_blank\" href=https://colab.research.google.com/notebooks/data_table.ipynb>data table notebook</a>'\n",
              "          + ' to learn more about interactive tables.';\n",
              "        element.innerHTML = '';\n",
              "        dataTable['output_type'] = 'display_data';\n",
              "        await google.colab.output.renderOutput(dataTable, element);\n",
              "        const docLink = document.createElement('div');\n",
              "        docLink.innerHTML = docLinkHtml;\n",
              "        element.appendChild(docLink);\n",
              "      }\n",
              "    </script>\n",
              "  </div>\n",
              "\n",
              "\n",
              "<div id=\"df-f5564377-bc47-47ee-b9c2-61f8a16520c9\">\n",
              "  <button class=\"colab-df-quickchart\" onclick=\"quickchart('df-f5564377-bc47-47ee-b9c2-61f8a16520c9')\"\n",
              "            title=\"Suggest charts.\"\n",
              "            style=\"display:none;\">\n",
              "\n",
              "<svg xmlns=\"http://www.w3.org/2000/svg\" height=\"24px\"viewBox=\"0 0 24 24\"\n",
              "     width=\"24px\">\n",
              "    <g>\n",
              "        <path d=\"M19 3H5c-1.1 0-2 .9-2 2v14c0 1.1.9 2 2 2h14c1.1 0 2-.9 2-2V5c0-1.1-.9-2-2-2zM9 17H7v-7h2v7zm4 0h-2V7h2v10zm4 0h-2v-4h2v4z\"/>\n",
              "    </g>\n",
              "</svg>\n",
              "  </button>\n",
              "\n",
              "<style>\n",
              "  .colab-df-quickchart {\n",
              "      --bg-color: #E8F0FE;\n",
              "      --fill-color: #1967D2;\n",
              "      --hover-bg-color: #E2EBFA;\n",
              "      --hover-fill-color: #174EA6;\n",
              "      --disabled-fill-color: #AAA;\n",
              "      --disabled-bg-color: #DDD;\n",
              "  }\n",
              "\n",
              "  [theme=dark] .colab-df-quickchart {\n",
              "      --bg-color: #3B4455;\n",
              "      --fill-color: #D2E3FC;\n",
              "      --hover-bg-color: #434B5C;\n",
              "      --hover-fill-color: #FFFFFF;\n",
              "      --disabled-bg-color: #3B4455;\n",
              "      --disabled-fill-color: #666;\n",
              "  }\n",
              "\n",
              "  .colab-df-quickchart {\n",
              "    background-color: var(--bg-color);\n",
              "    border: none;\n",
              "    border-radius: 50%;\n",
              "    cursor: pointer;\n",
              "    display: none;\n",
              "    fill: var(--fill-color);\n",
              "    height: 32px;\n",
              "    padding: 0;\n",
              "    width: 32px;\n",
              "  }\n",
              "\n",
              "  .colab-df-quickchart:hover {\n",
              "    background-color: var(--hover-bg-color);\n",
              "    box-shadow: 0 1px 2px rgba(60, 64, 67, 0.3), 0 1px 3px 1px rgba(60, 64, 67, 0.15);\n",
              "    fill: var(--button-hover-fill-color);\n",
              "  }\n",
              "\n",
              "  .colab-df-quickchart-complete:disabled,\n",
              "  .colab-df-quickchart-complete:disabled:hover {\n",
              "    background-color: var(--disabled-bg-color);\n",
              "    fill: var(--disabled-fill-color);\n",
              "    box-shadow: none;\n",
              "  }\n",
              "\n",
              "  .colab-df-spinner {\n",
              "    border: 2px solid var(--fill-color);\n",
              "    border-color: transparent;\n",
              "    border-bottom-color: var(--fill-color);\n",
              "    animation:\n",
              "      spin 1s steps(1) infinite;\n",
              "  }\n",
              "\n",
              "  @keyframes spin {\n",
              "    0% {\n",
              "      border-color: transparent;\n",
              "      border-bottom-color: var(--fill-color);\n",
              "      border-left-color: var(--fill-color);\n",
              "    }\n",
              "    20% {\n",
              "      border-color: transparent;\n",
              "      border-left-color: var(--fill-color);\n",
              "      border-top-color: var(--fill-color);\n",
              "    }\n",
              "    30% {\n",
              "      border-color: transparent;\n",
              "      border-left-color: var(--fill-color);\n",
              "      border-top-color: var(--fill-color);\n",
              "      border-right-color: var(--fill-color);\n",
              "    }\n",
              "    40% {\n",
              "      border-color: transparent;\n",
              "      border-right-color: var(--fill-color);\n",
              "      border-top-color: var(--fill-color);\n",
              "    }\n",
              "    60% {\n",
              "      border-color: transparent;\n",
              "      border-right-color: var(--fill-color);\n",
              "    }\n",
              "    80% {\n",
              "      border-color: transparent;\n",
              "      border-right-color: var(--fill-color);\n",
              "      border-bottom-color: var(--fill-color);\n",
              "    }\n",
              "    90% {\n",
              "      border-color: transparent;\n",
              "      border-bottom-color: var(--fill-color);\n",
              "    }\n",
              "  }\n",
              "</style>\n",
              "\n",
              "  <script>\n",
              "    async function quickchart(key) {\n",
              "      const quickchartButtonEl =\n",
              "        document.querySelector('#' + key + ' button');\n",
              "      quickchartButtonEl.disabled = true;  // To prevent multiple clicks.\n",
              "      quickchartButtonEl.classList.add('colab-df-spinner');\n",
              "      try {\n",
              "        const charts = await google.colab.kernel.invokeFunction(\n",
              "            'suggestCharts', [key], {});\n",
              "      } catch (error) {\n",
              "        console.error('Error during call to suggestCharts:', error);\n",
              "      }\n",
              "      quickchartButtonEl.classList.remove('colab-df-spinner');\n",
              "      quickchartButtonEl.classList.add('colab-df-quickchart-complete');\n",
              "    }\n",
              "    (() => {\n",
              "      let quickchartButtonEl =\n",
              "        document.querySelector('#df-f5564377-bc47-47ee-b9c2-61f8a16520c9 button');\n",
              "      quickchartButtonEl.style.display =\n",
              "        google.colab.kernel.accessAllowed ? 'block' : 'none';\n",
              "    })();\n",
              "  </script>\n",
              "</div>\n",
              "\n",
              "    </div>\n",
              "  </div>\n"
            ]
          },
          "metadata": {},
          "execution_count": 24
        }
      ]
    },
    {
      "cell_type": "markdown",
      "source": [
        "## EDA: Check nans"
      ],
      "metadata": {
        "id": "OcbrTfDbrUJI"
      }
    },
    {
      "cell_type": "code",
      "source": [
        "summaries_train.isna().sum()"
      ],
      "metadata": {
        "execution": {
          "iopub.status.busy": "2023-08-29T05:30:15.797108Z",
          "iopub.execute_input": "2023-08-29T05:30:15.797557Z",
          "iopub.status.idle": "2023-08-29T05:30:15.813699Z",
          "shell.execute_reply.started": "2023-08-29T05:30:15.797525Z",
          "shell.execute_reply": "2023-08-29T05:30:15.812577Z"
        },
        "trusted": true,
        "colab": {
          "base_uri": "https://localhost:8080/"
        },
        "id": "MUvAMbcsrUJI",
        "outputId": "184dcaf4-1c01-4387-e709-ca3bdf9fd5e0"
      },
      "execution_count": 25,
      "outputs": [
        {
          "output_type": "execute_result",
          "data": {
            "text/plain": [
              "student_id    0\n",
              "prompt_id     0\n",
              "text          0\n",
              "content       0\n",
              "wording       0\n",
              "dtype: int64"
            ]
          },
          "metadata": {},
          "execution_count": 25
        }
      ]
    },
    {
      "cell_type": "code",
      "source": [
        "summaries_test.isna().sum()"
      ],
      "metadata": {
        "execution": {
          "iopub.status.busy": "2023-08-29T05:30:15.815370Z",
          "iopub.execute_input": "2023-08-29T05:30:15.816015Z",
          "iopub.status.idle": "2023-08-29T05:30:15.824296Z",
          "shell.execute_reply.started": "2023-08-29T05:30:15.815961Z",
          "shell.execute_reply": "2023-08-29T05:30:15.823189Z"
        },
        "trusted": true,
        "colab": {
          "base_uri": "https://localhost:8080/"
        },
        "id": "4Bu246YTrUJJ",
        "outputId": "e8339f4b-28a4-4413-d632-fd5f6fef14c2"
      },
      "execution_count": 26,
      "outputs": [
        {
          "output_type": "execute_result",
          "data": {
            "text/plain": [
              "student_id    0\n",
              "prompt_id     0\n",
              "text          0\n",
              "dtype: int64"
            ]
          },
          "metadata": {},
          "execution_count": 26
        }
      ]
    },
    {
      "cell_type": "markdown",
      "source": [
        "data is good"
      ],
      "metadata": {
        "id": "03HIK6iHrUJJ"
      }
    },
    {
      "cell_type": "markdown",
      "source": [
        "## Tokenizer and model"
      ],
      "metadata": {
        "id": "Trje7v_GrUJJ"
      }
    },
    {
      "cell_type": "code",
      "source": [
        "#MODEL_DIR = \"kaggle/input/huggingface-bert/\"\n",
        "tokenizer = BertTokenizer.from_pretrained(\"bert-large-uncased\")\n",
        "model = BertForSequenceClassification.from_pretrained(\"bert-large-uncased\", num_labels=2)"
      ],
      "metadata": {
        "execution": {
          "iopub.status.busy": "2023-08-29T05:30:15.825908Z",
          "iopub.execute_input": "2023-08-29T05:30:15.826243Z",
          "iopub.status.idle": "2023-08-29T05:30:31.461361Z",
          "shell.execute_reply.started": "2023-08-29T05:30:15.826205Z",
          "shell.execute_reply": "2023-08-29T05:30:31.460360Z"
        },
        "trusted": true,
        "id": "RQNe-oDprUJK"
      },
      "execution_count": 27,
      "outputs": []
    },
    {
      "cell_type": "markdown",
      "source": [
        "## encoding training text"
      ],
      "metadata": {
        "id": "i1xXalDxrUJK"
      }
    },
    {
      "cell_type": "code",
      "source": [
        "encodings = tokenizer(list(summaries_train['text']), return_tensors=\"pt\", padding=True, truncation=True, max_length=32)\n",
        "test_encodings = tokenizer(list(summaries_test['text']), return_tensors=\"pt\", padding=True, truncation=True, max_length=32)"
      ],
      "metadata": {
        "execution": {
          "iopub.status.busy": "2023-08-29T05:30:31.463069Z",
          "iopub.execute_input": "2023-08-29T05:30:31.463395Z",
          "iopub.status.idle": "2023-08-29T05:30:55.336239Z",
          "shell.execute_reply.started": "2023-08-29T05:30:31.463360Z",
          "shell.execute_reply": "2023-08-29T05:30:55.335299Z"
        },
        "trusted": true,
        "id": "9IQKxtFarUJK"
      },
      "execution_count": 50,
      "outputs": []
    },
    {
      "cell_type": "markdown",
      "source": [
        "## Convert scores to tensors"
      ],
      "metadata": {
        "id": "QkIfKRhOrUJK"
      }
    },
    {
      "cell_type": "code",
      "source": [
        "labels = torch.tensor(summaries_train[['content','wording']].values)"
      ],
      "metadata": {
        "execution": {
          "iopub.status.busy": "2023-08-29T05:30:55.337775Z",
          "iopub.execute_input": "2023-08-29T05:30:55.338043Z",
          "iopub.status.idle": "2023-08-29T05:30:55.347537Z",
          "shell.execute_reply.started": "2023-08-29T05:30:55.338008Z",
          "shell.execute_reply": "2023-08-29T05:30:55.346560Z"
        },
        "trusted": true,
        "id": "YQ75tC9SrUJL"
      },
      "execution_count": 36,
      "outputs": []
    },
    {
      "cell_type": "markdown",
      "source": [
        "## to GPU"
      ],
      "metadata": {
        "id": "tu4XiH3lrUJL"
      }
    },
    {
      "cell_type": "code",
      "source": [
        "device = \"cuda:0\" if torch.cuda.is_available() else \"cpu\""
      ],
      "metadata": {
        "execution": {
          "iopub.status.busy": "2023-08-29T05:30:55.348852Z",
          "iopub.execute_input": "2023-08-29T05:30:55.349214Z",
          "iopub.status.idle": "2023-08-29T05:30:55.380373Z",
          "shell.execute_reply.started": "2023-08-29T05:30:55.349170Z",
          "shell.execute_reply": "2023-08-29T05:30:55.379378Z"
        },
        "trusted": true,
        "id": "TCfc5lSErUJL"
      },
      "execution_count": 37,
      "outputs": []
    },
    {
      "cell_type": "markdown",
      "source": [
        "## Dataset class"
      ],
      "metadata": {
        "id": "JzvB45FLrUJM"
      }
    },
    {
      "cell_type": "code",
      "source": [
        "class RegressionDataset(torch.utils.data.Dataset):\n",
        "    def __init__(self, encodings, labels):\n",
        "        self.encodings = encodings\n",
        "        self.labels = labels\n",
        "\n",
        "    def __getitem__(self, idx):\n",
        "        item = {key: val[idx] for key, val in self.encodings.items()}\n",
        "        item[\"labels\"] = self.labels[idx]\n",
        "        return item\n",
        "\n",
        "    def __len__(self):\n",
        "        return len(self.labels)"
      ],
      "metadata": {
        "execution": {
          "iopub.status.busy": "2023-08-29T05:30:55.384503Z",
          "iopub.execute_input": "2023-08-29T05:30:55.385477Z",
          "iopub.status.idle": "2023-08-29T05:30:55.392103Z",
          "shell.execute_reply.started": "2023-08-29T05:30:55.385443Z",
          "shell.execute_reply": "2023-08-29T05:30:55.391163Z"
        },
        "trusted": true,
        "id": "WFEF5knTrUJM"
      },
      "execution_count": 38,
      "outputs": []
    },
    {
      "cell_type": "markdown",
      "source": [
        "## fine-tuning metric"
      ],
      "metadata": {
        "id": "pVzWRKPtrUJM"
      }
    },
    {
      "cell_type": "code",
      "source": [
        "def compute_metrics(eval_pred):\n",
        "    predictions, labels = eval_pred\n",
        "    rmse = mean_squared_error(labels, predictions, squared=False)\n",
        "    return {\"rmse\": rmse}"
      ],
      "metadata": {
        "execution": {
          "iopub.status.busy": "2023-08-29T05:30:55.394791Z",
          "iopub.execute_input": "2023-08-29T05:30:55.395054Z",
          "iopub.status.idle": "2023-08-29T05:30:55.402201Z",
          "shell.execute_reply.started": "2023-08-29T05:30:55.394963Z",
          "shell.execute_reply": "2023-08-29T05:30:55.401322Z"
        },
        "trusted": true,
        "id": "37No6ZDhrUJN"
      },
      "execution_count": 39,
      "outputs": []
    },
    {
      "cell_type": "markdown",
      "source": [
        "## kFold validation setup"
      ],
      "metadata": {
        "id": "5_wIn6CcrUJN"
      }
    },
    {
      "cell_type": "code",
      "source": [
        "n_splits = 5\n",
        "kfold = KFold(n_splits=n_splits, shuffle=True, random_state=42)"
      ],
      "metadata": {
        "execution": {
          "iopub.status.busy": "2023-08-29T05:30:55.403519Z",
          "iopub.execute_input": "2023-08-29T05:30:55.404132Z",
          "iopub.status.idle": "2023-08-29T05:30:55.413882Z",
          "shell.execute_reply.started": "2023-08-29T05:30:55.404096Z",
          "shell.execute_reply": "2023-08-29T05:30:55.412797Z"
        },
        "trusted": true,
        "id": "Nir6AHOgrUJN"
      },
      "execution_count": 53,
      "outputs": []
    },
    {
      "cell_type": "markdown",
      "source": [
        "## kFold training"
      ],
      "metadata": {
        "id": "Qs9tn0YwrUJN"
      }
    },
    {
      "cell_type": "code",
      "source": [
        "!pip install -qq wandb --upgrade"
      ],
      "metadata": {
        "colab": {
          "base_uri": "https://localhost:8080/"
        },
        "id": "s93GtNpl3jiH",
        "outputId": "33868fc4-1234-464d-dbee-072e183502b8"
      },
      "execution_count": 60,
      "outputs": [
        {
          "output_type": "stream",
          "name": "stdout",
          "text": [
            "\u001b[2K     \u001b[90m━━━━━━━━━━━━━━━━━━━━━━━━━━━━━━━━━━━━━━━━\u001b[0m \u001b[32m2.1/2.1 MB\u001b[0m \u001b[31m15.6 MB/s\u001b[0m eta \u001b[36m0:00:00\u001b[0m\n",
            "\u001b[2K     \u001b[90m━━━━━━━━━━━━━━━━━━━━━━━━━━━━━━━━━━━━━━\u001b[0m \u001b[32m188.6/188.6 kB\u001b[0m \u001b[31m15.6 MB/s\u001b[0m eta \u001b[36m0:00:00\u001b[0m\n",
            "\u001b[2K     \u001b[90m━━━━━━━━━━━━━━━━━━━━━━━━━━━━━━━━━━━━━━\u001b[0m \u001b[32m218.8/218.8 kB\u001b[0m \u001b[31m16.7 MB/s\u001b[0m eta \u001b[36m0:00:00\u001b[0m\n",
            "\u001b[?25h  Preparing metadata (setup.py) ... \u001b[?25l\u001b[?25hdone\n",
            "\u001b[2K     \u001b[90m━━━━━━━━━━━━━━━━━━━━━━━━━━━━━━━━━━━━━━━━\u001b[0m \u001b[32m62.7/62.7 kB\u001b[0m \u001b[31m7.4 MB/s\u001b[0m eta \u001b[36m0:00:00\u001b[0m\n",
            "\u001b[?25h  Building wheel for pathtools (setup.py) ... \u001b[?25l\u001b[?25hdone\n"
          ]
        }
      ]
    },
    {
      "cell_type": "code",
      "source": [
        "import wandb\n",
        "wandb.login()\n",
        "\n",
        "\n",
        "%env WANDB_PROJECT=tuning\n",
        "%env WANDB_LOG_MODEL=true\n"
      ],
      "metadata": {
        "colab": {
          "base_uri": "https://localhost:8080/"
        },
        "id": "-RafXIwA3e7Q",
        "outputId": "aaeb9aea-082d-44dd-f16d-5d80a8f870e9"
      },
      "execution_count": 68,
      "outputs": [
        {
          "output_type": "stream",
          "name": "stdout",
          "text": [
            "env: WANDB_PROJECT=tuning\n",
            "env: WANDB_LOG_MODEL=true\n"
          ]
        }
      ]
    },
    {
      "cell_type": "code",
      "source": [
        "sweep_config = {\n",
        "    'method': 'random'\n",
        "}\n",
        "\n",
        "\n",
        "# hyperparameters\n",
        "parameters_dict = {\n",
        "    'epochs': {\n",
        "        'value': 1\n",
        "        },\n",
        "    'batch_size': {\n",
        "        'values': [8, 16, 32, 64]\n",
        "        },\n",
        "    'learning_rate': {\n",
        "        'distribution': 'log_uniform_values',\n",
        "        'min': 1e-5,\n",
        "        'max': 1e-3\n",
        "    },\n",
        "    'weight_decay': {\n",
        "        'values': [0.0, 0.1, 0.2, 0.3, 0.4, 0.5]\n",
        "    },\n",
        "}\n",
        "\n",
        "sweep_config['parameters'] = parameters_dict\n",
        "sweep_id = wandb.sweep(sweep_config, project='tuning')\n"
      ],
      "metadata": {
        "colab": {
          "base_uri": "https://localhost:8080/"
        },
        "id": "m3y_UXtx3PCY",
        "outputId": "1cd1dfc7-a627-4846-dcdd-6d570c412d96"
      },
      "execution_count": 69,
      "outputs": [
        {
          "output_type": "stream",
          "name": "stdout",
          "text": [
            "Create sweep with ID: 8wqkt85t\n",
            "Sweep URL: https://wandb.ai/lujiachen1994/tuning/sweeps/8wqkt85t\n"
          ]
        }
      ]
    },
    {
      "cell_type": "code",
      "source": [
        "def train(config=None):\n",
        "  with wandb.init(config=config):\n",
        "\n",
        "     # set sweep configuration\n",
        "    config = wandb.config\n",
        "\n",
        "\n",
        "    # set training arguments\n",
        "    training_args = TrainingArguments(\n",
        "        output_dir='working',\n",
        "\t      report_to='wandb',  # Turn on Weights & Biases logging\n",
        "        num_train_epochs=config.epochs,\n",
        "        learning_rate=config.learning_rate,\n",
        "        weight_decay=config.weight_decay,\n",
        "        per_device_train_batch_size=config.batch_size,\n",
        "        per_device_eval_batch_size=16,\n",
        "        save_strategy='epoch',\n",
        "        evaluation_strategy='epoch',\n",
        "        logging_strategy='epoch',\n",
        "        load_best_model_at_end=True,\n",
        "        remove_unused_columns=False,\n",
        "        greater_is_better=False,\n",
        "        fp16=True\n",
        "    )\n",
        "\n",
        "\n",
        "    # define training loop\n",
        "    trainer = Trainer(\n",
        "        # model,\n",
        "        model=model,\n",
        "        args=training_args,\n",
        "        train_dataset=train_dataset,\n",
        "        eval_dataset=val_dataset,\n",
        "        compute_metrics=compute_metrics\n",
        "    )\n",
        "\n",
        "\n",
        "    # start training loop\n",
        "    trainer.train()\n"
      ],
      "metadata": {
        "id": "-C12X1pG4VPp"
      },
      "execution_count": 73,
      "outputs": []
    },
    {
      "cell_type": "code",
      "source": [
        "#models=[]\n",
        "for fold, (train_idx, val_idx) in enumerate(kfold.split(summaries_train['text'])):\n",
        "    print(f\"Fold {fold + 1}\")\n",
        "\n",
        "    train_encodings = {key: val[train_idx] for key, val in encodings.items()}\n",
        "    val_encodings = {key: val[val_idx] for key, val in encodings.items()}\n",
        "    train_labels = labels[train_idx]\n",
        "    val_labels = labels[val_idx]\n",
        "\n",
        "    # Initialize datasets\n",
        "    train_dataset = RegressionDataset(train_encodings, train_labels)\n",
        "    val_dataset = RegressionDataset(val_encodings, val_labels)\n",
        "\n",
        "    # Initialize the model for each fold\n",
        "    #model = BertForSequenceClassification.from_pretrained(\"bert-base-uncased\", num_labels=2)  # num_labels=2 for dual regression\n",
        "\n",
        "    wandb.agent(sweep_id, train, count=100)"
      ],
      "metadata": {
        "execution": {
          "iopub.status.busy": "2023-08-29T05:30:55.415596Z",
          "iopub.execute_input": "2023-08-29T05:30:55.416021Z"
        },
        "trusted": true,
        "id": "72htmTR1rUJO"
      },
      "execution_count": null,
      "outputs": []
    },
    {
      "cell_type": "markdown",
      "source": [
        "## Predict"
      ],
      "metadata": {
        "id": "0zdBxrk1rUJO"
      }
    },
    {
      "cell_type": "code",
      "source": [
        "with torch.no_grad():\n",
        "    test_ids = []\n",
        "    test_attention_mask = []\n",
        "    test_ids.append(test_encodings['input_ids'])\n",
        "    test_attention_mask.append(test_encodings['attention_mask'])\n",
        "    test_ids = torch.cat(test_ids, dim = 0)\n",
        "    test_attention_mask = torch.cat(test_attention_mask, dim = 0)\n",
        "    predictions = model(test_ids.to(device), token_type_ids = None, attention_mask = test_attention_mask.to(device)).logits"
      ],
      "metadata": {
        "trusted": true,
        "id": "PAmys1dvrUJO"
      },
      "execution_count": null,
      "outputs": []
    },
    {
      "cell_type": "code",
      "source": [
        "print(predictions)"
      ],
      "metadata": {
        "trusted": true,
        "id": "wSuGI_uFrUJP"
      },
      "execution_count": null,
      "outputs": []
    },
    {
      "cell_type": "markdown",
      "source": [
        "## Create Submission file"
      ],
      "metadata": {
        "id": "5VCAuz4yrUJP"
      }
    },
    {
      "cell_type": "code",
      "source": [
        "summaries_test[[\"content\", \"wording\"]]=predictions.cpu()\n",
        "summaries_test[[\"student_id\", \"content\", \"wording\"]].to_csv(\"submission.csv\", index=False)"
      ],
      "metadata": {
        "trusted": true,
        "id": "xvp5oLOErUJP"
      },
      "execution_count": null,
      "outputs": []
    },
    {
      "cell_type": "code",
      "source": [],
      "metadata": {
        "id": "IPkKebckrUJQ"
      },
      "execution_count": null,
      "outputs": []
    }
  ]
}