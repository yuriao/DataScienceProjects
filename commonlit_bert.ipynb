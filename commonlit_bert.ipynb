{
  "metadata": {
    "kernelspec": {
      "language": "python",
      "display_name": "Python 3",
      "name": "python3"
    },
    "language_info": {
      "name": "python",
      "version": "3.10.12",
      "mimetype": "text/x-python",
      "codemirror_mode": {
        "name": "ipython",
        "version": 3
      },
      "pygments_lexer": "ipython3",
      "nbconvert_exporter": "python",
      "file_extension": ".py"
    },
    "colab": {
      "provenance": [],
      "include_colab_link": true
    }
  },
  "nbformat_minor": 0,
  "nbformat": 4,
  "cells": [
    {
      "cell_type": "markdown",
      "metadata": {
        "id": "view-in-github",
        "colab_type": "text"
      },
      "source": [
        "<a href=\"https://colab.research.google.com/github/yuriao/DataScienceProjects/blob/main/commonlit_bert.ipynb\" target=\"_parent\"><img src=\"https://colab.research.google.com/assets/colab-badge.svg\" alt=\"Open In Colab\"/></a>"
      ]
    },
    {
      "cell_type": "markdown",
      "source": [
        "In this notebook, I will explore how to use basic BERT network for scoring, based only on students' response\n",
        "\n",
        "### References\n",
        "-"
      ],
      "metadata": {
        "id": "z6VFIFy5rUJC"
      }
    },
    {
      "cell_type": "markdown",
      "source": [
        "## Import libraries"
      ],
      "metadata": {
        "id": "E7LRcTYXrUJE"
      }
    },
    {
      "cell_type": "code",
      "source": [
        "import numpy as np # linear algebra\n",
        "import pandas as pd # data processing, CSV file I/O (e.g. pd.read_csv)\n",
        "import os\n",
        "import json\n",
        "import transformers\n",
        "from transformers import BertTokenizer, BertForSequenceClassification, Trainer, TrainingArguments, pipeline, AdamW\n",
        "from sklearn.metrics import mean_squared_error\n",
        "import torch\n",
        "from sklearn.model_selection import KFold\n",
        "from sklearn.metrics import mean_squared_error"
      ],
      "metadata": {
        "execution": {
          "iopub.status.busy": "2023-08-29T05:29:59.588632Z",
          "iopub.execute_input": "2023-08-29T05:29:59.589167Z",
          "iopub.status.idle": "2023-08-29T05:30:15.656088Z",
          "shell.execute_reply.started": "2023-08-29T05:29:59.589133Z",
          "shell.execute_reply": "2023-08-29T05:30:15.655105Z"
        },
        "trusted": true,
        "id": "uxFzs-FLrUJF",
        "outputId": "5dcf70aa-e546-40c4-ce4c-aa98b691f343"
      },
      "execution_count": null,
      "outputs": [
        {
          "name": "stderr",
          "text": "/opt/conda/lib/python3.10/site-packages/scipy/__init__.py:146: UserWarning: A NumPy version >=1.16.5 and <1.23.0 is required for this version of SciPy (detected version 1.23.5\n  warnings.warn(f\"A NumPy version >={np_minversion} and <{np_maxversion}\"\n/opt/conda/lib/python3.10/site-packages/tensorflow_io/python/ops/__init__.py:98: UserWarning: unable to load libtensorflow_io_plugins.so: unable to open file: libtensorflow_io_plugins.so, from paths: ['/opt/conda/lib/python3.10/site-packages/tensorflow_io/python/ops/libtensorflow_io_plugins.so']\ncaused by: ['/opt/conda/lib/python3.10/site-packages/tensorflow_io/python/ops/libtensorflow_io_plugins.so: undefined symbol: _ZN3tsl6StatusC1EN10tensorflow5error4CodeESt17basic_string_viewIcSt11char_traitsIcEENS_14SourceLocationE']\n  warnings.warn(f\"unable to load libtensorflow_io_plugins.so: {e}\")\n/opt/conda/lib/python3.10/site-packages/tensorflow_io/python/ops/__init__.py:104: UserWarning: file system plugins are not loaded: unable to open file: libtensorflow_io.so, from paths: ['/opt/conda/lib/python3.10/site-packages/tensorflow_io/python/ops/libtensorflow_io.so']\ncaused by: ['/opt/conda/lib/python3.10/site-packages/tensorflow_io/python/ops/libtensorflow_io.so: undefined symbol: _ZTVN10tensorflow13GcsFileSystemE']\n  warnings.warn(f\"file system plugins are not loaded: {e}\")\n",
          "output_type": "stream"
        }
      ]
    },
    {
      "cell_type": "code",
      "source": [
        "import logging\n",
        "import warnings\n",
        "warnings.simplefilter(\"ignore\")\n",
        "logging.disable(logging.ERROR)"
      ],
      "metadata": {
        "execution": {
          "iopub.status.busy": "2023-08-29T05:30:15.658038Z",
          "iopub.execute_input": "2023-08-29T05:30:15.658848Z",
          "iopub.status.idle": "2023-08-29T05:30:15.667134Z",
          "shell.execute_reply.started": "2023-08-29T05:30:15.658812Z",
          "shell.execute_reply": "2023-08-29T05:30:15.666008Z"
        },
        "trusted": true,
        "id": "PSHqkOmarUJG"
      },
      "execution_count": null,
      "outputs": []
    },
    {
      "cell_type": "markdown",
      "source": [
        "## Dataload"
      ],
      "metadata": {
        "id": "VUAAAwggrUJH"
      }
    },
    {
      "cell_type": "code",
      "source": [
        "DATA_DIR = \"/kaggle/input/commonlit-evaluate-student-summaries/\"\n",
        "\n",
        "#prompts_train = pd.read_csv(DATA_DIR + \"prompts_train.csv\")\n",
        "#prompts_test = pd.read_csv(DATA_DIR + \"prompts_test.csv\")\n",
        "summaries_train = pd.read_csv(DATA_DIR + \"summaries_train.csv\")\n",
        "summaries_test = pd.read_csv(DATA_DIR + \"summaries_test.csv\")\n",
        "sample_submission = pd.read_csv(DATA_DIR + \"sample_submission.csv\")\n"
      ],
      "metadata": {
        "execution": {
          "iopub.status.busy": "2023-08-29T05:30:15.668936Z",
          "iopub.execute_input": "2023-08-29T05:30:15.669270Z",
          "iopub.status.idle": "2023-08-29T05:30:15.772637Z",
          "shell.execute_reply.started": "2023-08-29T05:30:15.669238Z",
          "shell.execute_reply": "2023-08-29T05:30:15.771735Z"
        },
        "trusted": true,
        "id": "Jwf53Xr7rUJH"
      },
      "execution_count": null,
      "outputs": []
    },
    {
      "cell_type": "code",
      "source": [
        "summaries_train.head()"
      ],
      "metadata": {
        "execution": {
          "iopub.status.busy": "2023-08-29T05:30:15.775554Z",
          "iopub.execute_input": "2023-08-29T05:30:15.775801Z",
          "iopub.status.idle": "2023-08-29T05:30:15.795800Z",
          "shell.execute_reply.started": "2023-08-29T05:30:15.775771Z",
          "shell.execute_reply": "2023-08-29T05:30:15.794895Z"
        },
        "trusted": true,
        "id": "QBsu_E0srUJH",
        "outputId": "58362d07-e642-48eb-fa43-b36a413d3ed1"
      },
      "execution_count": null,
      "outputs": [
        {
          "execution_count": 4,
          "output_type": "execute_result",
          "data": {
            "text/plain": "     student_id prompt_id                                               text  \\\n0  000e8c3c7ddb    814d6b  The third wave was an experimentto see how peo...   \n1  0020ae56ffbf    ebad26  They would rub it up with soda to make the sme...   \n2  004e978e639e    3b9047  In Egypt, there were many occupations and soci...   \n3  005ab0199905    3b9047  The highest class was Pharaohs these people we...   \n4  0070c9e7af47    814d6b  The Third Wave developed  rapidly because the ...   \n\n    content   wording  \n0  0.205683  0.380538  \n1 -0.548304  0.506755  \n2  3.128928  4.231226  \n3 -0.210614 -0.471415  \n4  3.272894  3.219757  ",
            "text/html": "<div>\n<style scoped>\n    .dataframe tbody tr th:only-of-type {\n        vertical-align: middle;\n    }\n\n    .dataframe tbody tr th {\n        vertical-align: top;\n    }\n\n    .dataframe thead th {\n        text-align: right;\n    }\n</style>\n<table border=\"1\" class=\"dataframe\">\n  <thead>\n    <tr style=\"text-align: right;\">\n      <th></th>\n      <th>student_id</th>\n      <th>prompt_id</th>\n      <th>text</th>\n      <th>content</th>\n      <th>wording</th>\n    </tr>\n  </thead>\n  <tbody>\n    <tr>\n      <th>0</th>\n      <td>000e8c3c7ddb</td>\n      <td>814d6b</td>\n      <td>The third wave was an experimentto see how peo...</td>\n      <td>0.205683</td>\n      <td>0.380538</td>\n    </tr>\n    <tr>\n      <th>1</th>\n      <td>0020ae56ffbf</td>\n      <td>ebad26</td>\n      <td>They would rub it up with soda to make the sme...</td>\n      <td>-0.548304</td>\n      <td>0.506755</td>\n    </tr>\n    <tr>\n      <th>2</th>\n      <td>004e978e639e</td>\n      <td>3b9047</td>\n      <td>In Egypt, there were many occupations and soci...</td>\n      <td>3.128928</td>\n      <td>4.231226</td>\n    </tr>\n    <tr>\n      <th>3</th>\n      <td>005ab0199905</td>\n      <td>3b9047</td>\n      <td>The highest class was Pharaohs these people we...</td>\n      <td>-0.210614</td>\n      <td>-0.471415</td>\n    </tr>\n    <tr>\n      <th>4</th>\n      <td>0070c9e7af47</td>\n      <td>814d6b</td>\n      <td>The Third Wave developed  rapidly because the ...</td>\n      <td>3.272894</td>\n      <td>3.219757</td>\n    </tr>\n  </tbody>\n</table>\n</div>"
          },
          "metadata": {}
        }
      ]
    },
    {
      "cell_type": "markdown",
      "source": [
        "## EDA: Check nans"
      ],
      "metadata": {
        "id": "OcbrTfDbrUJI"
      }
    },
    {
      "cell_type": "code",
      "source": [
        "summaries_train.isna().sum()"
      ],
      "metadata": {
        "execution": {
          "iopub.status.busy": "2023-08-29T05:30:15.797108Z",
          "iopub.execute_input": "2023-08-29T05:30:15.797557Z",
          "iopub.status.idle": "2023-08-29T05:30:15.813699Z",
          "shell.execute_reply.started": "2023-08-29T05:30:15.797525Z",
          "shell.execute_reply": "2023-08-29T05:30:15.812577Z"
        },
        "trusted": true,
        "id": "MUvAMbcsrUJI",
        "outputId": "e34e6774-d924-472f-e9c3-480503daee28"
      },
      "execution_count": null,
      "outputs": [
        {
          "execution_count": 5,
          "output_type": "execute_result",
          "data": {
            "text/plain": "student_id    0\nprompt_id     0\ntext          0\ncontent       0\nwording       0\ndtype: int64"
          },
          "metadata": {}
        }
      ]
    },
    {
      "cell_type": "code",
      "source": [
        "summaries_test.isna().sum()"
      ],
      "metadata": {
        "execution": {
          "iopub.status.busy": "2023-08-29T05:30:15.815370Z",
          "iopub.execute_input": "2023-08-29T05:30:15.816015Z",
          "iopub.status.idle": "2023-08-29T05:30:15.824296Z",
          "shell.execute_reply.started": "2023-08-29T05:30:15.815961Z",
          "shell.execute_reply": "2023-08-29T05:30:15.823189Z"
        },
        "trusted": true,
        "id": "4Bu246YTrUJJ",
        "outputId": "5b0ec516-619b-4d8e-d22a-656175a6b2d9"
      },
      "execution_count": null,
      "outputs": [
        {
          "execution_count": 6,
          "output_type": "execute_result",
          "data": {
            "text/plain": "student_id    0\nprompt_id     0\ntext          0\ndtype: int64"
          },
          "metadata": {}
        }
      ]
    },
    {
      "cell_type": "markdown",
      "source": [
        "data is good"
      ],
      "metadata": {
        "id": "03HIK6iHrUJJ"
      }
    },
    {
      "cell_type": "markdown",
      "source": [
        "## Tokenizer and model"
      ],
      "metadata": {
        "id": "Trje7v_GrUJJ"
      }
    },
    {
      "cell_type": "code",
      "source": [
        "MODEL_DIR = \"/kaggle/input/huggingface-bert/\"\n",
        "tokenizer = BertTokenizer.from_pretrained(MODEL_DIR + \"bert-large-uncased\")\n",
        "model = BertForSequenceClassification.from_pretrained(MODEL_DIR + \"bert-large-uncased\", num_labels=2)"
      ],
      "metadata": {
        "execution": {
          "iopub.status.busy": "2023-08-29T05:30:15.825908Z",
          "iopub.execute_input": "2023-08-29T05:30:15.826243Z",
          "iopub.status.idle": "2023-08-29T05:30:31.461361Z",
          "shell.execute_reply.started": "2023-08-29T05:30:15.826205Z",
          "shell.execute_reply": "2023-08-29T05:30:31.460360Z"
        },
        "trusted": true,
        "id": "RQNe-oDprUJK"
      },
      "execution_count": null,
      "outputs": []
    },
    {
      "cell_type": "markdown",
      "source": [
        "## encoding training text"
      ],
      "metadata": {
        "id": "i1xXalDxrUJK"
      }
    },
    {
      "cell_type": "code",
      "source": [
        "encodings = tokenizer(list(summaries_train['text']), return_tensors=\"pt\", padding=True, truncation=True, max_length=512)\n",
        "test_encodings = tokenizer(list(summaries_test['text']), return_tensors=\"pt\", padding=True, truncation=True, max_length=512)"
      ],
      "metadata": {
        "execution": {
          "iopub.status.busy": "2023-08-29T05:30:31.463069Z",
          "iopub.execute_input": "2023-08-29T05:30:31.463395Z",
          "iopub.status.idle": "2023-08-29T05:30:55.336239Z",
          "shell.execute_reply.started": "2023-08-29T05:30:31.463360Z",
          "shell.execute_reply": "2023-08-29T05:30:55.335299Z"
        },
        "trusted": true,
        "id": "9IQKxtFarUJK"
      },
      "execution_count": null,
      "outputs": []
    },
    {
      "cell_type": "markdown",
      "source": [
        "## Convert scores to tensors"
      ],
      "metadata": {
        "id": "QkIfKRhOrUJK"
      }
    },
    {
      "cell_type": "code",
      "source": [
        "labels = torch.tensor(summaries_train[['content','wording']].values)"
      ],
      "metadata": {
        "execution": {
          "iopub.status.busy": "2023-08-29T05:30:55.337775Z",
          "iopub.execute_input": "2023-08-29T05:30:55.338043Z",
          "iopub.status.idle": "2023-08-29T05:30:55.347537Z",
          "shell.execute_reply.started": "2023-08-29T05:30:55.338008Z",
          "shell.execute_reply": "2023-08-29T05:30:55.346560Z"
        },
        "trusted": true,
        "id": "YQ75tC9SrUJL"
      },
      "execution_count": null,
      "outputs": []
    },
    {
      "cell_type": "markdown",
      "source": [
        "## to GPU"
      ],
      "metadata": {
        "id": "tu4XiH3lrUJL"
      }
    },
    {
      "cell_type": "code",
      "source": [
        "device = \"cuda:0\" if torch.cuda.is_available() else \"cpu\""
      ],
      "metadata": {
        "execution": {
          "iopub.status.busy": "2023-08-29T05:30:55.348852Z",
          "iopub.execute_input": "2023-08-29T05:30:55.349214Z",
          "iopub.status.idle": "2023-08-29T05:30:55.380373Z",
          "shell.execute_reply.started": "2023-08-29T05:30:55.349170Z",
          "shell.execute_reply": "2023-08-29T05:30:55.379378Z"
        },
        "trusted": true,
        "id": "TCfc5lSErUJL"
      },
      "execution_count": null,
      "outputs": []
    },
    {
      "cell_type": "markdown",
      "source": [
        "## Dataset class"
      ],
      "metadata": {
        "id": "JzvB45FLrUJM"
      }
    },
    {
      "cell_type": "code",
      "source": [
        "class RegressionDataset(torch.utils.data.Dataset):\n",
        "    def __init__(self, encodings, labels):\n",
        "        self.encodings = encodings\n",
        "        self.labels = labels\n",
        "\n",
        "    def __getitem__(self, idx):\n",
        "        item = {key: val[idx] for key, val in self.encodings.items()}\n",
        "        item[\"labels\"] = self.labels[idx]\n",
        "        return item\n",
        "\n",
        "    def __len__(self):\n",
        "        return len(self.labels)"
      ],
      "metadata": {
        "execution": {
          "iopub.status.busy": "2023-08-29T05:30:55.384503Z",
          "iopub.execute_input": "2023-08-29T05:30:55.385477Z",
          "iopub.status.idle": "2023-08-29T05:30:55.392103Z",
          "shell.execute_reply.started": "2023-08-29T05:30:55.385443Z",
          "shell.execute_reply": "2023-08-29T05:30:55.391163Z"
        },
        "trusted": true,
        "id": "WFEF5knTrUJM"
      },
      "execution_count": null,
      "outputs": []
    },
    {
      "cell_type": "markdown",
      "source": [
        "## fine-tuning metric"
      ],
      "metadata": {
        "id": "pVzWRKPtrUJM"
      }
    },
    {
      "cell_type": "code",
      "source": [
        "def compute_metrics(eval_pred):\n",
        "    predictions, labels = eval_pred\n",
        "    rmse = mean_squared_error(labels, predictions, squared=False)\n",
        "    return {\"rmse\": rmse}"
      ],
      "metadata": {
        "execution": {
          "iopub.status.busy": "2023-08-29T05:30:55.394791Z",
          "iopub.execute_input": "2023-08-29T05:30:55.395054Z",
          "iopub.status.idle": "2023-08-29T05:30:55.402201Z",
          "shell.execute_reply.started": "2023-08-29T05:30:55.394963Z",
          "shell.execute_reply": "2023-08-29T05:30:55.401322Z"
        },
        "trusted": true,
        "id": "37No6ZDhrUJN"
      },
      "execution_count": null,
      "outputs": []
    },
    {
      "cell_type": "markdown",
      "source": [
        "## kFold validation setup"
      ],
      "metadata": {
        "id": "5_wIn6CcrUJN"
      }
    },
    {
      "cell_type": "code",
      "source": [
        "n_splits = 5\n",
        "kfold = KFold(n_splits=n_splits, shuffle=True, random_state=42)"
      ],
      "metadata": {
        "execution": {
          "iopub.status.busy": "2023-08-29T05:30:55.403519Z",
          "iopub.execute_input": "2023-08-29T05:30:55.404132Z",
          "iopub.status.idle": "2023-08-29T05:30:55.413882Z",
          "shell.execute_reply.started": "2023-08-29T05:30:55.404096Z",
          "shell.execute_reply": "2023-08-29T05:30:55.412797Z"
        },
        "trusted": true,
        "id": "Nir6AHOgrUJN"
      },
      "execution_count": null,
      "outputs": []
    },
    {
      "cell_type": "markdown",
      "source": [
        "## kFold training"
      ],
      "metadata": {
        "id": "Qs9tn0YwrUJN"
      }
    },
    {
      "cell_type": "code",
      "source": [
        "for fold, (train_idx, val_idx) in enumerate(kfold.split(summaries_train['text'])):\n",
        "    print(f\"Fold {fold + 1}\")\n",
        "\n",
        "    train_encodings = {key: val[train_idx] for key, val in encodings.items()}\n",
        "    val_encodings = {key: val[val_idx] for key, val in encodings.items()}\n",
        "    train_labels = labels[train_idx]\n",
        "    val_labels = labels[val_idx]\n",
        "\n",
        "    # Initialize datasets\n",
        "    train_dataset = RegressionDataset(train_encodings, train_labels)\n",
        "    val_dataset = RegressionDataset(val_encodings, val_labels)\n",
        "\n",
        "    # Initialize the model for each fold\n",
        "    #model = BertForSequenceClassification.from_pretrained(\"bert-base-uncased\", num_labels=2)  # num_labels=2 for dual regression\n",
        "\n",
        "    # Training arguments and Trainer\n",
        "    training_args = TrainingArguments(\n",
        "        per_device_train_batch_size=4,\n",
        "        per_device_eval_batch_size=4,\n",
        "        num_train_epochs=10,\n",
        "        evaluation_strategy=\"epoch\",\n",
        "        output_dir=f'/kaggle/working/results/fold_{fold + 1}',\n",
        "        save_steps = 10000,\n",
        "        overwrite_output_dir=True,\n",
        "        metric_for_best_model=\"rmse\",\n",
        "        learning_rate=1.5e-5,\n",
        "        weight_decay=0.02,\n",
        "        greater_is_better=False,\n",
        "        report_to='none' # disable wandb utilization\n",
        "    )\n",
        "\n",
        "    trainer = Trainer(\n",
        "        model=model,\n",
        "        args=training_args,\n",
        "        train_dataset=train_dataset,\n",
        "        eval_dataset=val_dataset,\n",
        "        compute_metrics=compute_metrics\n",
        "    )\n",
        "\n",
        "    trainer.train()"
      ],
      "metadata": {
        "execution": {
          "iopub.status.busy": "2023-08-29T05:30:55.415596Z",
          "iopub.execute_input": "2023-08-29T05:30:55.416021Z"
        },
        "trusted": true,
        "id": "72htmTR1rUJO",
        "outputId": "9ded3593-8c9d-4a43-8b17-697e1bbaaa1a"
      },
      "execution_count": null,
      "outputs": [
        {
          "name": "stdout",
          "text": "Fold 1\n",
          "output_type": "stream"
        },
        {
          "output_type": "display_data",
          "data": {
            "text/plain": "<IPython.core.display.HTML object>",
            "text/html": "\n    <div>\n      \n      <progress value='10546' max='14330' style='width:300px; height:20px; vertical-align: middle;'></progress>\n      [10546/14330 2:29:29 < 53:38, 1.18 it/s, Epoch 7.36/10]\n    </div>\n    <table border=\"1\" class=\"dataframe\">\n  <thead>\n <tr style=\"text-align: left;\">\n      <th>Epoch</th>\n      <th>Training Loss</th>\n      <th>Validation Loss</th>\n      <th>Rmse</th>\n    </tr>\n  </thead>\n  <tbody>\n    <tr>\n      <td>1</td>\n      <td>-5.164400</td>\n      <td>-8.216731</td>\n      <td>16.851690</td>\n    </tr>\n    <tr>\n      <td>2</td>\n      <td>-11.495900</td>\n      <td>-13.965208</td>\n      <td>26.238828</td>\n    </tr>\n    <tr>\n      <td>3</td>\n      <td>-17.366900</td>\n      <td>-18.669228</td>\n      <td>38.660613</td>\n    </tr>\n    <tr>\n      <td>4</td>\n      <td>-22.695000</td>\n      <td>-22.467704</td>\n      <td>39.899844</td>\n    </tr>\n    <tr>\n      <td>5</td>\n      <td>-27.539400</td>\n      <td>-27.686000</td>\n      <td>51.682291</td>\n    </tr>\n    <tr>\n      <td>6</td>\n      <td>-32.233700</td>\n      <td>-30.322235</td>\n      <td>55.429360</td>\n    </tr>\n    <tr>\n      <td>7</td>\n      <td>-36.085300</td>\n      <td>-33.149878</td>\n      <td>62.483916</td>\n    </tr>\n  </tbody>\n</table><p>"
          },
          "metadata": {}
        }
      ]
    },
    {
      "cell_type": "markdown",
      "source": [
        "## Predict"
      ],
      "metadata": {
        "id": "0zdBxrk1rUJO"
      }
    },
    {
      "cell_type": "code",
      "source": [
        "with torch.no_grad():\n",
        "    test_ids = []\n",
        "    test_attention_mask = []\n",
        "    test_ids.append(test_encodings['input_ids'])\n",
        "    test_attention_mask.append(test_encodings['attention_mask'])\n",
        "    test_ids = torch.cat(test_ids, dim = 0)\n",
        "    test_attention_mask = torch.cat(test_attention_mask, dim = 0)\n",
        "    predictions = model(test_ids.to(device), token_type_ids = None, attention_mask = test_attention_mask.to(device)).logits"
      ],
      "metadata": {
        "trusted": true,
        "id": "PAmys1dvrUJO"
      },
      "execution_count": null,
      "outputs": []
    },
    {
      "cell_type": "code",
      "source": [
        "print(predictions)"
      ],
      "metadata": {
        "trusted": true,
        "id": "wSuGI_uFrUJP"
      },
      "execution_count": null,
      "outputs": []
    },
    {
      "cell_type": "markdown",
      "source": [
        "## Create Submission file"
      ],
      "metadata": {
        "id": "5VCAuz4yrUJP"
      }
    },
    {
      "cell_type": "code",
      "source": [
        "summaries_test[[\"content\", \"wording\"]]=predictions.cpu()\n",
        "summaries_test[[\"student_id\", \"content\", \"wording\"]].to_csv(\"submission.csv\", index=False)"
      ],
      "metadata": {
        "trusted": true,
        "id": "xvp5oLOErUJP"
      },
      "execution_count": null,
      "outputs": []
    },
    {
      "cell_type": "code",
      "source": [],
      "metadata": {
        "id": "IPkKebckrUJQ"
      },
      "execution_count": null,
      "outputs": []
    }
  ]
}